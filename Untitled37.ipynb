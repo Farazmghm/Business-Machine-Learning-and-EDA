{
  "nbformat": 4,
  "nbformat_minor": 0,
  "metadata": {
    "colab": {
      "provenance": [],
      "authorship_tag": "ABX9TyMvGr6h3MhyeCPAjW9grMod",
      "include_colab_link": true
    },
    "kernelspec": {
      "name": "python3",
      "display_name": "Python 3"
    },
    "language_info": {
      "name": "python"
    }
  },
  "cells": [
    {
      "cell_type": "markdown",
      "metadata": {
        "id": "view-in-github",
        "colab_type": "text"
      },
      "source": [
        "<a href=\"https://colab.research.google.com/github/Farazmghm/Business-Machine-Learning-and-EDA/blob/main/Untitled37.ipynb\" target=\"_parent\"><img src=\"https://colab.research.google.com/assets/colab-badge.svg\" alt=\"Open In Colab\"/></a>"
      ]
    },
    {
      "cell_type": "code",
      "source": [
        "from random import randint\n",
        "len=30\n",
        "rand=[randint(1,20)  for i in range(len)]\n",
        "print(rand)\n"
      ],
      "metadata": {
        "colab": {
          "base_uri": "https://localhost:8080/"
        },
        "id": "zUOLO6HCNgtf",
        "outputId": "aa172864-c6c7-42c8-f67f-8fc2f17b1acf"
      },
      "execution_count": 8,
      "outputs": [
        {
          "output_type": "stream",
          "name": "stdout",
          "text": [
            "[10, 4, 17, 20, 17, 3, 15, 18, 13, 1, 4, 5, 1, 6, 1, 5, 19, 4, 11, 18, 11, 8, 8, 7, 4, 11, 15, 13, 15, 1]\n"
          ]
        }
      ]
    },
    {
      "cell_type": "code",
      "source": [
        "for i in range(len-1):\n",
        "  min=i\n",
        "  for j in range(i+1,len):\n",
        "    if rand[min]> rand[j]:\n",
        "      min=j\n",
        "    rand[i],rand[min]=rand[min],rand[i]\n",
        "print(rand)"
      ],
      "metadata": {
        "colab": {
          "base_uri": "https://localhost:8080/"
        },
        "id": "9hrfVVANOAOG",
        "outputId": "21140956-fb9e-4a73-e178-463aa0f5a22d"
      },
      "execution_count": 12,
      "outputs": [
        {
          "output_type": "stream",
          "name": "stdout",
          "text": [
            "[1, 1, 1, 1, 3, 4, 4, 4, 4, 5, 5, 6, 7, 8, 8, 10, 11, 11, 11, 13, 13, 15, 15, 15, 17, 17, 18, 18, 19, 20]\n"
          ]
        }
      ]
    },
    {
      "cell_type": "code",
      "source": [],
      "metadata": {
        "id": "6eAN93CBQf5O"
      },
      "execution_count": null,
      "outputs": []
    }
  ]
}