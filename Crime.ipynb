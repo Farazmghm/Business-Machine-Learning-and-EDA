{
  "nbformat": 4,
  "nbformat_minor": 0,
  "metadata": {
    "colab": {
      "provenance": [],
      "toc_visible": true,
      "authorship_tag": "ABX9TyN35VVaZdaK8BSGxuDuhU5x",
      "include_colab_link": true
    },
    "kernelspec": {
      "name": "python3",
      "display_name": "Python 3"
    },
    "language_info": {
      "name": "python"
    }
  },
  "cells": [
    {
      "cell_type": "markdown",
      "metadata": {
        "id": "view-in-github",
        "colab_type": "text"
      },
      "source": [
        "<a href=\"https://colab.research.google.com/github/Farazmghm/Business-Machine-Learning-and-EDA/blob/main/Crime.ipynb\" target=\"_parent\"><img src=\"https://colab.research.google.com/assets/colab-badge.svg\" alt=\"Open In Colab\"/></a>"
      ]
    },
    {
      "cell_type": "markdown",
      "source": [
        "## Project Content\n",
        "\n",
        " 1. About Dataset\n",
        "        * 1.1 [Introduction]\n",
        "          * 1.1.1 [Attribute Information]\n",
        " 2. First organization\n",
        "         * 2.1 [required Pyhon Libraries]\n",
        "         * 2.2 [Loading Dataset]\n",
        "         * 2.3 [Exploration of Dataset]\n",
        "\n",
        "\n"
      ],
      "metadata": {
        "id": "arEVQAC-7j7x"
      }
    },
    {
      "cell_type": "markdown",
      "source": [
        "## 1. About Dataset\n",
        "* 1.1 Number of Instances: There are 506 data points.\n",
        "\n",
        "* 1.2 Number of Attributes: There are 13 attributes (features), which are all continuous (numeric) values. Additionally, there is 1 binary (0 or 1) attribute.\n",
        "\n",
        "####1.1.1. Attribute Information:\n",
        "\n",
        "A. CRIM: Crime rate per person by town.\n",
        "\n",
        "B. ZN: Proportion of land zoned for large residential lots (more than 25,000 sq. feet).\n",
        "\n",
        "C. INDUS: Proportion of land used for non-retail business by town.\n",
        "\n",
        "D. CHAS: Whether the town is near the Charles River (1 if yes, 0 if no).\n",
        "\n",
        "E. NOX: Nitric oxide pollution (parts per 10 million).\n",
        "\n",
        "F. RM: Average number of rooms per house.\n",
        "\n",
        "G. AGE: Proportion of houses built before 1940 that are owner-occupied.\n",
        "\n",
        "H. DIS: Weighted distances to five key employment centers in Boston.\n",
        "\n",
        "I. RAD: Accessibility to major highways.\n",
        "\n",
        "J. TAX: Property tax rate per $10,000.\n",
        "\n",
        "K. PTRATIO: Student-teacher ratio by town.\n",
        "\n",
        "L. B: A measure involving the proportion of the town's black population. (Calculated as 1000 * (Bk - 0.63)^2, where Bk is the proportion of black residents in the town).\n",
        "\n",
        "M. LSTAT: Percentage of the population that is of lower economic status.\n",
        "\n",
        "N. MEDV: Median value of owner-occupied homes in thousands of dollars."
      ],
      "metadata": {
        "id": "rae2zCfNz_rK"
      }
    },
    {
      "cell_type": "code",
      "execution_count": 2,
      "metadata": {
        "colab": {
          "base_uri": "https://localhost:8080/"
        },
        "id": "ckv6xWhByoP1",
        "outputId": "4399dcd7-aaca-4a71-bf85-10c182f546c6"
      },
      "outputs": [
        {
          "output_type": "stream",
          "name": "stdout",
          "text": [
            "Mounted at /content/drive\n"
          ]
        }
      ],
      "source": [
        "from google.colab import drive\n",
        "drive.mount('/content/drive')"
      ]
    },
    {
      "cell_type": "markdown",
      "source": [
        "### required Pyhon Libraries"
      ],
      "metadata": {
        "id": "i5abzUEdF9qz"
      }
    },
    {
      "cell_type": "code",
      "source": [
        "import numpy as np\n",
        "import pandas as pd\n",
        "import matplotlib.pyplot as plt\n",
        "import seaborn as sns\n",
        "%matplotlib inline"
      ],
      "metadata": {
        "id": "cXkvXKHgy11b"
      },
      "execution_count": 3,
      "outputs": []
    },
    {
      "cell_type": "markdown",
      "source": [
        "#### Loading Dataset"
      ],
      "metadata": {
        "id": "vBkojnSBHq5D"
      }
    },
    {
      "cell_type": "code",
      "source": [
        "df=pd.read_csv('/content/drive/MyDrive/data.csv')\n",
        "df"
      ],
      "metadata": {
        "colab": {
          "base_uri": "https://localhost:8080/",
          "height": 423
        },
        "id": "AxnsBPZJzTOk",
        "outputId": "0d473c47-a4fc-4b42-9c7a-06c61bd880a1"
      },
      "execution_count": 4,
      "outputs": [
        {
          "output_type": "execute_result",
          "data": {
            "text/plain": [
              "        CRIM    ZN  INDUS  CHAS    NOX     RM   AGE     DIS  RAD  TAX  \\\n",
              "0    0.00632  18.0   2.31     0  0.538  6.575  65.2  4.0900    1  296   \n",
              "1    0.02731   0.0   7.07     0  0.469  6.421  78.9  4.9671    2  242   \n",
              "2    0.02729   0.0   7.07     0  0.469  7.185  61.1  4.9671    2  242   \n",
              "3    0.03237   0.0   2.18     0  0.458  6.998  45.8  6.0622    3  222   \n",
              "4    0.06905   0.0   2.18     0  0.458  7.147  54.2  6.0622    3  222   \n",
              "..       ...   ...    ...   ...    ...    ...   ...     ...  ...  ...   \n",
              "506  0.98765   0.0  12.50     0  0.561  6.980  89.0  2.0980    3  320   \n",
              "507  0.23456   0.0  12.50     0  0.561  6.980  76.0  2.6540    3  320   \n",
              "508  0.44433   0.0  12.50     0  0.561  6.123  98.0  2.9870    3  320   \n",
              "509  0.77763   0.0  12.70     0  0.561  6.222  34.0  2.5430    3  329   \n",
              "510  0.65432   0.0  12.80     0  0.561  6.760  67.0  2.9870    3  345   \n",
              "\n",
              "     PTRATIO       B  LSTAT  MEDV  \n",
              "0       15.3  396.90   4.98  24.0  \n",
              "1       17.8  396.90   9.14  21.6  \n",
              "2       17.8  392.83   4.03  34.7  \n",
              "3       18.7  394.63   2.94  33.4  \n",
              "4       18.7  396.90   5.33  36.2  \n",
              "..       ...     ...    ...   ...  \n",
              "506     23.0  396.00  12.00  12.0  \n",
              "507     23.0  343.00  25.00  32.0  \n",
              "508     23.0  343.00  21.00  54.0  \n",
              "509     23.0  343.00  76.00  67.0  \n",
              "510     23.0  321.00  45.00  24.0  \n",
              "\n",
              "[511 rows x 14 columns]"
            ],
            "text/html": [
              "\n",
              "  <div id=\"df-275ba42c-15b6-4bb2-8ac5-6537e19182c9\" class=\"colab-df-container\">\n",
              "    <div>\n",
              "<style scoped>\n",
              "    .dataframe tbody tr th:only-of-type {\n",
              "        vertical-align: middle;\n",
              "    }\n",
              "\n",
              "    .dataframe tbody tr th {\n",
              "        vertical-align: top;\n",
              "    }\n",
              "\n",
              "    .dataframe thead th {\n",
              "        text-align: right;\n",
              "    }\n",
              "</style>\n",
              "<table border=\"1\" class=\"dataframe\">\n",
              "  <thead>\n",
              "    <tr style=\"text-align: right;\">\n",
              "      <th></th>\n",
              "      <th>CRIM</th>\n",
              "      <th>ZN</th>\n",
              "      <th>INDUS</th>\n",
              "      <th>CHAS</th>\n",
              "      <th>NOX</th>\n",
              "      <th>RM</th>\n",
              "      <th>AGE</th>\n",
              "      <th>DIS</th>\n",
              "      <th>RAD</th>\n",
              "      <th>TAX</th>\n",
              "      <th>PTRATIO</th>\n",
              "      <th>B</th>\n",
              "      <th>LSTAT</th>\n",
              "      <th>MEDV</th>\n",
              "    </tr>\n",
              "  </thead>\n",
              "  <tbody>\n",
              "    <tr>\n",
              "      <th>0</th>\n",
              "      <td>0.00632</td>\n",
              "      <td>18.0</td>\n",
              "      <td>2.31</td>\n",
              "      <td>0</td>\n",
              "      <td>0.538</td>\n",
              "      <td>6.575</td>\n",
              "      <td>65.2</td>\n",
              "      <td>4.0900</td>\n",
              "      <td>1</td>\n",
              "      <td>296</td>\n",
              "      <td>15.3</td>\n",
              "      <td>396.90</td>\n",
              "      <td>4.98</td>\n",
              "      <td>24.0</td>\n",
              "    </tr>\n",
              "    <tr>\n",
              "      <th>1</th>\n",
              "      <td>0.02731</td>\n",
              "      <td>0.0</td>\n",
              "      <td>7.07</td>\n",
              "      <td>0</td>\n",
              "      <td>0.469</td>\n",
              "      <td>6.421</td>\n",
              "      <td>78.9</td>\n",
              "      <td>4.9671</td>\n",
              "      <td>2</td>\n",
              "      <td>242</td>\n",
              "      <td>17.8</td>\n",
              "      <td>396.90</td>\n",
              "      <td>9.14</td>\n",
              "      <td>21.6</td>\n",
              "    </tr>\n",
              "    <tr>\n",
              "      <th>2</th>\n",
              "      <td>0.02729</td>\n",
              "      <td>0.0</td>\n",
              "      <td>7.07</td>\n",
              "      <td>0</td>\n",
              "      <td>0.469</td>\n",
              "      <td>7.185</td>\n",
              "      <td>61.1</td>\n",
              "      <td>4.9671</td>\n",
              "      <td>2</td>\n",
              "      <td>242</td>\n",
              "      <td>17.8</td>\n",
              "      <td>392.83</td>\n",
              "      <td>4.03</td>\n",
              "      <td>34.7</td>\n",
              "    </tr>\n",
              "    <tr>\n",
              "      <th>3</th>\n",
              "      <td>0.03237</td>\n",
              "      <td>0.0</td>\n",
              "      <td>2.18</td>\n",
              "      <td>0</td>\n",
              "      <td>0.458</td>\n",
              "      <td>6.998</td>\n",
              "      <td>45.8</td>\n",
              "      <td>6.0622</td>\n",
              "      <td>3</td>\n",
              "      <td>222</td>\n",
              "      <td>18.7</td>\n",
              "      <td>394.63</td>\n",
              "      <td>2.94</td>\n",
              "      <td>33.4</td>\n",
              "    </tr>\n",
              "    <tr>\n",
              "      <th>4</th>\n",
              "      <td>0.06905</td>\n",
              "      <td>0.0</td>\n",
              "      <td>2.18</td>\n",
              "      <td>0</td>\n",
              "      <td>0.458</td>\n",
              "      <td>7.147</td>\n",
              "      <td>54.2</td>\n",
              "      <td>6.0622</td>\n",
              "      <td>3</td>\n",
              "      <td>222</td>\n",
              "      <td>18.7</td>\n",
              "      <td>396.90</td>\n",
              "      <td>5.33</td>\n",
              "      <td>36.2</td>\n",
              "    </tr>\n",
              "    <tr>\n",
              "      <th>...</th>\n",
              "      <td>...</td>\n",
              "      <td>...</td>\n",
              "      <td>...</td>\n",
              "      <td>...</td>\n",
              "      <td>...</td>\n",
              "      <td>...</td>\n",
              "      <td>...</td>\n",
              "      <td>...</td>\n",
              "      <td>...</td>\n",
              "      <td>...</td>\n",
              "      <td>...</td>\n",
              "      <td>...</td>\n",
              "      <td>...</td>\n",
              "      <td>...</td>\n",
              "    </tr>\n",
              "    <tr>\n",
              "      <th>506</th>\n",
              "      <td>0.98765</td>\n",
              "      <td>0.0</td>\n",
              "      <td>12.50</td>\n",
              "      <td>0</td>\n",
              "      <td>0.561</td>\n",
              "      <td>6.980</td>\n",
              "      <td>89.0</td>\n",
              "      <td>2.0980</td>\n",
              "      <td>3</td>\n",
              "      <td>320</td>\n",
              "      <td>23.0</td>\n",
              "      <td>396.00</td>\n",
              "      <td>12.00</td>\n",
              "      <td>12.0</td>\n",
              "    </tr>\n",
              "    <tr>\n",
              "      <th>507</th>\n",
              "      <td>0.23456</td>\n",
              "      <td>0.0</td>\n",
              "      <td>12.50</td>\n",
              "      <td>0</td>\n",
              "      <td>0.561</td>\n",
              "      <td>6.980</td>\n",
              "      <td>76.0</td>\n",
              "      <td>2.6540</td>\n",
              "      <td>3</td>\n",
              "      <td>320</td>\n",
              "      <td>23.0</td>\n",
              "      <td>343.00</td>\n",
              "      <td>25.00</td>\n",
              "      <td>32.0</td>\n",
              "    </tr>\n",
              "    <tr>\n",
              "      <th>508</th>\n",
              "      <td>0.44433</td>\n",
              "      <td>0.0</td>\n",
              "      <td>12.50</td>\n",
              "      <td>0</td>\n",
              "      <td>0.561</td>\n",
              "      <td>6.123</td>\n",
              "      <td>98.0</td>\n",
              "      <td>2.9870</td>\n",
              "      <td>3</td>\n",
              "      <td>320</td>\n",
              "      <td>23.0</td>\n",
              "      <td>343.00</td>\n",
              "      <td>21.00</td>\n",
              "      <td>54.0</td>\n",
              "    </tr>\n",
              "    <tr>\n",
              "      <th>509</th>\n",
              "      <td>0.77763</td>\n",
              "      <td>0.0</td>\n",
              "      <td>12.70</td>\n",
              "      <td>0</td>\n",
              "      <td>0.561</td>\n",
              "      <td>6.222</td>\n",
              "      <td>34.0</td>\n",
              "      <td>2.5430</td>\n",
              "      <td>3</td>\n",
              "      <td>329</td>\n",
              "      <td>23.0</td>\n",
              "      <td>343.00</td>\n",
              "      <td>76.00</td>\n",
              "      <td>67.0</td>\n",
              "    </tr>\n",
              "    <tr>\n",
              "      <th>510</th>\n",
              "      <td>0.65432</td>\n",
              "      <td>0.0</td>\n",
              "      <td>12.80</td>\n",
              "      <td>0</td>\n",
              "      <td>0.561</td>\n",
              "      <td>6.760</td>\n",
              "      <td>67.0</td>\n",
              "      <td>2.9870</td>\n",
              "      <td>3</td>\n",
              "      <td>345</td>\n",
              "      <td>23.0</td>\n",
              "      <td>321.00</td>\n",
              "      <td>45.00</td>\n",
              "      <td>24.0</td>\n",
              "    </tr>\n",
              "  </tbody>\n",
              "</table>\n",
              "<p>511 rows × 14 columns</p>\n",
              "</div>\n",
              "    <div class=\"colab-df-buttons\">\n",
              "\n",
              "  <div class=\"colab-df-container\">\n",
              "    <button class=\"colab-df-convert\" onclick=\"convertToInteractive('df-275ba42c-15b6-4bb2-8ac5-6537e19182c9')\"\n",
              "            title=\"Convert this dataframe to an interactive table.\"\n",
              "            style=\"display:none;\">\n",
              "\n",
              "  <svg xmlns=\"http://www.w3.org/2000/svg\" height=\"24px\" viewBox=\"0 -960 960 960\">\n",
              "    <path d=\"M120-120v-720h720v720H120Zm60-500h600v-160H180v160Zm220 220h160v-160H400v160Zm0 220h160v-160H400v160ZM180-400h160v-160H180v160Zm440 0h160v-160H620v160ZM180-180h160v-160H180v160Zm440 0h160v-160H620v160Z\"/>\n",
              "  </svg>\n",
              "    </button>\n",
              "\n",
              "  <style>\n",
              "    .colab-df-container {\n",
              "      display:flex;\n",
              "      gap: 12px;\n",
              "    }\n",
              "\n",
              "    .colab-df-convert {\n",
              "      background-color: #E8F0FE;\n",
              "      border: none;\n",
              "      border-radius: 50%;\n",
              "      cursor: pointer;\n",
              "      display: none;\n",
              "      fill: #1967D2;\n",
              "      height: 32px;\n",
              "      padding: 0 0 0 0;\n",
              "      width: 32px;\n",
              "    }\n",
              "\n",
              "    .colab-df-convert:hover {\n",
              "      background-color: #E2EBFA;\n",
              "      box-shadow: 0px 1px 2px rgba(60, 64, 67, 0.3), 0px 1px 3px 1px rgba(60, 64, 67, 0.15);\n",
              "      fill: #174EA6;\n",
              "    }\n",
              "\n",
              "    .colab-df-buttons div {\n",
              "      margin-bottom: 4px;\n",
              "    }\n",
              "\n",
              "    [theme=dark] .colab-df-convert {\n",
              "      background-color: #3B4455;\n",
              "      fill: #D2E3FC;\n",
              "    }\n",
              "\n",
              "    [theme=dark] .colab-df-convert:hover {\n",
              "      background-color: #434B5C;\n",
              "      box-shadow: 0px 1px 3px 1px rgba(0, 0, 0, 0.15);\n",
              "      filter: drop-shadow(0px 1px 2px rgba(0, 0, 0, 0.3));\n",
              "      fill: #FFFFFF;\n",
              "    }\n",
              "  </style>\n",
              "\n",
              "    <script>\n",
              "      const buttonEl =\n",
              "        document.querySelector('#df-275ba42c-15b6-4bb2-8ac5-6537e19182c9 button.colab-df-convert');\n",
              "      buttonEl.style.display =\n",
              "        google.colab.kernel.accessAllowed ? 'block' : 'none';\n",
              "\n",
              "      async function convertToInteractive(key) {\n",
              "        const element = document.querySelector('#df-275ba42c-15b6-4bb2-8ac5-6537e19182c9');\n",
              "        const dataTable =\n",
              "          await google.colab.kernel.invokeFunction('convertToInteractive',\n",
              "                                                    [key], {});\n",
              "        if (!dataTable) return;\n",
              "\n",
              "        const docLinkHtml = 'Like what you see? Visit the ' +\n",
              "          '<a target=\"_blank\" href=https://colab.research.google.com/notebooks/data_table.ipynb>data table notebook</a>'\n",
              "          + ' to learn more about interactive tables.';\n",
              "        element.innerHTML = '';\n",
              "        dataTable['output_type'] = 'display_data';\n",
              "        await google.colab.output.renderOutput(dataTable, element);\n",
              "        const docLink = document.createElement('div');\n",
              "        docLink.innerHTML = docLinkHtml;\n",
              "        element.appendChild(docLink);\n",
              "      }\n",
              "    </script>\n",
              "  </div>\n",
              "\n",
              "\n",
              "<div id=\"df-a0112ed0-a878-47c1-abfb-20c8acaf05cc\">\n",
              "  <button class=\"colab-df-quickchart\" onclick=\"quickchart('df-a0112ed0-a878-47c1-abfb-20c8acaf05cc')\"\n",
              "            title=\"Suggest charts\"\n",
              "            style=\"display:none;\">\n",
              "\n",
              "<svg xmlns=\"http://www.w3.org/2000/svg\" height=\"24px\"viewBox=\"0 0 24 24\"\n",
              "     width=\"24px\">\n",
              "    <g>\n",
              "        <path d=\"M19 3H5c-1.1 0-2 .9-2 2v14c0 1.1.9 2 2 2h14c1.1 0 2-.9 2-2V5c0-1.1-.9-2-2-2zM9 17H7v-7h2v7zm4 0h-2V7h2v10zm4 0h-2v-4h2v4z\"/>\n",
              "    </g>\n",
              "</svg>\n",
              "  </button>\n",
              "\n",
              "<style>\n",
              "  .colab-df-quickchart {\n",
              "      --bg-color: #E8F0FE;\n",
              "      --fill-color: #1967D2;\n",
              "      --hover-bg-color: #E2EBFA;\n",
              "      --hover-fill-color: #174EA6;\n",
              "      --disabled-fill-color: #AAA;\n",
              "      --disabled-bg-color: #DDD;\n",
              "  }\n",
              "\n",
              "  [theme=dark] .colab-df-quickchart {\n",
              "      --bg-color: #3B4455;\n",
              "      --fill-color: #D2E3FC;\n",
              "      --hover-bg-color: #434B5C;\n",
              "      --hover-fill-color: #FFFFFF;\n",
              "      --disabled-bg-color: #3B4455;\n",
              "      --disabled-fill-color: #666;\n",
              "  }\n",
              "\n",
              "  .colab-df-quickchart {\n",
              "    background-color: var(--bg-color);\n",
              "    border: none;\n",
              "    border-radius: 50%;\n",
              "    cursor: pointer;\n",
              "    display: none;\n",
              "    fill: var(--fill-color);\n",
              "    height: 32px;\n",
              "    padding: 0;\n",
              "    width: 32px;\n",
              "  }\n",
              "\n",
              "  .colab-df-quickchart:hover {\n",
              "    background-color: var(--hover-bg-color);\n",
              "    box-shadow: 0 1px 2px rgba(60, 64, 67, 0.3), 0 1px 3px 1px rgba(60, 64, 67, 0.15);\n",
              "    fill: var(--button-hover-fill-color);\n",
              "  }\n",
              "\n",
              "  .colab-df-quickchart-complete:disabled,\n",
              "  .colab-df-quickchart-complete:disabled:hover {\n",
              "    background-color: var(--disabled-bg-color);\n",
              "    fill: var(--disabled-fill-color);\n",
              "    box-shadow: none;\n",
              "  }\n",
              "\n",
              "  .colab-df-spinner {\n",
              "    border: 2px solid var(--fill-color);\n",
              "    border-color: transparent;\n",
              "    border-bottom-color: var(--fill-color);\n",
              "    animation:\n",
              "      spin 1s steps(1) infinite;\n",
              "  }\n",
              "\n",
              "  @keyframes spin {\n",
              "    0% {\n",
              "      border-color: transparent;\n",
              "      border-bottom-color: var(--fill-color);\n",
              "      border-left-color: var(--fill-color);\n",
              "    }\n",
              "    20% {\n",
              "      border-color: transparent;\n",
              "      border-left-color: var(--fill-color);\n",
              "      border-top-color: var(--fill-color);\n",
              "    }\n",
              "    30% {\n",
              "      border-color: transparent;\n",
              "      border-left-color: var(--fill-color);\n",
              "      border-top-color: var(--fill-color);\n",
              "      border-right-color: var(--fill-color);\n",
              "    }\n",
              "    40% {\n",
              "      border-color: transparent;\n",
              "      border-right-color: var(--fill-color);\n",
              "      border-top-color: var(--fill-color);\n",
              "    }\n",
              "    60% {\n",
              "      border-color: transparent;\n",
              "      border-right-color: var(--fill-color);\n",
              "    }\n",
              "    80% {\n",
              "      border-color: transparent;\n",
              "      border-right-color: var(--fill-color);\n",
              "      border-bottom-color: var(--fill-color);\n",
              "    }\n",
              "    90% {\n",
              "      border-color: transparent;\n",
              "      border-bottom-color: var(--fill-color);\n",
              "    }\n",
              "  }\n",
              "</style>\n",
              "\n",
              "  <script>\n",
              "    async function quickchart(key) {\n",
              "      const quickchartButtonEl =\n",
              "        document.querySelector('#' + key + ' button');\n",
              "      quickchartButtonEl.disabled = true;  // To prevent multiple clicks.\n",
              "      quickchartButtonEl.classList.add('colab-df-spinner');\n",
              "      try {\n",
              "        const charts = await google.colab.kernel.invokeFunction(\n",
              "            'suggestCharts', [key], {});\n",
              "      } catch (error) {\n",
              "        console.error('Error during call to suggestCharts:', error);\n",
              "      }\n",
              "      quickchartButtonEl.classList.remove('colab-df-spinner');\n",
              "      quickchartButtonEl.classList.add('colab-df-quickchart-complete');\n",
              "    }\n",
              "    (() => {\n",
              "      let quickchartButtonEl =\n",
              "        document.querySelector('#df-a0112ed0-a878-47c1-abfb-20c8acaf05cc button');\n",
              "      quickchartButtonEl.style.display =\n",
              "        google.colab.kernel.accessAllowed ? 'block' : 'none';\n",
              "    })();\n",
              "  </script>\n",
              "</div>\n",
              "\n",
              "  <div id=\"id_f8ea1edd-ae51-4e71-8748-c03e3bd45252\">\n",
              "    <style>\n",
              "      .colab-df-generate {\n",
              "        background-color: #E8F0FE;\n",
              "        border: none;\n",
              "        border-radius: 50%;\n",
              "        cursor: pointer;\n",
              "        display: none;\n",
              "        fill: #1967D2;\n",
              "        height: 32px;\n",
              "        padding: 0 0 0 0;\n",
              "        width: 32px;\n",
              "      }\n",
              "\n",
              "      .colab-df-generate:hover {\n",
              "        background-color: #E2EBFA;\n",
              "        box-shadow: 0px 1px 2px rgba(60, 64, 67, 0.3), 0px 1px 3px 1px rgba(60, 64, 67, 0.15);\n",
              "        fill: #174EA6;\n",
              "      }\n",
              "\n",
              "      [theme=dark] .colab-df-generate {\n",
              "        background-color: #3B4455;\n",
              "        fill: #D2E3FC;\n",
              "      }\n",
              "\n",
              "      [theme=dark] .colab-df-generate:hover {\n",
              "        background-color: #434B5C;\n",
              "        box-shadow: 0px 1px 3px 1px rgba(0, 0, 0, 0.15);\n",
              "        filter: drop-shadow(0px 1px 2px rgba(0, 0, 0, 0.3));\n",
              "        fill: #FFFFFF;\n",
              "      }\n",
              "    </style>\n",
              "    <button class=\"colab-df-generate\" onclick=\"generateWithVariable('df')\"\n",
              "            title=\"Generate code using this dataframe.\"\n",
              "            style=\"display:none;\">\n",
              "\n",
              "  <svg xmlns=\"http://www.w3.org/2000/svg\" height=\"24px\"viewBox=\"0 0 24 24\"\n",
              "       width=\"24px\">\n",
              "    <path d=\"M7,19H8.4L18.45,9,17,7.55,7,17.6ZM5,21V16.75L18.45,3.32a2,2,0,0,1,2.83,0l1.4,1.43a1.91,1.91,0,0,1,.58,1.4,1.91,1.91,0,0,1-.58,1.4L9.25,21ZM18.45,9,17,7.55Zm-12,3A5.31,5.31,0,0,0,4.9,8.1,5.31,5.31,0,0,0,1,6.5,5.31,5.31,0,0,0,4.9,4.9,5.31,5.31,0,0,0,6.5,1,5.31,5.31,0,0,0,8.1,4.9,5.31,5.31,0,0,0,12,6.5,5.46,5.46,0,0,0,6.5,12Z\"/>\n",
              "  </svg>\n",
              "    </button>\n",
              "    <script>\n",
              "      (() => {\n",
              "      const buttonEl =\n",
              "        document.querySelector('#id_f8ea1edd-ae51-4e71-8748-c03e3bd45252 button.colab-df-generate');\n",
              "      buttonEl.style.display =\n",
              "        google.colab.kernel.accessAllowed ? 'block' : 'none';\n",
              "\n",
              "      buttonEl.onclick = () => {\n",
              "        google.colab.notebook.generateWithVariable('df');\n",
              "      }\n",
              "      })();\n",
              "    </script>\n",
              "  </div>\n",
              "\n",
              "    </div>\n",
              "  </div>\n"
            ],
            "application/vnd.google.colaboratory.intrinsic+json": {
              "type": "dataframe",
              "variable_name": "df",
              "summary": "{\n  \"name\": \"df\",\n  \"rows\": 511,\n  \"fields\": [\n    {\n      \"column\": \"CRIM\",\n      \"properties\": {\n        \"dtype\": \"number\",\n        \"std\": 8.564433333509855,\n        \"min\": 0.00632,\n        \"max\": 88.9762,\n        \"num_unique_values\": 509,\n        \"samples\": [\n          0.08387,\n          0.24522,\n          0.15086\n        ],\n        \"semantic_type\": \"\",\n        \"description\": \"\"\n      }\n    },\n    {\n      \"column\": \"ZN\",\n      \"properties\": {\n        \"dtype\": \"number\",\n        \"std\": 23.234838381032187,\n        \"min\": 0.0,\n        \"max\": 100.0,\n        \"num_unique_values\": 26,\n        \"samples\": [\n          25.0,\n          30.0,\n          18.0\n        ],\n        \"semantic_type\": \"\",\n        \"description\": \"\"\n      }\n    },\n    {\n      \"column\": \"INDUS\",\n      \"properties\": {\n        \"dtype\": \"number\",\n        \"std\": 6.828174588309387,\n        \"min\": 0.46,\n        \"max\": 27.74,\n        \"num_unique_values\": 79,\n        \"samples\": [\n          2.46,\n          2.31,\n          15.04\n        ],\n        \"semantic_type\": \"\",\n        \"description\": \"\"\n      }\n    },\n    {\n      \"column\": \"CHAS\",\n      \"properties\": {\n        \"dtype\": \"number\",\n        \"std\": 0,\n        \"min\": 0,\n        \"max\": 1,\n        \"num_unique_values\": 2,\n        \"samples\": [\n          1,\n          0\n        ],\n        \"semantic_type\": \"\",\n        \"description\": \"\"\n      }\n    },\n    {\n      \"column\": \"NOX\",\n      \"properties\": {\n        \"dtype\": \"number\",\n        \"std\": 0.11530992214681604,\n        \"min\": 0.385,\n        \"max\": 0.871,\n        \"num_unique_values\": 82,\n        \"samples\": [\n          0.401,\n          0.538\n        ],\n        \"semantic_type\": \"\",\n        \"description\": \"\"\n      }\n    },\n    {\n      \"column\": \"RM\",\n      \"properties\": {\n        \"dtype\": \"number\",\n        \"std\": 0.7038016463619768,\n        \"min\": 3.561,\n        \"max\": 8.78,\n        \"num_unique_values\": 444,\n        \"samples\": [\n          3.863,\n          5.012\n        ],\n        \"semantic_type\": \"\",\n        \"description\": \"\"\n      }\n    },\n    {\n      \"column\": \"AGE\",\n      \"properties\": {\n        \"dtype\": \"number\",\n        \"std\": 28.09913037471996,\n        \"min\": 2.9,\n        \"max\": 100.0,\n        \"num_unique_values\": 357,\n        \"samples\": [\n          84.6,\n          33.8\n        ],\n        \"semantic_type\": \"\",\n        \"description\": \"\"\n      }\n    },\n    {\n      \"column\": \"DIS\",\n      \"properties\": {\n        \"dtype\": \"number\",\n        \"std\": 2.09863136242663,\n        \"min\": 1.1296,\n        \"max\": 12.1265,\n        \"num_unique_values\": 416,\n        \"samples\": [\n          2.847,\n          1.4261\n        ],\n        \"semantic_type\": \"\",\n        \"description\": \"\"\n      }\n    },\n    {\n      \"column\": \"RAD\",\n      \"properties\": {\n        \"dtype\": \"number\",\n        \"std\": 8,\n        \"min\": 1,\n        \"max\": 24,\n        \"num_unique_values\": 9,\n        \"samples\": [\n          7,\n          2\n        ],\n        \"semantic_type\": \"\",\n        \"description\": \"\"\n      }\n    },\n    {\n      \"column\": \"TAX\",\n      \"properties\": {\n        \"dtype\": \"number\",\n        \"std\": 167,\n        \"min\": 187,\n        \"max\": 711,\n        \"num_unique_values\": 67,\n        \"samples\": [\n          300,\n          345\n        ],\n        \"semantic_type\": \"\",\n        \"description\": \"\"\n      }\n    },\n    {\n      \"column\": \"PTRATIO\",\n      \"properties\": {\n        \"dtype\": \"number\",\n        \"std\": 2.200347566127839,\n        \"min\": 12.6,\n        \"max\": 23.0,\n        \"num_unique_values\": 47,\n        \"samples\": [\n          12.6,\n          19.6\n        ],\n        \"semantic_type\": \"\",\n        \"description\": \"\"\n      }\n    },\n    {\n      \"column\": \"B\",\n      \"properties\": {\n        \"dtype\": \"number\",\n        \"std\": 90.88267879563416,\n        \"min\": 0.32,\n        \"max\": 396.9,\n        \"num_unique_values\": 360,\n        \"samples\": [\n          396.3,\n          395.11\n        ],\n        \"semantic_type\": \"\",\n        \"description\": \"\"\n      }\n    },\n    {\n      \"column\": \"LSTAT\",\n      \"properties\": {\n        \"dtype\": \"number\",\n        \"std\": 7.797415936527355,\n        \"min\": 1.73,\n        \"max\": 76.0,\n        \"num_unique_values\": 460,\n        \"samples\": [\n          27.26,\n          22.6\n        ],\n        \"semantic_type\": \"\",\n        \"description\": \"\"\n      }\n    },\n    {\n      \"column\": \"MEDV\",\n      \"properties\": {\n        \"dtype\": \"number\",\n        \"std\": 9.484262294196043,\n        \"min\": 5.0,\n        \"max\": 67.0,\n        \"num_unique_values\": 231,\n        \"samples\": [\n          8.7,\n          22.5\n        ],\n        \"semantic_type\": \"\",\n        \"description\": \"\"\n      }\n    }\n  ]\n}"
            }
          },
          "metadata": {},
          "execution_count": 4
        }
      ]
    },
    {
      "cell_type": "markdown",
      "source": [
        "#### Exploration of Dataset\n"
      ],
      "metadata": {
        "id": "EacVojtyH8nl"
      }
    },
    {
      "cell_type": "code",
      "source": [
        "df.head(10)\n",
        "df.tail(10)\n",
        "df.columns\n",
        "df.shape\n",
        "df.info()\n",
        "df.describe()\n",
        "df.isnull().sum()\n",
        "df.duplicated().sum()\n",
        "df.corr()\n",
        "df.skew()\n",
        "df.kurt()\n",
        "df.value_counts()\n",
        "df.dtypes\n",
        "df.nunique()"
      ],
      "metadata": {
        "colab": {
          "base_uri": "https://localhost:8080/",
          "height": 300
        },
        "id": "yuObkt5IzukT",
        "outputId": "c179a608-6af1-454e-c443-3ef291052040"
      },
      "execution_count": 78,
      "outputs": [
        {
          "output_type": "execute_result",
          "data": {
            "text/plain": [
              "          PTRATIO        CRIM        MEDV       LSTAT         NOX       INDUS  \\\n",
              "count  409.000000  409.000000  409.000000  409.000000  409.000000  409.000000   \n",
              "mean     2.914300    0.573541    3.001209    2.339800   -0.643885   -0.643885   \n",
              "std      0.110461    0.378125    0.301219    0.556475    0.186438    0.186438   \n",
              "min      2.610070    0.079498    1.974081    0.652325   -0.954512   -0.954512   \n",
              "25%      2.856470    0.264991    2.895912    1.927164   -0.805197   -0.805197   \n",
              "50%      2.926851    0.417684    3.031657    2.359910   -0.663588   -0.663588   \n",
              "75%      3.005683    0.908438    3.173878    2.757475   -0.515838   -0.515838   \n",
              "max      3.135494    1.653472    3.520461    3.421980   -0.138113   -0.138113   \n",
              "\n",
              "               RM         AGE         DIS         RAD         TAX  \n",
              "count  409.000000  409.000000  409.000000  409.000000  409.000000  \n",
              "mean     1.825665    7.882210    1.239959    1.664938    5.847753  \n",
              "std      0.072695    2.012975    0.521037    0.768241    0.347307  \n",
              "min      1.611835    1.702939    0.128393    0.000000    5.231109  \n",
              "25%      1.777322    6.442049    0.787275    1.386294    5.624018  \n",
              "50%      1.828252    8.479387    1.285092    1.609438    5.726848  \n",
              "75%      1.870263    9.669540    1.686529    1.791759    5.998937  \n",
              "max      2.004179   10.000000    2.221690    3.178054    6.566672  "
            ],
            "text/html": [
              "\n",
              "  <div id=\"df-5579f119-e8af-461c-a8d2-8a7a5c9df7ea\" class=\"colab-df-container\">\n",
              "    <div>\n",
              "<style scoped>\n",
              "    .dataframe tbody tr th:only-of-type {\n",
              "        vertical-align: middle;\n",
              "    }\n",
              "\n",
              "    .dataframe tbody tr th {\n",
              "        vertical-align: top;\n",
              "    }\n",
              "\n",
              "    .dataframe thead th {\n",
              "        text-align: right;\n",
              "    }\n",
              "</style>\n",
              "<table border=\"1\" class=\"dataframe\">\n",
              "  <thead>\n",
              "    <tr style=\"text-align: right;\">\n",
              "      <th></th>\n",
              "      <th>PTRATIO</th>\n",
              "      <th>CRIM</th>\n",
              "      <th>MEDV</th>\n",
              "      <th>LSTAT</th>\n",
              "      <th>NOX</th>\n",
              "      <th>INDUS</th>\n",
              "      <th>RM</th>\n",
              "      <th>AGE</th>\n",
              "      <th>DIS</th>\n",
              "      <th>RAD</th>\n",
              "      <th>TAX</th>\n",
              "    </tr>\n",
              "  </thead>\n",
              "  <tbody>\n",
              "    <tr>\n",
              "      <th>count</th>\n",
              "      <td>409.000000</td>\n",
              "      <td>409.000000</td>\n",
              "      <td>409.000000</td>\n",
              "      <td>409.000000</td>\n",
              "      <td>409.000000</td>\n",
              "      <td>409.000000</td>\n",
              "      <td>409.000000</td>\n",
              "      <td>409.000000</td>\n",
              "      <td>409.000000</td>\n",
              "      <td>409.000000</td>\n",
              "      <td>409.000000</td>\n",
              "    </tr>\n",
              "    <tr>\n",
              "      <th>mean</th>\n",
              "      <td>2.914300</td>\n",
              "      <td>0.573541</td>\n",
              "      <td>3.001209</td>\n",
              "      <td>2.339800</td>\n",
              "      <td>-0.643885</td>\n",
              "      <td>-0.643885</td>\n",
              "      <td>1.825665</td>\n",
              "      <td>7.882210</td>\n",
              "      <td>1.239959</td>\n",
              "      <td>1.664938</td>\n",
              "      <td>5.847753</td>\n",
              "    </tr>\n",
              "    <tr>\n",
              "      <th>std</th>\n",
              "      <td>0.110461</td>\n",
              "      <td>0.378125</td>\n",
              "      <td>0.301219</td>\n",
              "      <td>0.556475</td>\n",
              "      <td>0.186438</td>\n",
              "      <td>0.186438</td>\n",
              "      <td>0.072695</td>\n",
              "      <td>2.012975</td>\n",
              "      <td>0.521037</td>\n",
              "      <td>0.768241</td>\n",
              "      <td>0.347307</td>\n",
              "    </tr>\n",
              "    <tr>\n",
              "      <th>min</th>\n",
              "      <td>2.610070</td>\n",
              "      <td>0.079498</td>\n",
              "      <td>1.974081</td>\n",
              "      <td>0.652325</td>\n",
              "      <td>-0.954512</td>\n",
              "      <td>-0.954512</td>\n",
              "      <td>1.611835</td>\n",
              "      <td>1.702939</td>\n",
              "      <td>0.128393</td>\n",
              "      <td>0.000000</td>\n",
              "      <td>5.231109</td>\n",
              "    </tr>\n",
              "    <tr>\n",
              "      <th>25%</th>\n",
              "      <td>2.856470</td>\n",
              "      <td>0.264991</td>\n",
              "      <td>2.895912</td>\n",
              "      <td>1.927164</td>\n",
              "      <td>-0.805197</td>\n",
              "      <td>-0.805197</td>\n",
              "      <td>1.777322</td>\n",
              "      <td>6.442049</td>\n",
              "      <td>0.787275</td>\n",
              "      <td>1.386294</td>\n",
              "      <td>5.624018</td>\n",
              "    </tr>\n",
              "    <tr>\n",
              "      <th>50%</th>\n",
              "      <td>2.926851</td>\n",
              "      <td>0.417684</td>\n",
              "      <td>3.031657</td>\n",
              "      <td>2.359910</td>\n",
              "      <td>-0.663588</td>\n",
              "      <td>-0.663588</td>\n",
              "      <td>1.828252</td>\n",
              "      <td>8.479387</td>\n",
              "      <td>1.285092</td>\n",
              "      <td>1.609438</td>\n",
              "      <td>5.726848</td>\n",
              "    </tr>\n",
              "    <tr>\n",
              "      <th>75%</th>\n",
              "      <td>3.005683</td>\n",
              "      <td>0.908438</td>\n",
              "      <td>3.173878</td>\n",
              "      <td>2.757475</td>\n",
              "      <td>-0.515838</td>\n",
              "      <td>-0.515838</td>\n",
              "      <td>1.870263</td>\n",
              "      <td>9.669540</td>\n",
              "      <td>1.686529</td>\n",
              "      <td>1.791759</td>\n",
              "      <td>5.998937</td>\n",
              "    </tr>\n",
              "    <tr>\n",
              "      <th>max</th>\n",
              "      <td>3.135494</td>\n",
              "      <td>1.653472</td>\n",
              "      <td>3.520461</td>\n",
              "      <td>3.421980</td>\n",
              "      <td>-0.138113</td>\n",
              "      <td>-0.138113</td>\n",
              "      <td>2.004179</td>\n",
              "      <td>10.000000</td>\n",
              "      <td>2.221690</td>\n",
              "      <td>3.178054</td>\n",
              "      <td>6.566672</td>\n",
              "    </tr>\n",
              "  </tbody>\n",
              "</table>\n",
              "</div>\n",
              "    <div class=\"colab-df-buttons\">\n",
              "\n",
              "  <div class=\"colab-df-container\">\n",
              "    <button class=\"colab-df-convert\" onclick=\"convertToInteractive('df-5579f119-e8af-461c-a8d2-8a7a5c9df7ea')\"\n",
              "            title=\"Convert this dataframe to an interactive table.\"\n",
              "            style=\"display:none;\">\n",
              "\n",
              "  <svg xmlns=\"http://www.w3.org/2000/svg\" height=\"24px\" viewBox=\"0 -960 960 960\">\n",
              "    <path d=\"M120-120v-720h720v720H120Zm60-500h600v-160H180v160Zm220 220h160v-160H400v160Zm0 220h160v-160H400v160ZM180-400h160v-160H180v160Zm440 0h160v-160H620v160ZM180-180h160v-160H180v160Zm440 0h160v-160H620v160Z\"/>\n",
              "  </svg>\n",
              "    </button>\n",
              "\n",
              "  <style>\n",
              "    .colab-df-container {\n",
              "      display:flex;\n",
              "      gap: 12px;\n",
              "    }\n",
              "\n",
              "    .colab-df-convert {\n",
              "      background-color: #E8F0FE;\n",
              "      border: none;\n",
              "      border-radius: 50%;\n",
              "      cursor: pointer;\n",
              "      display: none;\n",
              "      fill: #1967D2;\n",
              "      height: 32px;\n",
              "      padding: 0 0 0 0;\n",
              "      width: 32px;\n",
              "    }\n",
              "\n",
              "    .colab-df-convert:hover {\n",
              "      background-color: #E2EBFA;\n",
              "      box-shadow: 0px 1px 2px rgba(60, 64, 67, 0.3), 0px 1px 3px 1px rgba(60, 64, 67, 0.15);\n",
              "      fill: #174EA6;\n",
              "    }\n",
              "\n",
              "    .colab-df-buttons div {\n",
              "      margin-bottom: 4px;\n",
              "    }\n",
              "\n",
              "    [theme=dark] .colab-df-convert {\n",
              "      background-color: #3B4455;\n",
              "      fill: #D2E3FC;\n",
              "    }\n",
              "\n",
              "    [theme=dark] .colab-df-convert:hover {\n",
              "      background-color: #434B5C;\n",
              "      box-shadow: 0px 1px 3px 1px rgba(0, 0, 0, 0.15);\n",
              "      filter: drop-shadow(0px 1px 2px rgba(0, 0, 0, 0.3));\n",
              "      fill: #FFFFFF;\n",
              "    }\n",
              "  </style>\n",
              "\n",
              "    <script>\n",
              "      const buttonEl =\n",
              "        document.querySelector('#df-5579f119-e8af-461c-a8d2-8a7a5c9df7ea button.colab-df-convert');\n",
              "      buttonEl.style.display =\n",
              "        google.colab.kernel.accessAllowed ? 'block' : 'none';\n",
              "\n",
              "      async function convertToInteractive(key) {\n",
              "        const element = document.querySelector('#df-5579f119-e8af-461c-a8d2-8a7a5c9df7ea');\n",
              "        const dataTable =\n",
              "          await google.colab.kernel.invokeFunction('convertToInteractive',\n",
              "                                                    [key], {});\n",
              "        if (!dataTable) return;\n",
              "\n",
              "        const docLinkHtml = 'Like what you see? Visit the ' +\n",
              "          '<a target=\"_blank\" href=https://colab.research.google.com/notebooks/data_table.ipynb>data table notebook</a>'\n",
              "          + ' to learn more about interactive tables.';\n",
              "        element.innerHTML = '';\n",
              "        dataTable['output_type'] = 'display_data';\n",
              "        await google.colab.output.renderOutput(dataTable, element);\n",
              "        const docLink = document.createElement('div');\n",
              "        docLink.innerHTML = docLinkHtml;\n",
              "        element.appendChild(docLink);\n",
              "      }\n",
              "    </script>\n",
              "  </div>\n",
              "\n",
              "\n",
              "<div id=\"df-b9798907-138a-49ae-adb9-ddc5a2a51090\">\n",
              "  <button class=\"colab-df-quickchart\" onclick=\"quickchart('df-b9798907-138a-49ae-adb9-ddc5a2a51090')\"\n",
              "            title=\"Suggest charts\"\n",
              "            style=\"display:none;\">\n",
              "\n",
              "<svg xmlns=\"http://www.w3.org/2000/svg\" height=\"24px\"viewBox=\"0 0 24 24\"\n",
              "     width=\"24px\">\n",
              "    <g>\n",
              "        <path d=\"M19 3H5c-1.1 0-2 .9-2 2v14c0 1.1.9 2 2 2h14c1.1 0 2-.9 2-2V5c0-1.1-.9-2-2-2zM9 17H7v-7h2v7zm4 0h-2V7h2v10zm4 0h-2v-4h2v4z\"/>\n",
              "    </g>\n",
              "</svg>\n",
              "  </button>\n",
              "\n",
              "<style>\n",
              "  .colab-df-quickchart {\n",
              "      --bg-color: #E8F0FE;\n",
              "      --fill-color: #1967D2;\n",
              "      --hover-bg-color: #E2EBFA;\n",
              "      --hover-fill-color: #174EA6;\n",
              "      --disabled-fill-color: #AAA;\n",
              "      --disabled-bg-color: #DDD;\n",
              "  }\n",
              "\n",
              "  [theme=dark] .colab-df-quickchart {\n",
              "      --bg-color: #3B4455;\n",
              "      --fill-color: #D2E3FC;\n",
              "      --hover-bg-color: #434B5C;\n",
              "      --hover-fill-color: #FFFFFF;\n",
              "      --disabled-bg-color: #3B4455;\n",
              "      --disabled-fill-color: #666;\n",
              "  }\n",
              "\n",
              "  .colab-df-quickchart {\n",
              "    background-color: var(--bg-color);\n",
              "    border: none;\n",
              "    border-radius: 50%;\n",
              "    cursor: pointer;\n",
              "    display: none;\n",
              "    fill: var(--fill-color);\n",
              "    height: 32px;\n",
              "    padding: 0;\n",
              "    width: 32px;\n",
              "  }\n",
              "\n",
              "  .colab-df-quickchart:hover {\n",
              "    background-color: var(--hover-bg-color);\n",
              "    box-shadow: 0 1px 2px rgba(60, 64, 67, 0.3), 0 1px 3px 1px rgba(60, 64, 67, 0.15);\n",
              "    fill: var(--button-hover-fill-color);\n",
              "  }\n",
              "\n",
              "  .colab-df-quickchart-complete:disabled,\n",
              "  .colab-df-quickchart-complete:disabled:hover {\n",
              "    background-color: var(--disabled-bg-color);\n",
              "    fill: var(--disabled-fill-color);\n",
              "    box-shadow: none;\n",
              "  }\n",
              "\n",
              "  .colab-df-spinner {\n",
              "    border: 2px solid var(--fill-color);\n",
              "    border-color: transparent;\n",
              "    border-bottom-color: var(--fill-color);\n",
              "    animation:\n",
              "      spin 1s steps(1) infinite;\n",
              "  }\n",
              "\n",
              "  @keyframes spin {\n",
              "    0% {\n",
              "      border-color: transparent;\n",
              "      border-bottom-color: var(--fill-color);\n",
              "      border-left-color: var(--fill-color);\n",
              "    }\n",
              "    20% {\n",
              "      border-color: transparent;\n",
              "      border-left-color: var(--fill-color);\n",
              "      border-top-color: var(--fill-color);\n",
              "    }\n",
              "    30% {\n",
              "      border-color: transparent;\n",
              "      border-left-color: var(--fill-color);\n",
              "      border-top-color: var(--fill-color);\n",
              "      border-right-color: var(--fill-color);\n",
              "    }\n",
              "    40% {\n",
              "      border-color: transparent;\n",
              "      border-right-color: var(--fill-color);\n",
              "      border-top-color: var(--fill-color);\n",
              "    }\n",
              "    60% {\n",
              "      border-color: transparent;\n",
              "      border-right-color: var(--fill-color);\n",
              "    }\n",
              "    80% {\n",
              "      border-color: transparent;\n",
              "      border-right-color: var(--fill-color);\n",
              "      border-bottom-color: var(--fill-color);\n",
              "    }\n",
              "    90% {\n",
              "      border-color: transparent;\n",
              "      border-bottom-color: var(--fill-color);\n",
              "    }\n",
              "  }\n",
              "</style>\n",
              "\n",
              "  <script>\n",
              "    async function quickchart(key) {\n",
              "      const quickchartButtonEl =\n",
              "        document.querySelector('#' + key + ' button');\n",
              "      quickchartButtonEl.disabled = true;  // To prevent multiple clicks.\n",
              "      quickchartButtonEl.classList.add('colab-df-spinner');\n",
              "      try {\n",
              "        const charts = await google.colab.kernel.invokeFunction(\n",
              "            'suggestCharts', [key], {});\n",
              "      } catch (error) {\n",
              "        console.error('Error during call to suggestCharts:', error);\n",
              "      }\n",
              "      quickchartButtonEl.classList.remove('colab-df-spinner');\n",
              "      quickchartButtonEl.classList.add('colab-df-quickchart-complete');\n",
              "    }\n",
              "    (() => {\n",
              "      let quickchartButtonEl =\n",
              "        document.querySelector('#df-b9798907-138a-49ae-adb9-ddc5a2a51090 button');\n",
              "      quickchartButtonEl.style.display =\n",
              "        google.colab.kernel.accessAllowed ? 'block' : 'none';\n",
              "    })();\n",
              "  </script>\n",
              "</div>\n",
              "\n",
              "    </div>\n",
              "  </div>\n"
            ],
            "application/vnd.google.colaboratory.intrinsic+json": {
              "type": "dataframe",
              "summary": "{\n  \"name\": \"df\",\n  \"rows\": 8,\n  \"fields\": [\n    {\n      \"column\": \"PTRATIO\",\n      \"properties\": {\n        \"dtype\": \"number\",\n        \"std\": 143.71986713129823,\n        \"min\": 0.11046113814762588,\n        \"max\": 409.0,\n        \"num_unique_values\": 8,\n        \"samples\": [\n          2.914300427955668,\n          2.926851002982283,\n          409.0\n        ],\n        \"semantic_type\": \"\",\n        \"description\": \"\"\n      }\n    },\n    {\n      \"column\": \"CRIM\",\n      \"properties\": {\n        \"dtype\": \"number\",\n        \"std\": 144.3882051446552,\n        \"min\": 0.07949842765740717,\n        \"max\": 409.0,\n        \"num_unique_values\": 8,\n        \"samples\": [\n          0.5735408704383836,\n          0.41768409115023764,\n          409.0\n        ],\n        \"semantic_type\": \"\",\n        \"description\": \"\"\n      }\n    },\n    {\n      \"column\": \"MEDV\",\n      \"properties\": {\n        \"dtype\": \"number\",\n        \"std\": 143.7029461299088,\n        \"min\": 0.301218574860415,\n        \"max\": 409.0,\n        \"num_unique_values\": 8,\n        \"samples\": [\n          3.0012091365482765,\n          3.031657008201983,\n          409.0\n        ],\n        \"semantic_type\": \"\",\n        \"description\": \"\"\n      }\n    },\n    {\n      \"column\": \"LSTAT\",\n      \"properties\": {\n        \"dtype\": \"number\",\n        \"std\": 143.8988144591784,\n        \"min\": 0.5564752875930896,\n        \"max\": 409.0,\n        \"num_unique_values\": 8,\n        \"samples\": [\n          2.3397999147845265,\n          2.359910159613315,\n          409.0\n        ],\n        \"semantic_type\": \"\",\n        \"description\": \"\"\n      }\n    },\n    {\n      \"column\": \"NOX\",\n      \"properties\": {\n        \"dtype\": \"number\",\n        \"std\": 144.78233426607005,\n        \"min\": -0.9545119446943529,\n        \"max\": 409.0,\n        \"num_unique_values\": 8,\n        \"samples\": [\n          -0.6438851431324695,\n          -0.6635883783184009,\n          409.0\n        ],\n        \"semantic_type\": \"\",\n        \"description\": \"\"\n      }\n    },\n    {\n      \"column\": \"INDUS\",\n      \"properties\": {\n        \"dtype\": \"number\",\n        \"std\": 144.78233426607005,\n        \"min\": -0.9545119446943529,\n        \"max\": 409.0,\n        \"num_unique_values\": 8,\n        \"samples\": [\n          -0.6438851431324695,\n          -0.6635883783184009,\n          409.0\n        ],\n        \"semantic_type\": \"\",\n        \"description\": \"\"\n      }\n    },\n    {\n      \"column\": \"RM\",\n      \"properties\": {\n        \"dtype\": \"number\",\n        \"std\": 144.04958481305957,\n        \"min\": 0.07269497563745043,\n        \"max\": 409.0,\n        \"num_unique_values\": 8,\n        \"samples\": [\n          1.8256647211408463,\n          1.8282521055870808,\n          409.0\n        ],\n        \"semantic_type\": \"\",\n        \"description\": \"\"\n      }\n    },\n    {\n      \"column\": \"AGE\",\n      \"properties\": {\n        \"dtype\": \"number\",\n        \"std\": 142.30617984202672,\n        \"min\": 1.70293863659264,\n        \"max\": 409.0,\n        \"num_unique_values\": 8,\n        \"samples\": [\n          7.882209817322577,\n          8.47938677028003,\n          409.0\n        ],\n        \"semantic_type\": \"\",\n        \"description\": \"\"\n      }\n    },\n    {\n      \"column\": \"DIS\",\n      \"properties\": {\n        \"dtype\": \"number\",\n        \"std\": 144.2073433281441,\n        \"min\": 0.128393214768399,\n        \"max\": 409.0,\n        \"num_unique_values\": 8,\n        \"samples\": [\n          1.2399591999462638,\n          1.285091855610728,\n          409.0\n        ],\n        \"semantic_type\": \"\",\n        \"description\": \"\"\n      }\n    },\n    {\n      \"column\": \"RAD\",\n      \"properties\": {\n        \"dtype\": \"number\",\n        \"std\": 144.08096606420787,\n        \"min\": 0.0,\n        \"max\": 409.0,\n        \"num_unique_values\": 8,\n        \"samples\": [\n          1.6649378662542202,\n          1.6094379124341003,\n          409.0\n        ],\n        \"semantic_type\": \"\",\n        \"description\": \"\"\n      }\n    },\n    {\n      \"column\": \"TAX\",\n      \"properties\": {\n        \"dtype\": \"number\",\n        \"std\": 142.83165319149992,\n        \"min\": 0.3473069109639205,\n        \"max\": 409.0,\n        \"num_unique_values\": 8,\n        \"samples\": [\n          5.847753221763536,\n          5.726847747587197,\n          409.0\n        ],\n        \"semantic_type\": \"\",\n        \"description\": \"\"\n      }\n    }\n  ]\n}"
            }
          },
          "metadata": {},
          "execution_count": 78
        }
      ]
    },
    {
      "cell_type": "markdown",
      "source": [
        "### Remove unuseful columns"
      ],
      "metadata": {
        "id": "BvekW41xagiR"
      }
    },
    {
      "cell_type": "code",
      "source": [
        "df=df.drop(['ZN','B','CHAS'], axis=1)\n",
        "df"
      ],
      "metadata": {
        "colab": {
          "base_uri": "https://localhost:8080/",
          "height": 423
        },
        "id": "fAsuJM64aetW",
        "outputId": "08c609f5-7bc1-4047-b0d5-7da0a5e943db"
      },
      "execution_count": 5,
      "outputs": [
        {
          "output_type": "execute_result",
          "data": {
            "text/plain": [
              "        CRIM  INDUS    NOX     RM   AGE     DIS  RAD  TAX  PTRATIO  LSTAT  \\\n",
              "0    0.00632   2.31  0.538  6.575  65.2  4.0900    1  296     15.3   4.98   \n",
              "1    0.02731   7.07  0.469  6.421  78.9  4.9671    2  242     17.8   9.14   \n",
              "2    0.02729   7.07  0.469  7.185  61.1  4.9671    2  242     17.8   4.03   \n",
              "3    0.03237   2.18  0.458  6.998  45.8  6.0622    3  222     18.7   2.94   \n",
              "4    0.06905   2.18  0.458  7.147  54.2  6.0622    3  222     18.7   5.33   \n",
              "..       ...    ...    ...    ...   ...     ...  ...  ...      ...    ...   \n",
              "506  0.98765  12.50  0.561  6.980  89.0  2.0980    3  320     23.0  12.00   \n",
              "507  0.23456  12.50  0.561  6.980  76.0  2.6540    3  320     23.0  25.00   \n",
              "508  0.44433  12.50  0.561  6.123  98.0  2.9870    3  320     23.0  21.00   \n",
              "509  0.77763  12.70  0.561  6.222  34.0  2.5430    3  329     23.0  76.00   \n",
              "510  0.65432  12.80  0.561  6.760  67.0  2.9870    3  345     23.0  45.00   \n",
              "\n",
              "     MEDV  \n",
              "0    24.0  \n",
              "1    21.6  \n",
              "2    34.7  \n",
              "3    33.4  \n",
              "4    36.2  \n",
              "..    ...  \n",
              "506  12.0  \n",
              "507  32.0  \n",
              "508  54.0  \n",
              "509  67.0  \n",
              "510  24.0  \n",
              "\n",
              "[511 rows x 11 columns]"
            ],
            "text/html": [
              "\n",
              "  <div id=\"df-fdadb0b8-ea78-43ed-8617-f4f11592dc98\" class=\"colab-df-container\">\n",
              "    <div>\n",
              "<style scoped>\n",
              "    .dataframe tbody tr th:only-of-type {\n",
              "        vertical-align: middle;\n",
              "    }\n",
              "\n",
              "    .dataframe tbody tr th {\n",
              "        vertical-align: top;\n",
              "    }\n",
              "\n",
              "    .dataframe thead th {\n",
              "        text-align: right;\n",
              "    }\n",
              "</style>\n",
              "<table border=\"1\" class=\"dataframe\">\n",
              "  <thead>\n",
              "    <tr style=\"text-align: right;\">\n",
              "      <th></th>\n",
              "      <th>CRIM</th>\n",
              "      <th>INDUS</th>\n",
              "      <th>NOX</th>\n",
              "      <th>RM</th>\n",
              "      <th>AGE</th>\n",
              "      <th>DIS</th>\n",
              "      <th>RAD</th>\n",
              "      <th>TAX</th>\n",
              "      <th>PTRATIO</th>\n",
              "      <th>LSTAT</th>\n",
              "      <th>MEDV</th>\n",
              "    </tr>\n",
              "  </thead>\n",
              "  <tbody>\n",
              "    <tr>\n",
              "      <th>0</th>\n",
              "      <td>0.00632</td>\n",
              "      <td>2.31</td>\n",
              "      <td>0.538</td>\n",
              "      <td>6.575</td>\n",
              "      <td>65.2</td>\n",
              "      <td>4.0900</td>\n",
              "      <td>1</td>\n",
              "      <td>296</td>\n",
              "      <td>15.3</td>\n",
              "      <td>4.98</td>\n",
              "      <td>24.0</td>\n",
              "    </tr>\n",
              "    <tr>\n",
              "      <th>1</th>\n",
              "      <td>0.02731</td>\n",
              "      <td>7.07</td>\n",
              "      <td>0.469</td>\n",
              "      <td>6.421</td>\n",
              "      <td>78.9</td>\n",
              "      <td>4.9671</td>\n",
              "      <td>2</td>\n",
              "      <td>242</td>\n",
              "      <td>17.8</td>\n",
              "      <td>9.14</td>\n",
              "      <td>21.6</td>\n",
              "    </tr>\n",
              "    <tr>\n",
              "      <th>2</th>\n",
              "      <td>0.02729</td>\n",
              "      <td>7.07</td>\n",
              "      <td>0.469</td>\n",
              "      <td>7.185</td>\n",
              "      <td>61.1</td>\n",
              "      <td>4.9671</td>\n",
              "      <td>2</td>\n",
              "      <td>242</td>\n",
              "      <td>17.8</td>\n",
              "      <td>4.03</td>\n",
              "      <td>34.7</td>\n",
              "    </tr>\n",
              "    <tr>\n",
              "      <th>3</th>\n",
              "      <td>0.03237</td>\n",
              "      <td>2.18</td>\n",
              "      <td>0.458</td>\n",
              "      <td>6.998</td>\n",
              "      <td>45.8</td>\n",
              "      <td>6.0622</td>\n",
              "      <td>3</td>\n",
              "      <td>222</td>\n",
              "      <td>18.7</td>\n",
              "      <td>2.94</td>\n",
              "      <td>33.4</td>\n",
              "    </tr>\n",
              "    <tr>\n",
              "      <th>4</th>\n",
              "      <td>0.06905</td>\n",
              "      <td>2.18</td>\n",
              "      <td>0.458</td>\n",
              "      <td>7.147</td>\n",
              "      <td>54.2</td>\n",
              "      <td>6.0622</td>\n",
              "      <td>3</td>\n",
              "      <td>222</td>\n",
              "      <td>18.7</td>\n",
              "      <td>5.33</td>\n",
              "      <td>36.2</td>\n",
              "    </tr>\n",
              "    <tr>\n",
              "      <th>...</th>\n",
              "      <td>...</td>\n",
              "      <td>...</td>\n",
              "      <td>...</td>\n",
              "      <td>...</td>\n",
              "      <td>...</td>\n",
              "      <td>...</td>\n",
              "      <td>...</td>\n",
              "      <td>...</td>\n",
              "      <td>...</td>\n",
              "      <td>...</td>\n",
              "      <td>...</td>\n",
              "    </tr>\n",
              "    <tr>\n",
              "      <th>506</th>\n",
              "      <td>0.98765</td>\n",
              "      <td>12.50</td>\n",
              "      <td>0.561</td>\n",
              "      <td>6.980</td>\n",
              "      <td>89.0</td>\n",
              "      <td>2.0980</td>\n",
              "      <td>3</td>\n",
              "      <td>320</td>\n",
              "      <td>23.0</td>\n",
              "      <td>12.00</td>\n",
              "      <td>12.0</td>\n",
              "    </tr>\n",
              "    <tr>\n",
              "      <th>507</th>\n",
              "      <td>0.23456</td>\n",
              "      <td>12.50</td>\n",
              "      <td>0.561</td>\n",
              "      <td>6.980</td>\n",
              "      <td>76.0</td>\n",
              "      <td>2.6540</td>\n",
              "      <td>3</td>\n",
              "      <td>320</td>\n",
              "      <td>23.0</td>\n",
              "      <td>25.00</td>\n",
              "      <td>32.0</td>\n",
              "    </tr>\n",
              "    <tr>\n",
              "      <th>508</th>\n",
              "      <td>0.44433</td>\n",
              "      <td>12.50</td>\n",
              "      <td>0.561</td>\n",
              "      <td>6.123</td>\n",
              "      <td>98.0</td>\n",
              "      <td>2.9870</td>\n",
              "      <td>3</td>\n",
              "      <td>320</td>\n",
              "      <td>23.0</td>\n",
              "      <td>21.00</td>\n",
              "      <td>54.0</td>\n",
              "    </tr>\n",
              "    <tr>\n",
              "      <th>509</th>\n",
              "      <td>0.77763</td>\n",
              "      <td>12.70</td>\n",
              "      <td>0.561</td>\n",
              "      <td>6.222</td>\n",
              "      <td>34.0</td>\n",
              "      <td>2.5430</td>\n",
              "      <td>3</td>\n",
              "      <td>329</td>\n",
              "      <td>23.0</td>\n",
              "      <td>76.00</td>\n",
              "      <td>67.0</td>\n",
              "    </tr>\n",
              "    <tr>\n",
              "      <th>510</th>\n",
              "      <td>0.65432</td>\n",
              "      <td>12.80</td>\n",
              "      <td>0.561</td>\n",
              "      <td>6.760</td>\n",
              "      <td>67.0</td>\n",
              "      <td>2.9870</td>\n",
              "      <td>3</td>\n",
              "      <td>345</td>\n",
              "      <td>23.0</td>\n",
              "      <td>45.00</td>\n",
              "      <td>24.0</td>\n",
              "    </tr>\n",
              "  </tbody>\n",
              "</table>\n",
              "<p>511 rows × 11 columns</p>\n",
              "</div>\n",
              "    <div class=\"colab-df-buttons\">\n",
              "\n",
              "  <div class=\"colab-df-container\">\n",
              "    <button class=\"colab-df-convert\" onclick=\"convertToInteractive('df-fdadb0b8-ea78-43ed-8617-f4f11592dc98')\"\n",
              "            title=\"Convert this dataframe to an interactive table.\"\n",
              "            style=\"display:none;\">\n",
              "\n",
              "  <svg xmlns=\"http://www.w3.org/2000/svg\" height=\"24px\" viewBox=\"0 -960 960 960\">\n",
              "    <path d=\"M120-120v-720h720v720H120Zm60-500h600v-160H180v160Zm220 220h160v-160H400v160Zm0 220h160v-160H400v160ZM180-400h160v-160H180v160Zm440 0h160v-160H620v160ZM180-180h160v-160H180v160Zm440 0h160v-160H620v160Z\"/>\n",
              "  </svg>\n",
              "    </button>\n",
              "\n",
              "  <style>\n",
              "    .colab-df-container {\n",
              "      display:flex;\n",
              "      gap: 12px;\n",
              "    }\n",
              "\n",
              "    .colab-df-convert {\n",
              "      background-color: #E8F0FE;\n",
              "      border: none;\n",
              "      border-radius: 50%;\n",
              "      cursor: pointer;\n",
              "      display: none;\n",
              "      fill: #1967D2;\n",
              "      height: 32px;\n",
              "      padding: 0 0 0 0;\n",
              "      width: 32px;\n",
              "    }\n",
              "\n",
              "    .colab-df-convert:hover {\n",
              "      background-color: #E2EBFA;\n",
              "      box-shadow: 0px 1px 2px rgba(60, 64, 67, 0.3), 0px 1px 3px 1px rgba(60, 64, 67, 0.15);\n",
              "      fill: #174EA6;\n",
              "    }\n",
              "\n",
              "    .colab-df-buttons div {\n",
              "      margin-bottom: 4px;\n",
              "    }\n",
              "\n",
              "    [theme=dark] .colab-df-convert {\n",
              "      background-color: #3B4455;\n",
              "      fill: #D2E3FC;\n",
              "    }\n",
              "\n",
              "    [theme=dark] .colab-df-convert:hover {\n",
              "      background-color: #434B5C;\n",
              "      box-shadow: 0px 1px 3px 1px rgba(0, 0, 0, 0.15);\n",
              "      filter: drop-shadow(0px 1px 2px rgba(0, 0, 0, 0.3));\n",
              "      fill: #FFFFFF;\n",
              "    }\n",
              "  </style>\n",
              "\n",
              "    <script>\n",
              "      const buttonEl =\n",
              "        document.querySelector('#df-fdadb0b8-ea78-43ed-8617-f4f11592dc98 button.colab-df-convert');\n",
              "      buttonEl.style.display =\n",
              "        google.colab.kernel.accessAllowed ? 'block' : 'none';\n",
              "\n",
              "      async function convertToInteractive(key) {\n",
              "        const element = document.querySelector('#df-fdadb0b8-ea78-43ed-8617-f4f11592dc98');\n",
              "        const dataTable =\n",
              "          await google.colab.kernel.invokeFunction('convertToInteractive',\n",
              "                                                    [key], {});\n",
              "        if (!dataTable) return;\n",
              "\n",
              "        const docLinkHtml = 'Like what you see? Visit the ' +\n",
              "          '<a target=\"_blank\" href=https://colab.research.google.com/notebooks/data_table.ipynb>data table notebook</a>'\n",
              "          + ' to learn more about interactive tables.';\n",
              "        element.innerHTML = '';\n",
              "        dataTable['output_type'] = 'display_data';\n",
              "        await google.colab.output.renderOutput(dataTable, element);\n",
              "        const docLink = document.createElement('div');\n",
              "        docLink.innerHTML = docLinkHtml;\n",
              "        element.appendChild(docLink);\n",
              "      }\n",
              "    </script>\n",
              "  </div>\n",
              "\n",
              "\n",
              "<div id=\"df-b04af6f9-67ea-4f0d-b3ab-e64c3ff16897\">\n",
              "  <button class=\"colab-df-quickchart\" onclick=\"quickchart('df-b04af6f9-67ea-4f0d-b3ab-e64c3ff16897')\"\n",
              "            title=\"Suggest charts\"\n",
              "            style=\"display:none;\">\n",
              "\n",
              "<svg xmlns=\"http://www.w3.org/2000/svg\" height=\"24px\"viewBox=\"0 0 24 24\"\n",
              "     width=\"24px\">\n",
              "    <g>\n",
              "        <path d=\"M19 3H5c-1.1 0-2 .9-2 2v14c0 1.1.9 2 2 2h14c1.1 0 2-.9 2-2V5c0-1.1-.9-2-2-2zM9 17H7v-7h2v7zm4 0h-2V7h2v10zm4 0h-2v-4h2v4z\"/>\n",
              "    </g>\n",
              "</svg>\n",
              "  </button>\n",
              "\n",
              "<style>\n",
              "  .colab-df-quickchart {\n",
              "      --bg-color: #E8F0FE;\n",
              "      --fill-color: #1967D2;\n",
              "      --hover-bg-color: #E2EBFA;\n",
              "      --hover-fill-color: #174EA6;\n",
              "      --disabled-fill-color: #AAA;\n",
              "      --disabled-bg-color: #DDD;\n",
              "  }\n",
              "\n",
              "  [theme=dark] .colab-df-quickchart {\n",
              "      --bg-color: #3B4455;\n",
              "      --fill-color: #D2E3FC;\n",
              "      --hover-bg-color: #434B5C;\n",
              "      --hover-fill-color: #FFFFFF;\n",
              "      --disabled-bg-color: #3B4455;\n",
              "      --disabled-fill-color: #666;\n",
              "  }\n",
              "\n",
              "  .colab-df-quickchart {\n",
              "    background-color: var(--bg-color);\n",
              "    border: none;\n",
              "    border-radius: 50%;\n",
              "    cursor: pointer;\n",
              "    display: none;\n",
              "    fill: var(--fill-color);\n",
              "    height: 32px;\n",
              "    padding: 0;\n",
              "    width: 32px;\n",
              "  }\n",
              "\n",
              "  .colab-df-quickchart:hover {\n",
              "    background-color: var(--hover-bg-color);\n",
              "    box-shadow: 0 1px 2px rgba(60, 64, 67, 0.3), 0 1px 3px 1px rgba(60, 64, 67, 0.15);\n",
              "    fill: var(--button-hover-fill-color);\n",
              "  }\n",
              "\n",
              "  .colab-df-quickchart-complete:disabled,\n",
              "  .colab-df-quickchart-complete:disabled:hover {\n",
              "    background-color: var(--disabled-bg-color);\n",
              "    fill: var(--disabled-fill-color);\n",
              "    box-shadow: none;\n",
              "  }\n",
              "\n",
              "  .colab-df-spinner {\n",
              "    border: 2px solid var(--fill-color);\n",
              "    border-color: transparent;\n",
              "    border-bottom-color: var(--fill-color);\n",
              "    animation:\n",
              "      spin 1s steps(1) infinite;\n",
              "  }\n",
              "\n",
              "  @keyframes spin {\n",
              "    0% {\n",
              "      border-color: transparent;\n",
              "      border-bottom-color: var(--fill-color);\n",
              "      border-left-color: var(--fill-color);\n",
              "    }\n",
              "    20% {\n",
              "      border-color: transparent;\n",
              "      border-left-color: var(--fill-color);\n",
              "      border-top-color: var(--fill-color);\n",
              "    }\n",
              "    30% {\n",
              "      border-color: transparent;\n",
              "      border-left-color: var(--fill-color);\n",
              "      border-top-color: var(--fill-color);\n",
              "      border-right-color: var(--fill-color);\n",
              "    }\n",
              "    40% {\n",
              "      border-color: transparent;\n",
              "      border-right-color: var(--fill-color);\n",
              "      border-top-color: var(--fill-color);\n",
              "    }\n",
              "    60% {\n",
              "      border-color: transparent;\n",
              "      border-right-color: var(--fill-color);\n",
              "    }\n",
              "    80% {\n",
              "      border-color: transparent;\n",
              "      border-right-color: var(--fill-color);\n",
              "      border-bottom-color: var(--fill-color);\n",
              "    }\n",
              "    90% {\n",
              "      border-color: transparent;\n",
              "      border-bottom-color: var(--fill-color);\n",
              "    }\n",
              "  }\n",
              "</style>\n",
              "\n",
              "  <script>\n",
              "    async function quickchart(key) {\n",
              "      const quickchartButtonEl =\n",
              "        document.querySelector('#' + key + ' button');\n",
              "      quickchartButtonEl.disabled = true;  // To prevent multiple clicks.\n",
              "      quickchartButtonEl.classList.add('colab-df-spinner');\n",
              "      try {\n",
              "        const charts = await google.colab.kernel.invokeFunction(\n",
              "            'suggestCharts', [key], {});\n",
              "      } catch (error) {\n",
              "        console.error('Error during call to suggestCharts:', error);\n",
              "      }\n",
              "      quickchartButtonEl.classList.remove('colab-df-spinner');\n",
              "      quickchartButtonEl.classList.add('colab-df-quickchart-complete');\n",
              "    }\n",
              "    (() => {\n",
              "      let quickchartButtonEl =\n",
              "        document.querySelector('#df-b04af6f9-67ea-4f0d-b3ab-e64c3ff16897 button');\n",
              "      quickchartButtonEl.style.display =\n",
              "        google.colab.kernel.accessAllowed ? 'block' : 'none';\n",
              "    })();\n",
              "  </script>\n",
              "</div>\n",
              "\n",
              "  <div id=\"id_a9fefcde-09cf-42f4-9039-31737f37621d\">\n",
              "    <style>\n",
              "      .colab-df-generate {\n",
              "        background-color: #E8F0FE;\n",
              "        border: none;\n",
              "        border-radius: 50%;\n",
              "        cursor: pointer;\n",
              "        display: none;\n",
              "        fill: #1967D2;\n",
              "        height: 32px;\n",
              "        padding: 0 0 0 0;\n",
              "        width: 32px;\n",
              "      }\n",
              "\n",
              "      .colab-df-generate:hover {\n",
              "        background-color: #E2EBFA;\n",
              "        box-shadow: 0px 1px 2px rgba(60, 64, 67, 0.3), 0px 1px 3px 1px rgba(60, 64, 67, 0.15);\n",
              "        fill: #174EA6;\n",
              "      }\n",
              "\n",
              "      [theme=dark] .colab-df-generate {\n",
              "        background-color: #3B4455;\n",
              "        fill: #D2E3FC;\n",
              "      }\n",
              "\n",
              "      [theme=dark] .colab-df-generate:hover {\n",
              "        background-color: #434B5C;\n",
              "        box-shadow: 0px 1px 3px 1px rgba(0, 0, 0, 0.15);\n",
              "        filter: drop-shadow(0px 1px 2px rgba(0, 0, 0, 0.3));\n",
              "        fill: #FFFFFF;\n",
              "      }\n",
              "    </style>\n",
              "    <button class=\"colab-df-generate\" onclick=\"generateWithVariable('df')\"\n",
              "            title=\"Generate code using this dataframe.\"\n",
              "            style=\"display:none;\">\n",
              "\n",
              "  <svg xmlns=\"http://www.w3.org/2000/svg\" height=\"24px\"viewBox=\"0 0 24 24\"\n",
              "       width=\"24px\">\n",
              "    <path d=\"M7,19H8.4L18.45,9,17,7.55,7,17.6ZM5,21V16.75L18.45,3.32a2,2,0,0,1,2.83,0l1.4,1.43a1.91,1.91,0,0,1,.58,1.4,1.91,1.91,0,0,1-.58,1.4L9.25,21ZM18.45,9,17,7.55Zm-12,3A5.31,5.31,0,0,0,4.9,8.1,5.31,5.31,0,0,0,1,6.5,5.31,5.31,0,0,0,4.9,4.9,5.31,5.31,0,0,0,6.5,1,5.31,5.31,0,0,0,8.1,4.9,5.31,5.31,0,0,0,12,6.5,5.46,5.46,0,0,0,6.5,12Z\"/>\n",
              "  </svg>\n",
              "    </button>\n",
              "    <script>\n",
              "      (() => {\n",
              "      const buttonEl =\n",
              "        document.querySelector('#id_a9fefcde-09cf-42f4-9039-31737f37621d button.colab-df-generate');\n",
              "      buttonEl.style.display =\n",
              "        google.colab.kernel.accessAllowed ? 'block' : 'none';\n",
              "\n",
              "      buttonEl.onclick = () => {\n",
              "        google.colab.notebook.generateWithVariable('df');\n",
              "      }\n",
              "      })();\n",
              "    </script>\n",
              "  </div>\n",
              "\n",
              "    </div>\n",
              "  </div>\n"
            ],
            "application/vnd.google.colaboratory.intrinsic+json": {
              "type": "dataframe",
              "variable_name": "df",
              "summary": "{\n  \"name\": \"df\",\n  \"rows\": 511,\n  \"fields\": [\n    {\n      \"column\": \"CRIM\",\n      \"properties\": {\n        \"dtype\": \"number\",\n        \"std\": 8.564433333509855,\n        \"min\": 0.00632,\n        \"max\": 88.9762,\n        \"num_unique_values\": 509,\n        \"samples\": [\n          0.08387,\n          0.24522,\n          0.15086\n        ],\n        \"semantic_type\": \"\",\n        \"description\": \"\"\n      }\n    },\n    {\n      \"column\": \"INDUS\",\n      \"properties\": {\n        \"dtype\": \"number\",\n        \"std\": 6.828174588309387,\n        \"min\": 0.46,\n        \"max\": 27.74,\n        \"num_unique_values\": 79,\n        \"samples\": [\n          2.46,\n          2.31,\n          15.04\n        ],\n        \"semantic_type\": \"\",\n        \"description\": \"\"\n      }\n    },\n    {\n      \"column\": \"NOX\",\n      \"properties\": {\n        \"dtype\": \"number\",\n        \"std\": 0.11530992214681604,\n        \"min\": 0.385,\n        \"max\": 0.871,\n        \"num_unique_values\": 82,\n        \"samples\": [\n          0.401,\n          0.538,\n          0.52\n        ],\n        \"semantic_type\": \"\",\n        \"description\": \"\"\n      }\n    },\n    {\n      \"column\": \"RM\",\n      \"properties\": {\n        \"dtype\": \"number\",\n        \"std\": 0.7038016463619768,\n        \"min\": 3.561,\n        \"max\": 8.78,\n        \"num_unique_values\": 444,\n        \"samples\": [\n          3.863,\n          5.012,\n          6.232\n        ],\n        \"semantic_type\": \"\",\n        \"description\": \"\"\n      }\n    },\n    {\n      \"column\": \"AGE\",\n      \"properties\": {\n        \"dtype\": \"number\",\n        \"std\": 28.09913037471996,\n        \"min\": 2.9,\n        \"max\": 100.0,\n        \"num_unique_values\": 357,\n        \"samples\": [\n          84.6,\n          33.8,\n          44.4\n        ],\n        \"semantic_type\": \"\",\n        \"description\": \"\"\n      }\n    },\n    {\n      \"column\": \"DIS\",\n      \"properties\": {\n        \"dtype\": \"number\",\n        \"std\": 2.09863136242663,\n        \"min\": 1.1296,\n        \"max\": 12.1265,\n        \"num_unique_values\": 416,\n        \"samples\": [\n          2.847,\n          1.4261,\n          2.3889\n        ],\n        \"semantic_type\": \"\",\n        \"description\": \"\"\n      }\n    },\n    {\n      \"column\": \"RAD\",\n      \"properties\": {\n        \"dtype\": \"number\",\n        \"std\": 8,\n        \"min\": 1,\n        \"max\": 24,\n        \"num_unique_values\": 9,\n        \"samples\": [\n          7,\n          2,\n          8\n        ],\n        \"semantic_type\": \"\",\n        \"description\": \"\"\n      }\n    },\n    {\n      \"column\": \"TAX\",\n      \"properties\": {\n        \"dtype\": \"number\",\n        \"std\": 167,\n        \"min\": 187,\n        \"max\": 711,\n        \"num_unique_values\": 67,\n        \"samples\": [\n          300,\n          345,\n          307\n        ],\n        \"semantic_type\": \"\",\n        \"description\": \"\"\n      }\n    },\n    {\n      \"column\": \"PTRATIO\",\n      \"properties\": {\n        \"dtype\": \"number\",\n        \"std\": 2.200347566127839,\n        \"min\": 12.6,\n        \"max\": 23.0,\n        \"num_unique_values\": 47,\n        \"samples\": [\n          12.6,\n          19.6,\n          14.4\n        ],\n        \"semantic_type\": \"\",\n        \"description\": \"\"\n      }\n    },\n    {\n      \"column\": \"LSTAT\",\n      \"properties\": {\n        \"dtype\": \"number\",\n        \"std\": 7.797415936527355,\n        \"min\": 1.73,\n        \"max\": 76.0,\n        \"num_unique_values\": 460,\n        \"samples\": [\n          27.26,\n          22.6,\n          10.97\n        ],\n        \"semantic_type\": \"\",\n        \"description\": \"\"\n      }\n    },\n    {\n      \"column\": \"MEDV\",\n      \"properties\": {\n        \"dtype\": \"number\",\n        \"std\": 9.484262294196043,\n        \"min\": 5.0,\n        \"max\": 67.0,\n        \"num_unique_values\": 231,\n        \"samples\": [\n          8.7,\n          22.5,\n          18.9\n        ],\n        \"semantic_type\": \"\",\n        \"description\": \"\"\n      }\n    }\n  ]\n}"
            }
          },
          "metadata": {},
          "execution_count": 5
        }
      ]
    },
    {
      "cell_type": "markdown",
      "source": [
        "### Handling Missing Values\n"
      ],
      "metadata": {
        "id": "jq-kGKz-bfvy"
      }
    },
    {
      "cell_type": "code",
      "source": [
        "from sklearn.impute import SimpleImputer\n",
        "imputer=SimpleImputer(strategy='mean')\n",
        "df=pd.DataFrame(imputer.fit_transform(df),columns=df.columns)\n",
        "df.isnull().sum()"
      ],
      "metadata": {
        "colab": {
          "base_uri": "https://localhost:8080/"
        },
        "id": "CioOXowrbRbz",
        "outputId": "30133dee-853b-4e5b-a89a-bdf68ef06847"
      },
      "execution_count": 6,
      "outputs": [
        {
          "output_type": "execute_result",
          "data": {
            "text/plain": [
              "CRIM       0\n",
              "INDUS      0\n",
              "NOX        0\n",
              "RM         0\n",
              "AGE        0\n",
              "DIS        0\n",
              "RAD        0\n",
              "TAX        0\n",
              "PTRATIO    0\n",
              "LSTAT      0\n",
              "MEDV       0\n",
              "dtype: int64"
            ]
          },
          "metadata": {},
          "execution_count": 6
        }
      ]
    },
    {
      "cell_type": "markdown",
      "source": [
        "### Recognizing Outliers Data"
      ],
      "metadata": {
        "id": "hGMlr93ZdNfV"
      }
    },
    {
      "cell_type": "code",
      "source": [
        "def find_outliers(column):\n",
        "    Q1 = column.quantile(0.25)\n",
        "    Q3 = column.quantile(0.75)\n",
        "    IQR = Q3 - Q1\n",
        "    Lower_bound = Q1 - 1.5 * IQR\n",
        "    Upper_bound = Q3 + 1.5 * IQR\n",
        "    return column[(column < Lower_bound) | (column > Upper_bound)]\n",
        "\n",
        "\n",
        "for column in df.columns:\n",
        "    outliers = find_outliers(df[column])\n",
        "    if outliers.size > 0:\n",
        "        print(f\"OUTLIERS - {column}:\\n{outliers}\\n\")"
      ],
      "metadata": {
        "colab": {
          "base_uri": "https://localhost:8080/"
        },
        "id": "D05v5usHcfF1",
        "outputId": "dd549492-6684-4410-9372-4b34f747bd3d"
      },
      "execution_count": 7,
      "outputs": [
        {
          "output_type": "stream",
          "name": "stdout",
          "text": [
            "OUTLIERS - CRIM:\n",
            "356     8.98296\n",
            "367    13.52220\n",
            "371     9.23230\n",
            "373    11.10810\n",
            "374    18.49820\n",
            "         ...   \n",
            "468    15.57570\n",
            "469    13.07510\n",
            "477    15.02340\n",
            "478    10.23300\n",
            "479    14.33370\n",
            "Name: CRIM, Length: 67, dtype: float64\n",
            "\n",
            "OUTLIERS - RM:\n",
            "97     8.069\n",
            "98     7.820\n",
            "162    7.802\n",
            "163    8.375\n",
            "166    7.929\n",
            "180    7.765\n",
            "186    7.831\n",
            "195    7.875\n",
            "203    7.853\n",
            "204    8.034\n",
            "224    8.266\n",
            "225    8.725\n",
            "226    8.040\n",
            "232    8.337\n",
            "233    8.247\n",
            "253    8.259\n",
            "257    8.704\n",
            "262    8.398\n",
            "267    8.297\n",
            "280    7.820\n",
            "283    7.923\n",
            "364    8.780\n",
            "365    3.561\n",
            "367    3.863\n",
            "374    4.138\n",
            "384    4.368\n",
            "386    4.652\n",
            "406    4.138\n",
            "412    4.628\n",
            "414    4.519\n",
            "Name: RM, dtype: float64\n",
            "\n",
            "OUTLIERS - DIS:\n",
            "351    10.7103\n",
            "352    10.7103\n",
            "353    12.1265\n",
            "354    10.5857\n",
            "355    10.5857\n",
            "Name: DIS, dtype: float64\n",
            "\n",
            "OUTLIERS - PTRATIO:\n",
            "196    12.6\n",
            "197    12.6\n",
            "198    12.6\n",
            "257    13.0\n",
            "258    13.0\n",
            "259    13.0\n",
            "260    13.0\n",
            "261    13.0\n",
            "262    13.0\n",
            "263    13.0\n",
            "264    13.0\n",
            "265    13.0\n",
            "266    13.0\n",
            "267    13.0\n",
            "268    13.0\n",
            "Name: PTRATIO, dtype: float64\n",
            "\n",
            "OUTLIERS - LSTAT:\n",
            "141    34.41\n",
            "373    34.77\n",
            "374    37.97\n",
            "412    34.37\n",
            "414    36.98\n",
            "438    34.02\n",
            "509    76.00\n",
            "510    45.00\n",
            "Name: LSTAT, dtype: float64\n",
            "\n",
            "OUTLIERS - MEDV:\n",
            "97     38.7\n",
            "98     43.8\n",
            "157    41.3\n",
            "161    50.0\n",
            "162    50.0\n",
            "163    50.0\n",
            "166    50.0\n",
            "179    37.2\n",
            "180    39.8\n",
            "182    37.9\n",
            "186    50.0\n",
            "190    37.0\n",
            "195    50.0\n",
            "202    42.3\n",
            "203    48.5\n",
            "204    50.0\n",
            "224    44.8\n",
            "225    50.0\n",
            "226    37.6\n",
            "228    46.7\n",
            "232    41.7\n",
            "233    48.3\n",
            "253    42.8\n",
            "256    44.0\n",
            "257    50.0\n",
            "261    43.1\n",
            "262    48.8\n",
            "267    50.0\n",
            "268    43.5\n",
            "280    45.4\n",
            "282    46.0\n",
            "283    50.0\n",
            "291    37.3\n",
            "368    50.0\n",
            "369    50.0\n",
            "370    50.0\n",
            "371    50.0\n",
            "372    50.0\n",
            "398     5.0\n",
            "405     5.0\n",
            "508    54.0\n",
            "509    67.0\n",
            "Name: MEDV, dtype: float64\n",
            "\n"
          ]
        }
      ]
    },
    {
      "cell_type": "markdown",
      "source": [
        "### Show Boxplot"
      ],
      "metadata": {
        "id": "4zkIe87Iiomb"
      }
    },
    {
      "cell_type": "code",
      "source": [
        "def show_boxplot(column):\n",
        "    plt.figure(figsize=(10,6))\n",
        "    sns.boxplot(x=column)\n",
        "    plt.show()\n",
        "\n",
        "for column in df.columns:\n",
        "    show_boxplot(df[column])"
      ],
      "metadata": {
        "colab": {
          "base_uri": "https://localhost:8080/",
          "height": 1000
        },
        "id": "MM0ibzvkfiNN",
        "outputId": "2b491fef-1d6f-4aa1-e693-050a195e79d2"
      },
      "execution_count": 8,
      "outputs": [
        {
          "output_type": "display_data",
          "data": {
            "text/plain": [
              "<Figure size 1000x600 with 1 Axes>"
            ],
            "image/png": "[encoded data removed]"
          },
          "metadata": {}
        },
        {
          "output_type": "display_data",
          "data": {
            "text/plain": [
              "<Figure size 1000x600 with 1 Axes>"
            ],
            "image/png": "[encoded data removed]"
          },
          "metadata": {}
        },
        {
          "output_type": "display_data",
          "data": {
            "text/plain": [
              "<Figure size 1000x600 with 1 Axes>"
            ],
            "image/png": "[encoded data removed]"
          },
          "metadata": {}
        },
        {
          "output_type": "display_data",
          "data": {
            "text/plain": [
              "<Figure size 1000x600 with 1 Axes>"
            ],
            "image/png": "[encoded data removed]"
          },
          "metadata": {}
        },
        {
          "output_type": "display_data",
          "data": {
            "text/plain": [
              "<Figure size 1000x600 with 1 Axes>"
            ],
            "image/png": "[encoded data removed]"
          },
          "metadata": {}
        },
        {
          "output_type": "display_data",
          "data": {
            "text/plain": [
              "<Figure size 1000x600 with 1 Axes>"
            ],
            "image/png": "[encoded data removed]"
          },
          "metadata": {}
        },
        {
          "output_type": "display_data",
          "data": {
            "text/plain": [
              "<Figure size 1000x600 with 1 Axes>"
            ],
            "image/png": "[encoded data removed]"
          },
          "metadata": {}
        },
        {
          "output_type": "display_data",
          "data": {
            "text/plain": [
              "<Figure size 1000x600 with 1 Axes>"
            ],
            "image/png": "[encoded data removed]"
          },
          "metadata": {}
        },
        {
          "output_type": "display_data",
          "data": {
            "text/plain": [
              "<Figure size 1000x600 with 1 Axes>"
            ],
            "image/png": "[encoded data removed]"
          },
          "metadata": {}
        },
        {
          "output_type": "display_data",
          "data": {
            "text/plain": [
              "<Figure size 1000x600 with 1 Axes>"
            ],
            "image/png": "[encoded data removed]"
          },
          "metadata": {}
        },
        {
          "output_type": "display_data",
          "data": {
            "text/plain": [
              "<Figure size 1000x600 with 1 Axes>"
            ],
            "image/png": "[encoded data removed]"
          },
          "metadata": {}
        }
      ]
    },
    {
      "cell_type": "code",
      "source": [
        "\n",
        "from sklearn.impute import SimpleImputer\n",
        "\n",
        "\n",
        "def replace_outliers_with_nan(df):\n",
        "    for column in df.columns:\n",
        "        Q1 = df[column].quantile(0.25)\n",
        "        Q3 = df[column].quantile(0.75)\n",
        "        IQR = Q3 - Q1\n",
        "        Lower_bound = Q1 - 1.5 * IQR\n",
        "        Upper_bound = Q3 + 1.5 * IQR\n",
        "\n",
        "\n",
        "        outliers = df[column][(df[column] < Lower_bound) | (df[column] > Upper_bound)]\n",
        "        if not outliers.empty:\n",
        "            print(f\"OUTLIERS - {column}:\\n{outliers}\\n\")\n",
        "\n",
        "\n",
        "        df.loc[(df[column] < Lower_bound) | (df[column] > Upper_bound), column] = np.nan\n",
        "\n",
        "    return df\n",
        "\n",
        "\n",
        "df = replace_outliers_with_nan(df)\n",
        "\n",
        "\n",
        "imputer = SimpleImputer(strategy='mean')\n",
        "\n",
        "\n",
        "df= pd.DataFrame(imputer.fit_transform(df), columns=df.columns)\n",
        "\n",
        "\n",
        "print(df)\n"
      ],
      "metadata": {
        "colab": {
          "base_uri": "https://localhost:8080/"
        },
        "id": "m3u45Xm8jd7i",
        "outputId": "60cc14d6-f31f-4c8d-e756-fc8d41bfb26b"
      },
      "execution_count": 9,
      "outputs": [
        {
          "output_type": "stream",
          "name": "stdout",
          "text": [
            "OUTLIERS - CRIM:\n",
            "356     8.98296\n",
            "367    13.52220\n",
            "371     9.23230\n",
            "373    11.10810\n",
            "374    18.49820\n",
            "         ...   \n",
            "468    15.57570\n",
            "469    13.07510\n",
            "477    15.02340\n",
            "478    10.23300\n",
            "479    14.33370\n",
            "Name: CRIM, Length: 67, dtype: float64\n",
            "\n",
            "OUTLIERS - RM:\n",
            "97     8.069\n",
            "98     7.820\n",
            "162    7.802\n",
            "163    8.375\n",
            "166    7.929\n",
            "180    7.765\n",
            "186    7.831\n",
            "195    7.875\n",
            "203    7.853\n",
            "204    8.034\n",
            "224    8.266\n",
            "225    8.725\n",
            "226    8.040\n",
            "232    8.337\n",
            "233    8.247\n",
            "253    8.259\n",
            "257    8.704\n",
            "262    8.398\n",
            "267    8.297\n",
            "280    7.820\n",
            "283    7.923\n",
            "364    8.780\n",
            "365    3.561\n",
            "367    3.863\n",
            "374    4.138\n",
            "384    4.368\n",
            "386    4.652\n",
            "406    4.138\n",
            "412    4.628\n",
            "414    4.519\n",
            "Name: RM, dtype: float64\n",
            "\n",
            "OUTLIERS - DIS:\n",
            "351    10.7103\n",
            "352    10.7103\n",
            "353    12.1265\n",
            "354    10.5857\n",
            "355    10.5857\n",
            "Name: DIS, dtype: float64\n",
            "\n",
            "OUTLIERS - PTRATIO:\n",
            "196    12.6\n",
            "197    12.6\n",
            "198    12.6\n",
            "257    13.0\n",
            "258    13.0\n",
            "259    13.0\n",
            "260    13.0\n",
            "261    13.0\n",
            "262    13.0\n",
            "263    13.0\n",
            "264    13.0\n",
            "265    13.0\n",
            "266    13.0\n",
            "267    13.0\n",
            "268    13.0\n",
            "Name: PTRATIO, dtype: float64\n",
            "\n",
            "OUTLIERS - LSTAT:\n",
            "141    34.41\n",
            "373    34.77\n",
            "374    37.97\n",
            "412    34.37\n",
            "414    36.98\n",
            "438    34.02\n",
            "509    76.00\n",
            "510    45.00\n",
            "Name: LSTAT, dtype: float64\n",
            "\n",
            "OUTLIERS - MEDV:\n",
            "97     38.7\n",
            "98     43.8\n",
            "157    41.3\n",
            "161    50.0\n",
            "162    50.0\n",
            "163    50.0\n",
            "166    50.0\n",
            "179    37.2\n",
            "180    39.8\n",
            "182    37.9\n",
            "186    50.0\n",
            "190    37.0\n",
            "195    50.0\n",
            "202    42.3\n",
            "203    48.5\n",
            "204    50.0\n",
            "224    44.8\n",
            "225    50.0\n",
            "226    37.6\n",
            "228    46.7\n",
            "232    41.7\n",
            "233    48.3\n",
            "253    42.8\n",
            "256    44.0\n",
            "257    50.0\n",
            "261    43.1\n",
            "262    48.8\n",
            "267    50.0\n",
            "268    43.5\n",
            "280    45.4\n",
            "282    46.0\n",
            "283    50.0\n",
            "291    37.3\n",
            "368    50.0\n",
            "369    50.0\n",
            "370    50.0\n",
            "371    50.0\n",
            "372    50.0\n",
            "398     5.0\n",
            "405     5.0\n",
            "508    54.0\n",
            "509    67.0\n",
            "Name: MEDV, dtype: float64\n",
            "\n",
            "        CRIM  INDUS    NOX     RM   AGE     DIS  RAD    TAX  PTRATIO  \\\n",
            "0    0.00632   2.31  0.538  6.575  65.2  4.0900  1.0  296.0     15.3   \n",
            "1    0.02731   7.07  0.469  6.421  78.9  4.9671  2.0  242.0     17.8   \n",
            "2    0.02729   7.07  0.469  7.185  61.1  4.9671  2.0  242.0     17.8   \n",
            "3    0.03237   2.18  0.458  6.998  45.8  6.0622  3.0  222.0     18.7   \n",
            "4    0.06905   2.18  0.458  7.147  54.2  6.0622  3.0  222.0     18.7   \n",
            "..       ...    ...    ...    ...   ...     ...  ...    ...      ...   \n",
            "506  0.98765  12.50  0.561  6.980  89.0  2.0980  3.0  320.0     23.0   \n",
            "507  0.23456  12.50  0.561  6.980  76.0  2.6540  3.0  320.0     23.0   \n",
            "508  0.44433  12.50  0.561  6.123  98.0  2.9870  3.0  320.0     23.0   \n",
            "509  0.77763  12.70  0.561  6.222  34.0  2.5430  3.0  329.0     23.0   \n",
            "510  0.65432  12.80  0.561  6.760  67.0  2.9870  3.0  345.0     23.0   \n",
            "\n",
            "         LSTAT       MEDV  \n",
            "0     4.980000  24.000000  \n",
            "1     9.140000  21.600000  \n",
            "2     4.030000  34.700000  \n",
            "3     2.940000  33.400000  \n",
            "4     5.330000  36.200000  \n",
            "..         ...        ...  \n",
            "506  12.000000  12.000000  \n",
            "507  25.000000  32.000000  \n",
            "508  21.000000  20.731557  \n",
            "509  12.421332  20.731557  \n",
            "510  12.421332  24.000000  \n",
            "\n",
            "[511 rows x 11 columns]\n"
          ]
        }
      ]
    },
    {
      "cell_type": "code",
      "source": [
        "def remove_outliers(df):\n",
        "    Q1 = df.quantile(0.25)\n",
        "    Q3 = df.quantile(0.75)\n",
        "    IQR = Q3 - Q1\n",
        "    lower_bound = Q1 - 1.5 * IQR\n",
        "    upper_bound = Q3 + 1.5 * IQR\n",
        "\n",
        "    mask = (df < lower_bound) | (df > upper_bound)\n",
        "    mask = mask.any(axis=1)  # Create a mask with rows where any column is True\n",
        "\n",
        "    # Remove rows where any column value is outside the bounds\n",
        "    df_no_outliers = df.loc[~mask]\n",
        "\n",
        "    return df_no_outliers\n",
        "\n",
        "# Remove outliers from DataFrame\n",
        "df = remove_outliers(df)\n",
        "\n",
        "# Print the DataFrame without outliers\n",
        "print(\"DataFrame without outliers:\\n\", df)"
      ],
      "metadata": {
        "colab": {
          "base_uri": "https://localhost:8080/"
        },
        "id": "PDumNtpIsifK",
        "outputId": "60501b2a-326f-41b5-8637-5da055cf4323"
      },
      "execution_count": 10,
      "outputs": [
        {
          "output_type": "stream",
          "name": "stdout",
          "text": [
            "DataFrame without outliers:\n",
            "         CRIM  INDUS    NOX     RM   AGE     DIS  RAD    TAX  PTRATIO  \\\n",
            "0    0.00632   2.31  0.538  6.575  65.2  4.0900  1.0  296.0     15.3   \n",
            "1    0.02731   7.07  0.469  6.421  78.9  4.9671  2.0  242.0     17.8   \n",
            "3    0.03237   2.18  0.458  6.998  45.8  6.0622  3.0  222.0     18.7   \n",
            "5    0.02985   2.18  0.458  6.430  58.7  6.0622  3.0  222.0     18.7   \n",
            "6    0.08829   7.87  0.524  6.012  66.6  5.5605  5.0  311.0     15.2   \n",
            "..       ...    ...    ...    ...   ...     ...  ...    ...      ...   \n",
            "506  0.98765  12.50  0.561  6.980  89.0  2.0980  3.0  320.0     23.0   \n",
            "507  0.23456  12.50  0.561  6.980  76.0  2.6540  3.0  320.0     23.0   \n",
            "508  0.44433  12.50  0.561  6.123  98.0  2.9870  3.0  320.0     23.0   \n",
            "509  0.77763  12.70  0.561  6.222  34.0  2.5430  3.0  329.0     23.0   \n",
            "510  0.65432  12.80  0.561  6.760  67.0  2.9870  3.0  345.0     23.0   \n",
            "\n",
            "         LSTAT       MEDV  \n",
            "0     4.980000  24.000000  \n",
            "1     9.140000  21.600000  \n",
            "3     2.940000  33.400000  \n",
            "5     5.210000  28.700000  \n",
            "6    12.430000  22.900000  \n",
            "..         ...        ...  \n",
            "506  12.000000  12.000000  \n",
            "507  25.000000  32.000000  \n",
            "508  21.000000  20.731557  \n",
            "509  12.421332  20.731557  \n",
            "510  12.421332  24.000000  \n",
            "\n",
            "[409 rows x 11 columns]\n"
          ]
        }
      ]
    },
    {
      "cell_type": "code",
      "source": [
        "def show_boxplot(column):\n",
        "    plt.figure(figsize=(10,6))\n",
        "    sns.boxplot(x=column)\n",
        "    plt.show()\n",
        "\n",
        "for column in df.columns:\n",
        "    show_boxplot(df[column])"
      ],
      "metadata": {
        "colab": {
          "base_uri": "https://localhost:8080/",
          "height": 1000
        },
        "id": "c1pU_eJvtXvq",
        "outputId": "444b1dea-ce01-4804-9934-2bb504f56660"
      },
      "execution_count": null,
      "outputs": [
        {
          "output_type": "display_data",
          "data": {
            "text/plain": [
              "<Figure size 1000x600 with 1 Axes>"
            ],
            "image/png": "[encoded data removed]"
          },
          "metadata": {}
        },
        {
          "output_type": "display_data",
          "data": {
            "text/plain": [
              "<Figure size 1000x600 with 1 Axes>"
            ],
            "image/png": "[encoded data removed]"
          },
          "metadata": {}
        },
        {
          "output_type": "display_data",
          "data": {
            "text/plain": [
              "<Figure size 1000x600 with 1 Axes>"
            ],
            "image/png": "[encoded data removed]"
          },
          "metadata": {}
        },
        {
          "output_type": "display_data",
          "data": {
            "text/plain": [
              "<Figure size 1000x600 with 1 Axes>"
            ],
            "image/png": "[encoded data removed]"
          },
          "metadata": {}
        },
        {
          "output_type": "display_data",
          "data": {
            "text/plain": [
              "<Figure size 1000x600 with 1 Axes>"
            ],
            "image/png": "[encoded data removed]"
          },
          "metadata": {}
        },
        {
          "output_type": "display_data",
          "data": {
            "text/plain": [
              "<Figure size 1000x600 with 1 Axes>"
            ],
            "image/png": "[encoded data removed]"
          },
          "metadata": {}
        },
        {
          "output_type": "display_data",
          "data": {
            "text/plain": [
              "<Figure size 1000x600 with 1 Axes>"
            ],
            "image/png": "[encoded data removed]"
          },
          "metadata": {}
        },
        {
          "output_type": "display_data",
          "data": {
            "text/plain": [
              "<Figure size 1000x600 with 1 Axes>"
            ],
            "image/png": "[encoded data removed]"
          },
          "metadata": {}
        },
        {
          "output_type": "display_data",
          "data": {
            "text/plain": [
              "<Figure size 1000x600 with 1 Axes>"
            ],
            "image/png": "[encoded data removed]"
          },
          "metadata": {}
        },
        {
          "output_type": "display_data",
          "data": {
            "text/plain": [
              "<Figure size 1000x600 with 1 Axes>"
            ],
            "image/png": "[encoded data removed]"
          },
          "metadata": {}
        },
        {
          "output_type": "display_data",
          "data": {
            "text/plain": [
              "<Figure size 1000x600 with 1 Axes>"
            ],
            "image/png": "[encoded data removed]"
          },
          "metadata": {}
        }
      ]
    },
    {
      "cell_type": "code",
      "source": [
        "df.columns\n"
      ],
      "metadata": {
        "colab": {
          "base_uri": "https://localhost:8080/"
        },
        "id": "lqAAtxgO0K5D",
        "outputId": "e0becbbb-a661-425d-89b9-c367522fe411"
      },
      "execution_count": null,
      "outputs": [
        {
          "output_type": "execute_result",
          "data": {
            "text/plain": [
              "Index(['CRIM', 'INDUS', 'NOX', 'RM', 'AGE', 'DIS', 'RAD', 'TAX', 'PTRATIO',\n",
              "       'LSTAT', 'MEDV'],\n",
              "      dtype='object')"
            ]
          },
          "metadata": {},
          "execution_count": 56
        }
      ]
    },
    {
      "cell_type": "code",
      "source": [
        "df['CRIM']=pd.DataFrame(df['CRIM'])\n",
        "df['log_CRIM']=np.log(df['CRIM'])\n",
        "df['sqrt_CRIM']=np.sqrt(df['CRIM'])\n",
        "df.head()"
      ],
      "metadata": {
        "colab": {
          "base_uri": "https://localhost:8080/",
          "height": 206
        },
        "id": "M1UK6aB30cFZ",
        "outputId": "78122c3f-367e-4136-b68e-a2dcb5a65881"
      },
      "execution_count": 13,
      "outputs": [
        {
          "output_type": "execute_result",
          "data": {
            "text/plain": [
              "      CRIM  INDUS    NOX     RM   AGE     DIS  RAD    TAX  PTRATIO  LSTAT  \\\n",
              "0  0.00632   2.31  0.538  6.575  65.2  4.0900  1.0  296.0     15.3   4.98   \n",
              "1  0.02731   7.07  0.469  6.421  78.9  4.9671  2.0  242.0     17.8   9.14   \n",
              "3  0.03237   2.18  0.458  6.998  45.8  6.0622  3.0  222.0     18.7   2.94   \n",
              "5  0.02985   2.18  0.458  6.430  58.7  6.0622  3.0  222.0     18.7   5.21   \n",
              "6  0.08829   7.87  0.524  6.012  66.6  5.5605  5.0  311.0     15.2  12.43   \n",
              "\n",
              "   MEDV  log_PTRATIO  sqrt_PTRATIO  log_CRIM  sqrt_CRIM  \n",
              "0  24.0     2.727853      3.911521 -5.064036   0.079498  \n",
              "1  21.6     2.879198      4.219005 -3.600502   0.165257  \n",
              "3  33.4     2.928524      4.324350 -3.430523   0.179917  \n",
              "5  28.7     2.928524      4.324350 -3.511570   0.172772  \n",
              "6  22.9     2.721295      3.898718 -2.427128   0.297136  "
            ],
            "text/html": [
              "\n",
              "  <div id=\"df-4c0b8719-de18-47a8-8ffe-533ea4615d3c\" class=\"colab-df-container\">\n",
              "    <div>\n",
              "<style scoped>\n",
              "    .dataframe tbody tr th:only-of-type {\n",
              "        vertical-align: middle;\n",
              "    }\n",
              "\n",
              "    .dataframe tbody tr th {\n",
              "        vertical-align: top;\n",
              "    }\n",
              "\n",
              "    .dataframe thead th {\n",
              "        text-align: right;\n",
              "    }\n",
              "</style>\n",
              "<table border=\"1\" class=\"dataframe\">\n",
              "  <thead>\n",
              "    <tr style=\"text-align: right;\">\n",
              "      <th></th>\n",
              "      <th>CRIM</th>\n",
              "      <th>INDUS</th>\n",
              "      <th>NOX</th>\n",
              "      <th>RM</th>\n",
              "      <th>AGE</th>\n",
              "      <th>DIS</th>\n",
              "      <th>RAD</th>\n",
              "      <th>TAX</th>\n",
              "      <th>PTRATIO</th>\n",
              "      <th>LSTAT</th>\n",
              "      <th>MEDV</th>\n",
              "      <th>log_PTRATIO</th>\n",
              "      <th>sqrt_PTRATIO</th>\n",
              "      <th>log_CRIM</th>\n",
              "      <th>sqrt_CRIM</th>\n",
              "    </tr>\n",
              "  </thead>\n",
              "  <tbody>\n",
              "    <tr>\n",
              "      <th>0</th>\n",
              "      <td>0.00632</td>\n",
              "      <td>2.31</td>\n",
              "      <td>0.538</td>\n",
              "      <td>6.575</td>\n",
              "      <td>65.2</td>\n",
              "      <td>4.0900</td>\n",
              "      <td>1.0</td>\n",
              "      <td>296.0</td>\n",
              "      <td>15.3</td>\n",
              "      <td>4.98</td>\n",
              "      <td>24.0</td>\n",
              "      <td>2.727853</td>\n",
              "      <td>3.911521</td>\n",
              "      <td>-5.064036</td>\n",
              "      <td>0.079498</td>\n",
              "    </tr>\n",
              "    <tr>\n",
              "      <th>1</th>\n",
              "      <td>0.02731</td>\n",
              "      <td>7.07</td>\n",
              "      <td>0.469</td>\n",
              "      <td>6.421</td>\n",
              "      <td>78.9</td>\n",
              "      <td>4.9671</td>\n",
              "      <td>2.0</td>\n",
              "      <td>242.0</td>\n",
              "      <td>17.8</td>\n",
              "      <td>9.14</td>\n",
              "      <td>21.6</td>\n",
              "      <td>2.879198</td>\n",
              "      <td>4.219005</td>\n",
              "      <td>-3.600502</td>\n",
              "      <td>0.165257</td>\n",
              "    </tr>\n",
              "    <tr>\n",
              "      <th>3</th>\n",
              "      <td>0.03237</td>\n",
              "      <td>2.18</td>\n",
              "      <td>0.458</td>\n",
              "      <td>6.998</td>\n",
              "      <td>45.8</td>\n",
              "      <td>6.0622</td>\n",
              "      <td>3.0</td>\n",
              "      <td>222.0</td>\n",
              "      <td>18.7</td>\n",
              "      <td>2.94</td>\n",
              "      <td>33.4</td>\n",
              "      <td>2.928524</td>\n",
              "      <td>4.324350</td>\n",
              "      <td>-3.430523</td>\n",
              "      <td>0.179917</td>\n",
              "    </tr>\n",
              "    <tr>\n",
              "      <th>5</th>\n",
              "      <td>0.02985</td>\n",
              "      <td>2.18</td>\n",
              "      <td>0.458</td>\n",
              "      <td>6.430</td>\n",
              "      <td>58.7</td>\n",
              "      <td>6.0622</td>\n",
              "      <td>3.0</td>\n",
              "      <td>222.0</td>\n",
              "      <td>18.7</td>\n",
              "      <td>5.21</td>\n",
              "      <td>28.7</td>\n",
              "      <td>2.928524</td>\n",
              "      <td>4.324350</td>\n",
              "      <td>-3.511570</td>\n",
              "      <td>0.172772</td>\n",
              "    </tr>\n",
              "    <tr>\n",
              "      <th>6</th>\n",
              "      <td>0.08829</td>\n",
              "      <td>7.87</td>\n",
              "      <td>0.524</td>\n",
              "      <td>6.012</td>\n",
              "      <td>66.6</td>\n",
              "      <td>5.5605</td>\n",
              "      <td>5.0</td>\n",
              "      <td>311.0</td>\n",
              "      <td>15.2</td>\n",
              "      <td>12.43</td>\n",
              "      <td>22.9</td>\n",
              "      <td>2.721295</td>\n",
              "      <td>3.898718</td>\n",
              "      <td>-2.427128</td>\n",
              "      <td>0.297136</td>\n",
              "    </tr>\n",
              "  </tbody>\n",
              "</table>\n",
              "</div>\n",
              "    <div class=\"colab-df-buttons\">\n",
              "\n",
              "  <div class=\"colab-df-container\">\n",
              "    <button class=\"colab-df-convert\" onclick=\"convertToInteractive('df-4c0b8719-de18-47a8-8ffe-533ea4615d3c')\"\n",
              "            title=\"Convert this dataframe to an interactive table.\"\n",
              "            style=\"display:none;\">\n",
              "\n",
              "  <svg xmlns=\"http://www.w3.org/2000/svg\" height=\"24px\" viewBox=\"0 -960 960 960\">\n",
              "    <path d=\"M120-120v-720h720v720H120Zm60-500h600v-160H180v160Zm220 220h160v-160H400v160Zm0 220h160v-160H400v160ZM180-400h160v-160H180v160Zm440 0h160v-160H620v160ZM180-180h160v-160H180v160Zm440 0h160v-160H620v160Z\"/>\n",
              "  </svg>\n",
              "    </button>\n",
              "\n",
              "  <style>\n",
              "    .colab-df-container {\n",
              "      display:flex;\n",
              "      gap: 12px;\n",
              "    }\n",
              "\n",
              "    .colab-df-convert {\n",
              "      background-color: #E8F0FE;\n",
              "      border: none;\n",
              "      border-radius: 50%;\n",
              "      cursor: pointer;\n",
              "      display: none;\n",
              "      fill: #1967D2;\n",
              "      height: 32px;\n",
              "      padding: 0 0 0 0;\n",
              "      width: 32px;\n",
              "    }\n",
              "\n",
              "    .colab-df-convert:hover {\n",
              "      background-color: #E2EBFA;\n",
              "      box-shadow: 0px 1px 2px rgba(60, 64, 67, 0.3), 0px 1px 3px 1px rgba(60, 64, 67, 0.15);\n",
              "      fill: #174EA6;\n",
              "    }\n",
              "\n",
              "    .colab-df-buttons div {\n",
              "      margin-bottom: 4px;\n",
              "    }\n",
              "\n",
              "    [theme=dark] .colab-df-convert {\n",
              "      background-color: #3B4455;\n",
              "      fill: #D2E3FC;\n",
              "    }\n",
              "\n",
              "    [theme=dark] .colab-df-convert:hover {\n",
              "      background-color: #434B5C;\n",
              "      box-shadow: 0px 1px 3px 1px rgba(0, 0, 0, 0.15);\n",
              "      filter: drop-shadow(0px 1px 2px rgba(0, 0, 0, 0.3));\n",
              "      fill: #FFFFFF;\n",
              "    }\n",
              "  </style>\n",
              "\n",
              "    <script>\n",
              "      const buttonEl =\n",
              "        document.querySelector('#df-4c0b8719-de18-47a8-8ffe-533ea4615d3c button.colab-df-convert');\n",
              "      buttonEl.style.display =\n",
              "        google.colab.kernel.accessAllowed ? 'block' : 'none';\n",
              "\n",
              "      async function convertToInteractive(key) {\n",
              "        const element = document.querySelector('#df-4c0b8719-de18-47a8-8ffe-533ea4615d3c');\n",
              "        const dataTable =\n",
              "          await google.colab.kernel.invokeFunction('convertToInteractive',\n",
              "                                                    [key], {});\n",
              "        if (!dataTable) return;\n",
              "\n",
              "        const docLinkHtml = 'Like what you see? Visit the ' +\n",
              "          '<a target=\"_blank\" href=https://colab.research.google.com/notebooks/data_table.ipynb>data table notebook</a>'\n",
              "          + ' to learn more about interactive tables.';\n",
              "        element.innerHTML = '';\n",
              "        dataTable['output_type'] = 'display_data';\n",
              "        await google.colab.output.renderOutput(dataTable, element);\n",
              "        const docLink = document.createElement('div');\n",
              "        docLink.innerHTML = docLinkHtml;\n",
              "        element.appendChild(docLink);\n",
              "      }\n",
              "    </script>\n",
              "  </div>\n",
              "\n",
              "\n",
              "<div id=\"df-41f6b44e-67fc-41ec-939f-52558ea09897\">\n",
              "  <button class=\"colab-df-quickchart\" onclick=\"quickchart('df-41f6b44e-67fc-41ec-939f-52558ea09897')\"\n",
              "            title=\"Suggest charts\"\n",
              "            style=\"display:none;\">\n",
              "\n",
              "<svg xmlns=\"http://www.w3.org/2000/svg\" height=\"24px\"viewBox=\"0 0 24 24\"\n",
              "     width=\"24px\">\n",
              "    <g>\n",
              "        <path d=\"M19 3H5c-1.1 0-2 .9-2 2v14c0 1.1.9 2 2 2h14c1.1 0 2-.9 2-2V5c0-1.1-.9-2-2-2zM9 17H7v-7h2v7zm4 0h-2V7h2v10zm4 0h-2v-4h2v4z\"/>\n",
              "    </g>\n",
              "</svg>\n",
              "  </button>\n",
              "\n",
              "<style>\n",
              "  .colab-df-quickchart {\n",
              "      --bg-color: #E8F0FE;\n",
              "      --fill-color: #1967D2;\n",
              "      --hover-bg-color: #E2EBFA;\n",
              "      --hover-fill-color: #174EA6;\n",
              "      --disabled-fill-color: #AAA;\n",
              "      --disabled-bg-color: #DDD;\n",
              "  }\n",
              "\n",
              "  [theme=dark] .colab-df-quickchart {\n",
              "      --bg-color: #3B4455;\n",
              "      --fill-color: #D2E3FC;\n",
              "      --hover-bg-color: #434B5C;\n",
              "      --hover-fill-color: #FFFFFF;\n",
              "      --disabled-bg-color: #3B4455;\n",
              "      --disabled-fill-color: #666;\n",
              "  }\n",
              "\n",
              "  .colab-df-quickchart {\n",
              "    background-color: var(--bg-color);\n",
              "    border: none;\n",
              "    border-radius: 50%;\n",
              "    cursor: pointer;\n",
              "    display: none;\n",
              "    fill: var(--fill-color);\n",
              "    height: 32px;\n",
              "    padding: 0;\n",
              "    width: 32px;\n",
              "  }\n",
              "\n",
              "  .colab-df-quickchart:hover {\n",
              "    background-color: var(--hover-bg-color);\n",
              "    box-shadow: 0 1px 2px rgba(60, 64, 67, 0.3), 0 1px 3px 1px rgba(60, 64, 67, 0.15);\n",
              "    fill: var(--button-hover-fill-color);\n",
              "  }\n",
              "\n",
              "  .colab-df-quickchart-complete:disabled,\n",
              "  .colab-df-quickchart-complete:disabled:hover {\n",
              "    background-color: var(--disabled-bg-color);\n",
              "    fill: var(--disabled-fill-color);\n",
              "    box-shadow: none;\n",
              "  }\n",
              "\n",
              "  .colab-df-spinner {\n",
              "    border: 2px solid var(--fill-color);\n",
              "    border-color: transparent;\n",
              "    border-bottom-color: var(--fill-color);\n",
              "    animation:\n",
              "      spin 1s steps(1) infinite;\n",
              "  }\n",
              "\n",
              "  @keyframes spin {\n",
              "    0% {\n",
              "      border-color: transparent;\n",
              "      border-bottom-color: var(--fill-color);\n",
              "      border-left-color: var(--fill-color);\n",
              "    }\n",
              "    20% {\n",
              "      border-color: transparent;\n",
              "      border-left-color: var(--fill-color);\n",
              "      border-top-color: var(--fill-color);\n",
              "    }\n",
              "    30% {\n",
              "      border-color: transparent;\n",
              "      border-left-color: var(--fill-color);\n",
              "      border-top-color: var(--fill-color);\n",
              "      border-right-color: var(--fill-color);\n",
              "    }\n",
              "    40% {\n",
              "      border-color: transparent;\n",
              "      border-right-color: var(--fill-color);\n",
              "      border-top-color: var(--fill-color);\n",
              "    }\n",
              "    60% {\n",
              "      border-color: transparent;\n",
              "      border-right-color: var(--fill-color);\n",
              "    }\n",
              "    80% {\n",
              "      border-color: transparent;\n",
              "      border-right-color: var(--fill-color);\n",
              "      border-bottom-color: var(--fill-color);\n",
              "    }\n",
              "    90% {\n",
              "      border-color: transparent;\n",
              "      border-bottom-color: var(--fill-color);\n",
              "    }\n",
              "  }\n",
              "</style>\n",
              "\n",
              "  <script>\n",
              "    async function quickchart(key) {\n",
              "      const quickchartButtonEl =\n",
              "        document.querySelector('#' + key + ' button');\n",
              "      quickchartButtonEl.disabled = true;  // To prevent multiple clicks.\n",
              "      quickchartButtonEl.classList.add('colab-df-spinner');\n",
              "      try {\n",
              "        const charts = await google.colab.kernel.invokeFunction(\n",
              "            'suggestCharts', [key], {});\n",
              "      } catch (error) {\n",
              "        console.error('Error during call to suggestCharts:', error);\n",
              "      }\n",
              "      quickchartButtonEl.classList.remove('colab-df-spinner');\n",
              "      quickchartButtonEl.classList.add('colab-df-quickchart-complete');\n",
              "    }\n",
              "    (() => {\n",
              "      let quickchartButtonEl =\n",
              "        document.querySelector('#df-41f6b44e-67fc-41ec-939f-52558ea09897 button');\n",
              "      quickchartButtonEl.style.display =\n",
              "        google.colab.kernel.accessAllowed ? 'block' : 'none';\n",
              "    })();\n",
              "  </script>\n",
              "</div>\n",
              "\n",
              "    </div>\n",
              "  </div>\n"
            ],
            "application/vnd.google.colaboratory.intrinsic+json": {
              "type": "dataframe",
              "variable_name": "df",
              "summary": "{\n  \"name\": \"df\",\n  \"rows\": 409,\n  \"fields\": [\n    {\n      \"column\": \"CRIM\",\n      \"properties\": {\n        \"dtype\": \"number\",\n        \"std\": 0.5603386283950788,\n        \"min\": 0.00632,\n        \"max\": 2.73397,\n        \"num_unique_values\": 349,\n        \"samples\": [\n          2.44953,\n          0.06076,\n          0.03113\n        ],\n        \"semantic_type\": \"\",\n        \"description\": \"\"\n      }\n    },\n    {\n      \"column\": \"INDUS\",\n      \"properties\": {\n        \"dtype\": \"number\",\n        \"std\": 6.617766796914943,\n        \"min\": 0.46,\n        \"max\": 27.74,\n        \"num_unique_values\": 77,\n        \"samples\": [\n          8.14,\n          2.03,\n          0.74\n        ],\n        \"semantic_type\": \"\",\n        \"description\": \"\"\n      }\n    },\n    {\n      \"column\": \"NOX\",\n      \"properties\": {\n        \"dtype\": \"number\",\n        \"std\": 0.10582294517592075,\n        \"min\": 0.385,\n        \"max\": 0.871,\n        \"num_unique_values\": 79,\n        \"samples\": [\n          0.422,\n          0.538,\n          0.547\n        ],\n        \"semantic_type\": \"\",\n        \"description\": \"\"\n      }\n    },\n    {\n      \"column\": \"RM\",\n      \"properties\": {\n        \"dtype\": \"number\",\n        \"std\": 0.4525742787435816,\n        \"min\": 5.012,\n        \"max\": 7.42,\n        \"num_unique_values\": 339,\n        \"samples\": [\n          6.223,\n          5.942,\n          6.372\n        ],\n        \"semantic_type\": \"\",\n        \"description\": \"\"\n      }\n    },\n    {\n      \"column\": \"AGE\",\n      \"properties\": {\n        \"dtype\": \"number\",\n        \"std\": 28.5779839205771,\n        \"min\": 2.9,\n        \"max\": 100.0,\n        \"num_unique_values\": 302,\n        \"samples\": [\n          76.9,\n          47.4,\n          88.4\n        ],\n        \"semantic_type\": \"\",\n        \"description\": \"\"\n      }\n    },\n    {\n      \"column\": \"DIS\",\n      \"properties\": {\n        \"dtype\": \"number\",\n        \"std\": 2.0087397303972154,\n        \"min\": 1.137,\n        \"max\": 9.2229,\n        \"num_unique_values\": 323,\n        \"samples\": [\n          3.6715,\n          2.5961,\n          4.2673\n        ],\n        \"semantic_type\": \"\",\n        \"description\": \"\"\n      }\n    },\n    {\n      \"column\": \"RAD\",\n      \"properties\": {\n        \"dtype\": \"number\",\n        \"std\": 7.142045165576225,\n        \"min\": 1.0,\n        \"max\": 24.0,\n        \"num_unique_values\": 9,\n        \"samples\": [\n          7.0,\n          2.0,\n          8.0\n        ],\n        \"semantic_type\": \"\",\n        \"description\": \"\"\n      }\n    },\n    {\n      \"column\": \"TAX\",\n      \"properties\": {\n        \"dtype\": \"number\",\n        \"std\": 143.80748574909578,\n        \"min\": 187.0,\n        \"max\": 711.0,\n        \"num_unique_values\": 65,\n        \"samples\": [\n          352.0,\n          666.0,\n          296.0\n        ],\n        \"semantic_type\": \"\",\n        \"description\": \"\"\n      }\n    },\n    {\n      \"column\": \"PTRATIO\",\n      \"properties\": {\n        \"dtype\": \"number\",\n        \"std\": 1.9835177195810916,\n        \"min\": 13.6,\n        \"max\": 23.0,\n        \"num_unique_values\": 46,\n        \"samples\": [\n          20.2,\n          15.6,\n          14.4\n        ],\n        \"semantic_type\": \"\",\n        \"description\": \"\"\n      }\n    },\n    {\n      \"column\": \"LSTAT\",\n      \"properties\": {\n        \"dtype\": \"number\",\n        \"std\": 6.340733093259891,\n        \"min\": 1.92,\n        \"max\": 30.63,\n        \"num_unique_values\": 372,\n        \"samples\": [\n          29.05,\n          9.68,\n          14.67\n        ],\n        \"semantic_type\": \"\",\n        \"description\": \"\"\n      }\n    },\n    {\n      \"column\": \"MEDV\",\n      \"properties\": {\n        \"dtype\": \"number\",\n        \"std\": 5.6325662305058595,\n        \"min\": 7.2,\n        \"max\": 33.8,\n        \"num_unique_values\": 181,\n        \"samples\": [\n          14.5,\n          31.6,\n          10.5\n        ],\n        \"semantic_type\": \"\",\n        \"description\": \"\"\n      }\n    },\n    {\n      \"column\": \"log_PTRATIO\",\n      \"properties\": {\n        \"dtype\": \"number\",\n        \"std\": 0.11046113814762588,\n        \"min\": 2.6100697927420065,\n        \"max\": 3.1354942159291497,\n        \"num_unique_values\": 46,\n        \"samples\": [\n          3.005682604407159,\n          2.747270914255491,\n          2.667228206581955\n        ],\n        \"semantic_type\": \"\",\n        \"description\": \"\"\n      }\n    },\n    {\n      \"column\": \"sqrt_PTRATIO\",\n      \"properties\": {\n        \"dtype\": \"number\",\n        \"std\": 0.2336572115036355,\n        \"min\": 3.687817782917155,\n        \"max\": 4.795831523312719,\n        \"num_unique_values\": 46,\n        \"samples\": [\n          4.494441010848846,\n          3.9496835316262997,\n          3.794733192202055\n        ],\n        \"semantic_type\": \"\",\n        \"description\": \"\"\n      }\n    },\n    {\n      \"column\": \"log_CRIM\",\n      \"properties\": {\n        \"dtype\": \"number\",\n        \"std\": 1.3718259346252628,\n        \"min\": -5.064036070823371,\n        \"max\": 1.0057547653081238,\n        \"num_unique_values\": 349,\n        \"samples\": [\n          0.8958961694189218,\n          -2.800823601254565,\n          -3.4695832945286202\n        ],\n        \"semantic_type\": \"\",\n        \"description\": \"\"\n      }\n    },\n    {\n      \"column\": \"sqrt_CRIM\",\n      \"properties\": {\n        \"dtype\": \"number\",\n        \"std\": 0.37812544400139597,\n        \"min\": 0.07949842765740717,\n        \"max\": 1.6534721043912413,\n        \"num_unique_values\": 349,\n        \"samples\": [\n          1.5650974410559875,\n          0.24649543606322613,\n          0.17643695757975425\n        ],\n        \"semantic_type\": \"\",\n        \"description\": \"\"\n      }\n    }\n  ]\n}"
            }
          },
          "metadata": {},
          "execution_count": 13
        }
      ]
    },
    {
      "cell_type": "code",
      "source": [
        "from scipy.stats import skew\n",
        "print(f\"Skewness of CRIM :{skew(df['CRIM'])}\")\n",
        "print(f\"skewness of log_CRIM :{skew(df['log_CRIM'])}\")\n",
        "print(f\"skwness of sqrt_CRIM :{skew(df['sqrt_CRIM'])}\")"
      ],
      "metadata": {
        "colab": {
          "base_uri": "https://localhost:8080/"
        },
        "id": "QTxSn9JC1fWJ",
        "outputId": "cf178f83-6919-414f-f429-ebff3cb85656"
      },
      "execution_count": 14,
      "outputs": [
        {
          "output_type": "stream",
          "name": "stdout",
          "text": [
            "Skewness of CRIM :1.481227025635\n",
            "skewness of log_CRIM :-0.01092930061608785\n",
            "skwness of sqrt_CRIM :0.7822063791386669\n"
          ]
        }
      ]
    },
    {
      "cell_type": "code",
      "source": [
        "fig, axis=plt.subplots(1,3,figsize=(15,5))\n",
        "sns.histplot(x=df['CRIM'],ax=axis[0])\n",
        "sns.histplot(x=df['log_CRIM'],ax=axis[1])\n",
        "sns.histplot(x=df['sqrt_CRIM'],ax=axis[2])"
      ],
      "metadata": {
        "colab": {
          "base_uri": "https://localhost:8080/",
          "height": 437
        },
        "id": "XGOBO8Bs3Qtc",
        "outputId": "bf3ad340-f2b9-4bcc-e978-c0a234802d67"
      },
      "execution_count": 25,
      "outputs": [
        {
          "output_type": "execute_result",
          "data": {
            "text/plain": [
              "<Axes: xlabel='sqrt_CRIM', ylabel='Count'>"
            ]
          },
          "metadata": {},
          "execution_count": 25
        },
        {
          "output_type": "display_data",
          "data": {
            "text/plain": [
              "<Figure size 1500x500 with 3 Axes>"
            ],
            "image/png": "[encoded data removed]"
          },
          "metadata": {}
        }
      ]
    },
    {
      "cell_type": "code",
      "source": [
        "print(f\" Mean of CRIM :{df['CRIM'].mean()}\")\n",
        "print(f\"Mean of log_CRIM :{df['log_CRIM'].mean()}\")\n",
        "print(f\"Mean of sqrt_CRIM :{df['sqrt_CRIM'].mean()}\")"
      ],
      "metadata": {
        "colab": {
          "base_uri": "https://localhost:8080/"
        },
        "id": "MO24oF9jyYrg",
        "outputId": "df53b323-d381-4eeb-cf35-238fd42fcfda"
      },
      "execution_count": 24,
      "outputs": [
        {
          "output_type": "stream",
          "name": "stdout",
          "text": [
            " Mean of CRIM :0.4715783999207032\n",
            "Mean of log_CRIM :-1.5616395082039138\n",
            "Mean of sqrt_CRIM :0.5735408704383836\n"
          ]
        }
      ]
    },
    {
      "cell_type": "code",
      "source": [
        "count=df['CRIM'].between(-0.5,0.5).sum()\n",
        "print(count)\n",
        "print(f\"{count/df.shape[0]:0.2f}\")"
      ],
      "metadata": {
        "colab": {
          "base_uri": "https://localhost:8080/"
        },
        "id": "-QQOuVLa0QoM",
        "outputId": "72ed9c21-a483-4556-bf84-eaaf35493695"
      },
      "execution_count": 27,
      "outputs": [
        {
          "output_type": "stream",
          "name": "stdout",
          "text": [
            "277\n",
            "0.68\n"
          ]
        }
      ]
    },
    {
      "cell_type": "code",
      "source": [
        "df['INDUS']=pd.DataFrame(df['INDUS'])\n",
        "df['log_INDUS']=np.log(df['INDUS'])\n",
        "df['sqrt_INDUS']=np.sqrt(df['INDUS'])\n",
        "\n",
        "print(f\"Skewness of INDUS :{skew(df['INDUS'])}\")\n",
        "print(f\"skewness of log_INDUS:{skew(df['log_INDUS'])}\")\n",
        "print(f\"skwness of sqrt_INDUS:{skew(df['sqrt_INDUS'])}\")"
      ],
      "metadata": {
        "colab": {
          "base_uri": "https://localhost:8080/"
        },
        "id": "XVHl_cwT4wrS",
        "outputId": "002752b7-6daf-4875-ad4f-ee5609507e1f"
      },
      "execution_count": 28,
      "outputs": [
        {
          "output_type": "stream",
          "name": "stdout",
          "text": [
            "Skewness of INDUS :1.0515077139561435\n",
            "skewness of log_INDUS:0.5953855516371701\n",
            "skwness of sqrt_INDUS:0.8130638288036456\n"
          ]
        }
      ]
    },
    {
      "cell_type": "code",
      "source": [
        "fig, axis=plt.subplots(1,3,figsize=(15,5))\n",
        "sns.histplot(x=df['INDUS'],ax=axis[0])\n",
        "sns.histplot(x=df['log_INDUS'],ax=axis[1])\n",
        "sns.histplot(x=df['sqrt_INDUS'],ax=axis[2])"
      ],
      "metadata": {
        "colab": {
          "base_uri": "https://localhost:8080/",
          "height": 440
        },
        "id": "fdVR9_k0E-Sq",
        "outputId": "bc0498cf-9f72-4974-f0e8-3bd42251bfc1"
      },
      "execution_count": 29,
      "outputs": [
        {
          "output_type": "execute_result",
          "data": {
            "text/plain": [
              "<Axes: xlabel='sqrt_INDUS', ylabel='Count'>"
            ]
          },
          "metadata": {},
          "execution_count": 29
        },
        {
          "output_type": "display_data",
          "data": {
            "text/plain": [
              "<Figure size 1500x500 with 3 Axes>"
            ],
            "image/png": "[encoded data removed]"
          },
          "metadata": {}
        }
      ]
    },
    {
      "cell_type": "code",
      "source": [
        "print(f\" Mean of INDUS:{df['INDUS'].mean()}\")\n",
        "print(f\"Mean of log_INDUS:{df['log_INDUS'].mean()}\")\n",
        "print(f\"Mean of sqrt_INDUS :{df['sqrt_INDUS'].mean()}\")"
      ],
      "metadata": {
        "colab": {
          "base_uri": "https://localhost:8080/"
        },
        "id": "7EkSnPXz5dSn",
        "outputId": "453413f9-3057-463d-ccd8-a42c29a51529"
      },
      "execution_count": 30,
      "outputs": [
        {
          "output_type": "stream",
          "name": "stdout",
          "text": [
            " Mean of INDUS:0.5347701711491443\n",
            "Mean of log_INDUS:-0.6438851431324695\n",
            "Mean of sqrt_INDUS :0.727945701248259\n"
          ]
        }
      ]
    },
    {
      "cell_type": "code",
      "source": [
        "count=df['INDUS'].between(-0.5,0.5).sum()\n",
        "print(count)\n",
        "print(f\"{count/df.shape[0]:0.2f}\")"
      ],
      "metadata": {
        "colab": {
          "base_uri": "https://localhost:8080/"
        },
        "id": "KCT5vzVK5w-U",
        "outputId": "5665c4a6-c82a-4a96-efb3-fce605a123ef"
      },
      "execution_count": 31,
      "outputs": [
        {
          "output_type": "stream",
          "name": "stdout",
          "text": [
            "175\n",
            "0.43\n"
          ]
        }
      ]
    },
    {
      "cell_type": "code",
      "source": [
        "df['NOX']=pd.DataFrame(df['NOX'])\n",
        "df['log_NOX']=np.log(df['NOX'])\n",
        "df['sqrt_NOX']=np.sqrt(df['NOX'])\n",
        "\n",
        "print(f\"Skewness of NOX :{skew(df['NOX'])}\")\n",
        "print(f\"skewness of log_NOX:{skew(df['log_NOX'])}\")\n",
        "print(f\"skwness of sqrt_NOX:{skew(df['sqrt_NOX'])}\")"
      ],
      "metadata": {
        "colab": {
          "base_uri": "https://localhost:8080/"
        },
        "id": "4MmviGMrFB-2",
        "outputId": "57b32f3e-5d13-44ee-f170-b71042e62b81"
      },
      "execution_count": 34,
      "outputs": [
        {
          "output_type": "stream",
          "name": "stdout",
          "text": [
            "Skewness of NOX :1.0515077139561435\n",
            "skewness of log_NOX:0.5953855516371701\n",
            "skwness of sqrt_NOX:0.8130638288036456\n"
          ]
        }
      ]
    },
    {
      "cell_type": "code",
      "source": [
        "fig, axis=plt.subplots(1,3,figsize=(15,5))\n",
        "sns.histplot(x=df['NOX'],ax=axis[0])\n",
        "sns.histplot(x=df['log_NOX'],ax=axis[1])\n",
        "sns.histplot(x=df['sqrt_NOX'],ax=axis[2])"
      ],
      "metadata": {
        "id": "2EoLSRsqFZYP",
        "colab": {
          "base_uri": "https://localhost:8080/",
          "height": 440
        },
        "outputId": "08302c19-5fb2-4b1a-b988-89c7872c4639"
      },
      "execution_count": 35,
      "outputs": [
        {
          "output_type": "execute_result",
          "data": {
            "text/plain": [
              "<Axes: xlabel='sqrt_NOX', ylabel='Count'>"
            ]
          },
          "metadata": {},
          "execution_count": 35
        },
        {
          "output_type": "display_data",
          "data": {
            "text/plain": [
              "<Figure size 1500x500 with 3 Axes>"
            ],
            "image/png": "[encoded data removed]"
          },
          "metadata": {}
        }
      ]
    },
    {
      "cell_type": "code",
      "source": [
        "print(f\" Mean of NOX:{df['NOX'].mean()}\")\n",
        "print(f\"Mean of log_NOX:{df['log_NOX'].mean()}\")\n",
        "print(f\"Mean of sqrt_NOX :{df['sqrt_NOX'].mean()}\")"
      ],
      "metadata": {
        "colab": {
          "base_uri": "https://localhost:8080/"
        },
        "id": "MVmnX4nx6yCb",
        "outputId": "56352b6f-181b-474f-9eae-08524afe3773"
      },
      "execution_count": 32,
      "outputs": [
        {
          "output_type": "stream",
          "name": "stdout",
          "text": [
            " Mean of NOX:0.5347701711491443\n",
            "Mean of log_NOX:-0.6438851431324695\n",
            "Mean of sqrt_NOX :0.727945701248259\n"
          ]
        }
      ]
    },
    {
      "cell_type": "code",
      "source": [
        "count=df['NOX'].between(-0.5,0.5).sum()\n",
        "print(count)\n",
        "print(f\"{count/df.shape[0]:0.2f}\")"
      ],
      "metadata": {
        "colab": {
          "base_uri": "https://localhost:8080/"
        },
        "id": "oY2I7BM6682L",
        "outputId": "74953340-ce0a-4b96-9e16-5f01ebb3bd7d"
      },
      "execution_count": 33,
      "outputs": [
        {
          "output_type": "stream",
          "name": "stdout",
          "text": [
            "175\n",
            "0.43\n"
          ]
        }
      ]
    },
    {
      "cell_type": "code",
      "source": [
        "df['log_RM']=np.log(df['RM'])\n",
        "df['sqrt_RM']=np.sqrt(df['RM'])\n",
        "\n",
        "print(f\"Skewness of RM :{skew(df['RM'])}\")\n",
        "print(f\"skewness of log_RM:{skew(df['log_RM'])}\")\n",
        "print(f\"skwness of sqrt_RM:{skew(df['sqrt_RM'])}\")"
      ],
      "metadata": {
        "colab": {
          "base_uri": "https://localhost:8080/"
        },
        "id": "L5b-uKkTFf0O",
        "outputId": "3c2aa452-2bc0-4154-cdfb-55fa554ed3d6"
      },
      "execution_count": 36,
      "outputs": [
        {
          "output_type": "stream",
          "name": "stdout",
          "text": [
            "Skewness of RM :0.194365534951798\n",
            "skewness of log_RM:-0.028820970294762875\n",
            "skwness of sqrt_RM:0.08401779456886238\n"
          ]
        }
      ]
    },
    {
      "cell_type": "code",
      "source": [
        "fig, axis=plt.subplots(1,3,figsize=(15,5))\n",
        "sns.histplot(x=df['RM'],ax=axis[0])\n",
        "sns.histplot(x=df['log_RM'],ax=axis[1])\n",
        "sns.histplot(x=df['sqrt_RM'],ax=axis[2])"
      ],
      "metadata": {
        "colab": {
          "base_uri": "https://localhost:8080/",
          "height": 441
        },
        "id": "HJ7M5E2xGEmg",
        "outputId": "aab3c023-5e36-44a5-fac5-ef6038f1e58a"
      },
      "execution_count": 37,
      "outputs": [
        {
          "output_type": "execute_result",
          "data": {
            "text/plain": [
              "<Axes: xlabel='sqrt_RM', ylabel='Count'>"
            ]
          },
          "metadata": {},
          "execution_count": 37
        },
        {
          "output_type": "display_data",
          "data": {
            "text/plain": [
              "<Figure size 1500x500 with 3 Axes>"
            ],
            "image/png": "[encoded data removed]"
          },
          "metadata": {}
        }
      ]
    },
    {
      "cell_type": "code",
      "source": [
        "print(f\" Mean of RM:{df['RM'].mean()}\")\n",
        "print(f\"Mean of log_RM  :{df['log_RM'].mean()}\")\n",
        "print(f\"Mean of sqrt_RM :{df['sqrt_RM'].mean()}\")"
      ],
      "metadata": {
        "colab": {
          "base_uri": "https://localhost:8080/"
        },
        "id": "PmfVKBZv7WPj",
        "outputId": "76357ef5-0f23-4280-a533-ca9f3f5d5ae6"
      },
      "execution_count": 38,
      "outputs": [
        {
          "output_type": "stream",
          "name": "stdout",
          "text": [
            " Mean of RM:6.223290597163245\n",
            "Mean of log_RM  :1.8256647211408463\n",
            "Mean of sqrt_RM :2.4930106892740604\n"
          ]
        }
      ]
    },
    {
      "cell_type": "code",
      "source": [
        "count=df['RM'].between(-0.5,0.5).sum()\n",
        "print(count)\n",
        "print(f\"{count/df.shape[0]:0.2f}\")"
      ],
      "metadata": {
        "colab": {
          "base_uri": "https://localhost:8080/"
        },
        "id": "Ce9VWByv7a7R",
        "outputId": "4bb5ed72-2244-4fc4-e678-e6e80fabc148"
      },
      "execution_count": 39,
      "outputs": [
        {
          "output_type": "stream",
          "name": "stdout",
          "text": [
            "0\n",
            "0.00\n"
          ]
        }
      ]
    },
    {
      "cell_type": "code",
      "source": [
        "df['log_AGE']=np.log(df['AGE'])\n",
        "df['sqrt_AGE']=np.sqrt(df['AGE'])\n",
        "\n",
        "print(f\"Skewness of AGE :{skew(df['AGE'])}\")\n",
        "print(f\"skewness of log_AGE:{skew(df['log_AGE'])}\")\n",
        "print(f\"skwness of sqrt_AGE:{skew(df['sqrt_AGE'])}\")"
      ],
      "metadata": {
        "colab": {
          "base_uri": "https://localhost:8080/"
        },
        "id": "2G1KjGIzGm-C",
        "outputId": "c66d46a8-cf4e-4115-d964-c16965fa69fb"
      },
      "execution_count": 40,
      "outputs": [
        {
          "output_type": "stream",
          "name": "stdout",
          "text": [
            "Skewness of AGE :-0.46156860220313045\n",
            "skewness of log_AGE:-1.5715614593051128\n",
            "skwness of sqrt_AGE:-0.8535461917297822\n"
          ]
        }
      ]
    },
    {
      "cell_type": "code",
      "source": [
        "fig, axis=plt.subplots(1,3,figsize=(15,5))\n",
        "sns.histplot(x=df['AGE'],ax=axis[0])\n",
        "sns.histplot(x=df['log_AGE'],ax=axis[1])\n",
        "sns.histplot(x=df['sqrt_AGE'],ax=axis[2])"
      ],
      "metadata": {
        "colab": {
          "base_uri": "https://localhost:8080/",
          "height": 437
        },
        "id": "5EYi8R4PGlQk",
        "outputId": "6147b7de-c7c3-4a59-8445-6f37bffb1963"
      },
      "execution_count": 41,
      "outputs": [
        {
          "output_type": "execute_result",
          "data": {
            "text/plain": [
              "<Axes: xlabel='sqrt_AGE', ylabel='Count'>"
            ]
          },
          "metadata": {},
          "execution_count": 41
        },
        {
          "output_type": "display_data",
          "data": {
            "text/plain": [
              "<Figure size 1500x500 with 3 Axes>"
            ],
            "image/png": "[encoded data removed]"
          },
          "metadata": {}
        }
      ]
    },
    {
      "cell_type": "code",
      "source": [
        "print(f\" Mean of AGE:{df['AGE'].mean()}\")\n",
        "print(f\"Mean of log_AGE  :{df['log_AGE'].mean()}\")\n",
        "print(f\"Mean of sqrt_AGE :{df['sqrt_AGE'].mean()}\")"
      ],
      "metadata": {
        "colab": {
          "base_uri": "https://localhost:8080/"
        },
        "id": "oaKfrWpp8EMv",
        "outputId": "c720e182-f97f-4f5f-8167-c115278dacae"
      },
      "execution_count": 42,
      "outputs": [
        {
          "output_type": "stream",
          "name": "stdout",
          "text": [
            " Mean of AGE:66.17139364303178\n",
            "Mean of log_AGE  :4.043641543778662\n",
            "Mean of sqrt_AGE :7.882209817322577\n"
          ]
        }
      ]
    },
    {
      "cell_type": "code",
      "source": [
        "count=df['AGE'].between(-0.5,0.5).sum()\n",
        "print(count)\n",
        "print(f\"{count/df.shape[0]:0.2f}\")"
      ],
      "metadata": {
        "colab": {
          "base_uri": "https://localhost:8080/"
        },
        "id": "4E8QBxkX8Ig2",
        "outputId": "3ec6117c-7e28-46dd-aceb-7b727cd8f954"
      },
      "execution_count": 43,
      "outputs": [
        {
          "output_type": "stream",
          "name": "stdout",
          "text": [
            "0\n",
            "0.00\n"
          ]
        }
      ]
    },
    {
      "cell_type": "code",
      "source": [
        "df['log_DIS']=np.log(df['DIS'])\n",
        "df['sqrt_DIS']=np.sqrt(df['DIS'])\n",
        "\n",
        "print(f\"Skewness of DIS :{skew(df['DIS'])}\")\n",
        "print(f\"skewness of log_DIS:{skew(df['log_DIS'])}\")\n",
        "print(f\"skwness of sqrt_DIS:{skew(df['sqrt_DIS'])}\")"
      ],
      "metadata": {
        "colab": {
          "base_uri": "https://localhost:8080/"
        },
        "id": "8XAL-jIFS2Rj",
        "outputId": "43762e05-f97d-4b2a-bf58-1d734f2eaa8a"
      },
      "execution_count": 46,
      "outputs": [
        {
          "output_type": "stream",
          "name": "stdout",
          "text": [
            "Skewness of DIS :0.705076051016126\n",
            "skewness of log_DIS:-0.03129911630931397\n",
            "skwness of sqrt_DIS:0.3380268728672972\n"
          ]
        }
      ]
    },
    {
      "cell_type": "code",
      "source": [
        "fig, axis=plt.subplots(1,3,figsize=(15,5))\n",
        "sns.histplot(x=df['DIS'],ax=axis[0])\n",
        "sns.histplot(x=df['log_DIS'],ax=axis[1])\n",
        "sns.histplot(x=df['sqrt_DIS'],ax=axis[2])"
      ],
      "metadata": {
        "colab": {
          "base_uri": "https://localhost:8080/",
          "height": 440
        },
        "id": "qUpANJZYTlfF",
        "outputId": "daedad2a-70ac-439c-d220-c4919959dcc8"
      },
      "execution_count": 47,
      "outputs": [
        {
          "output_type": "execute_result",
          "data": {
            "text/plain": [
              "<Axes: xlabel='sqrt_DIS', ylabel='Count'>"
            ]
          },
          "metadata": {},
          "execution_count": 47
        },
        {
          "output_type": "display_data",
          "data": {
            "text/plain": [
              "<Figure size 1500x500 with 3 Axes>"
            ],
            "image/png": "[encoded data removed]"
          },
          "metadata": {}
        }
      ]
    },
    {
      "cell_type": "code",
      "source": [
        "print(f\" Mean of DIS:{df['DIS'].mean()}\")\n",
        "print(f\"Mean of log_DIS  :{df['log_DIS'].mean()}\")\n",
        "print(f\"Mean of sqrt_DIS :{df['sqrt_DIS'].mean()}\")"
      ],
      "metadata": {
        "colab": {
          "base_uri": "https://localhost:8080/"
        },
        "id": "tHqTbHo986-2",
        "outputId": "c0ece2e2-df27-4b20-e423-e04676b9816d"
      },
      "execution_count": 48,
      "outputs": [
        {
          "output_type": "stream",
          "name": "stdout",
          "text": [
            " Mean of DIS:3.9417118176019788\n",
            "Mean of log_DIS  :1.2399591999462638\n",
            "Mean of sqrt_DIS :1.9223395749628631\n"
          ]
        }
      ]
    },
    {
      "cell_type": "code",
      "source": [
        "count=df['DIS'].between(-0.5,0.5).sum()\n",
        "print(count)\n",
        "print(f\"{count/df.shape[0]:0.2f}\")"
      ],
      "metadata": {
        "colab": {
          "base_uri": "https://localhost:8080/"
        },
        "id": "41-m8tKH87aH",
        "outputId": "e9accda7-6e10-4710-afad-1afc4d432f64"
      },
      "execution_count": 49,
      "outputs": [
        {
          "output_type": "stream",
          "name": "stdout",
          "text": [
            "0\n",
            "0.00\n"
          ]
        }
      ]
    },
    {
      "cell_type": "code",
      "source": [
        "df['log_RAD']=np.log(df['RAD'])\n",
        "df['sqrt_RAD']=np.sqrt(df['RAD'])\n",
        "\n",
        "print(f\"Skewness of RAD:{skew(df['RAD'])}\")\n",
        "print(f\"skewness of log_RAD:{skew(df['log_RAD'])}\")\n",
        "print(f\"skwness of sqrt_RAD:{skew(df['sqrt_RAD'])}\")"
      ],
      "metadata": {
        "colab": {
          "base_uri": "https://localhost:8080/"
        },
        "id": "N_R9JqedT6qw",
        "outputId": "19b47b96-4494-4811-8e15-e020c3ecbe42"
      },
      "execution_count": 51,
      "outputs": [
        {
          "output_type": "stream",
          "name": "stdout",
          "text": [
            "Skewness of RAD:1.7822724578940912\n",
            "skewness of log_RAD:0.5027960453557292\n",
            "skwness of sqrt_RAD:1.4212634803532895\n"
          ]
        }
      ]
    },
    {
      "cell_type": "code",
      "source": [
        "fig, axis=plt.subplots(1,3,figsize=(15,5))\n",
        "sns.histplot(x=df['RAD'],ax=axis[0])\n",
        "sns.histplot(x=df['log_RAD'],ax=axis[1])\n",
        "sns.histplot(x=df['sqrt_RAD'],ax=axis[2])"
      ],
      "metadata": {
        "colab": {
          "base_uri": "https://localhost:8080/",
          "height": 437
        },
        "id": "DzbkgIWZUQEK",
        "outputId": "fd80b532-8e0e-420a-ffd1-5ad4a56c2632"
      },
      "execution_count": 52,
      "outputs": [
        {
          "output_type": "execute_result",
          "data": {
            "text/plain": [
              "<Axes: xlabel='sqrt_RAD', ylabel='Count'>"
            ]
          },
          "metadata": {},
          "execution_count": 52
        },
        {
          "output_type": "display_data",
          "data": {
            "text/plain": [
              "<Figure size 1500x500 with 3 Axes>"
            ],
            "image/png": "[encoded data removed]"
          },
          "metadata": {}
        }
      ]
    },
    {
      "cell_type": "code",
      "source": [
        "print(f\" Mean of RAD:{df['RAD'].mean()}\")\n",
        "print(f\"Mean of log_RAD  :{df['log_RAD'].mean()}\")\n",
        "print(f\"Mean of sqrt_RAD :{df['sqrt_RAD'].mean()}\")"
      ],
      "metadata": {
        "colab": {
          "base_uri": "https://localhost:8080/"
        },
        "id": "FFS2Z6Xm9fmz",
        "outputId": "f22dcda7-8b23-47fe-e0dc-0372d53f2552"
      },
      "execution_count": 53,
      "outputs": [
        {
          "output_type": "stream",
          "name": "stdout",
          "text": [
            " Mean of RAD:7.354523227383863\n",
            "Mean of log_RAD  :1.6649378662542202\n",
            "Mean of sqrt_RAD :2.486790470551101\n"
          ]
        }
      ]
    },
    {
      "cell_type": "code",
      "source": [
        "count=df['RAD'].between(-0.5,0.5).sum()\n",
        "print(count)\n",
        "print(f\"{count/df.shape[0]:0.2f}\")"
      ],
      "metadata": {
        "colab": {
          "base_uri": "https://localhost:8080/"
        },
        "id": "VEan-zkv9fzd",
        "outputId": "a0f82ab6-6c31-436e-eede-f0f48be84186"
      },
      "execution_count": 54,
      "outputs": [
        {
          "output_type": "stream",
          "name": "stdout",
          "text": [
            "0\n",
            "0.00\n"
          ]
        }
      ]
    },
    {
      "cell_type": "code",
      "source": [
        "df['log_TAX']=np.log(df['TAX'])\n",
        "df['sqrt_TAX']=np.sqrt(df['TAX'])\n",
        "\n",
        "print(f\"Skewness of TAX:{skew(df['TAX'])}\")\n",
        "print(f\"skewness of log_TAX:{skew(df['log_TAX'])}\")\n",
        "print(f\"skwness of sqrt_TAX:{skew(df['sqrt_TAX'])}\")"
      ],
      "metadata": {
        "colab": {
          "base_uri": "https://localhost:8080/"
        },
        "id": "arEMnQOcUYpn",
        "outputId": "6c7b3a30-5722-4ff6-dd82-f295896f0605"
      },
      "execution_count": 56,
      "outputs": [
        {
          "output_type": "stream",
          "name": "stdout",
          "text": [
            "Skewness of TAX:1.2047224151195706\n",
            "skewness of log_TAX:0.6713658924454772\n",
            "skwness of sqrt_TAX:0.9641976439685198\n"
          ]
        }
      ]
    },
    {
      "cell_type": "code",
      "source": [
        "fig, axis=plt.subplots(1,3,figsize=(15,5))\n",
        "sns.histplot(x=df['TAX'],ax=axis[0])\n",
        "sns.histplot(x=df['log_TAX'],ax=axis[1])\n",
        "sns.histplot(x=df['sqrt_TAX'],ax=axis[2])"
      ],
      "metadata": {
        "colab": {
          "base_uri": "https://localhost:8080/",
          "height": 437
        },
        "id": "Olxb4gX9UwxF",
        "outputId": "440897db-dd0b-4a6d-ff15-4b36dfa3a541"
      },
      "execution_count": 57,
      "outputs": [
        {
          "output_type": "execute_result",
          "data": {
            "text/plain": [
              "<Axes: xlabel='sqrt_TAX', ylabel='Count'>"
            ]
          },
          "metadata": {},
          "execution_count": 57
        },
        {
          "output_type": "display_data",
          "data": {
            "text/plain": [
              "<Figure size 1500x500 with 3 Axes>"
            ],
            "image/png": "[encoded data removed]"
          },
          "metadata": {}
        }
      ]
    },
    {
      "cell_type": "code",
      "source": [
        "print(f\" Mean of TAX:{df['TAX'].mean()}\")\n",
        "print(f\"Mean of log_TAX  :{df['log_TAX'].mean()}\")\n",
        "print(f\"Mean of sqrt_TAX :{df['sqrt_TAX'].mean()}\")"
      ],
      "metadata": {
        "colab": {
          "base_uri": "https://localhost:8080/"
        },
        "id": "gr-sY1YQ-I9I",
        "outputId": "4904ea51-8644-4999-b878-46d49d99cb2e"
      },
      "execution_count": 58,
      "outputs": [
        {
          "output_type": "stream",
          "name": "stdout",
          "text": [
            " Mean of TAX:369.5281173594132\n",
            "Mean of log_TAX  :5.847753221763536\n",
            "Mean of sqrt_TAX :18.906088531476204\n"
          ]
        }
      ]
    },
    {
      "cell_type": "code",
      "source": [
        "count=df['TAX'].between(-0.5,0.5).sum()\n",
        "print(count)\n",
        "print(f\"{count/df.shape[0]:0.2f}\")"
      ],
      "metadata": {
        "colab": {
          "base_uri": "https://localhost:8080/"
        },
        "id": "A9h7XLIZ-JCU",
        "outputId": "f13d7336-378e-4460-f01b-bb11250c4e52"
      },
      "execution_count": 59,
      "outputs": [
        {
          "output_type": "stream",
          "name": "stdout",
          "text": [
            "0\n",
            "0.00\n"
          ]
        }
      ]
    },
    {
      "cell_type": "code",
      "source": [
        "df['log_PTRATIO']=np.log(df['PTRATIO'])\n",
        "df['sqrt_PTRATIO']=np.sqrt(df['PTRATIO'])\n",
        "\n",
        "print(f\"Skewness of PTRATIO:{skew(df['PTRATIO'])}\")\n",
        "print(f\"skewness of log_PTRATIO:{skew(df['log_PTRATIO'])}\")\n",
        "print(f\"skwness of sqrt_PTRATIO:{skew(df['sqrt_PTRATIO'])}\")"
      ],
      "metadata": {
        "colab": {
          "base_uri": "https://localhost:8080/"
        },
        "id": "4iqVp2w1U6Vj",
        "outputId": "13dcaf2c-9d1a-4502-8f05-da49602ad72b"
      },
      "execution_count": 60,
      "outputs": [
        {
          "output_type": "stream",
          "name": "stdout",
          "text": [
            "Skewness of PTRATIO:-0.3907176020483543\n",
            "skewness of log_PTRATIO:-0.5966377107655423\n",
            "skwness of sqrt_PTRATIO:-0.49425612417836584\n"
          ]
        }
      ]
    },
    {
      "cell_type": "code",
      "source": [
        "fig, axis=plt.subplots(1,3,figsize=(15,5))\n",
        "sns.histplot(x=df['PTRATIO'],ax=axis[0])\n",
        "sns.histplot(x=df['log_PTRATIO'],ax=axis[1])\n",
        "sns.histplot(x=df['sqrt_PTRATIO'],ax=axis[2])"
      ],
      "metadata": {
        "id": "1Fsp4-FlU8VR",
        "colab": {
          "base_uri": "https://localhost:8080/",
          "height": 440
        },
        "outputId": "42d9413b-ef12-42f9-d8fc-fc60c171a533"
      },
      "execution_count": 61,
      "outputs": [
        {
          "output_type": "execute_result",
          "data": {
            "text/plain": [
              "<Axes: xlabel='sqrt_PTRATIO', ylabel='Count'>"
            ]
          },
          "metadata": {},
          "execution_count": 61
        },
        {
          "output_type": "display_data",
          "data": {
            "text/plain": [
              "<Figure size 1500x500 with 3 Axes>"
            ],
            "image/png": "[encoded data removed]"
          },
          "metadata": {}
        }
      ]
    },
    {
      "cell_type": "code",
      "source": [
        "print(f\" Mean of PTRATIO:{df['PTRATIO'].mean()}\")\n",
        "print(f\"Mean of log_PTRATIO  :{df['log_PTRATIO'].mean()}\")\n",
        "print(f\"Mean of sqrt_PTRATIO :{df['sqrt_PTRATIO'].mean()}\")"
      ],
      "metadata": {
        "colab": {
          "base_uri": "https://localhost:8080/"
        },
        "id": "6vDvLBYs-wB3",
        "outputId": "18bb4473-4be2-4199-c1df-c559cf2d9516"
      },
      "execution_count": 62,
      "outputs": [
        {
          "output_type": "stream",
          "name": "stdout",
          "text": [
            " Mean of PTRATIO:18.54593520782396\n",
            "Mean of log_PTRATIO  :2.914300427955668\n",
            "Mean of sqrt_PTRATIO :4.300171275790886\n"
          ]
        }
      ]
    },
    {
      "cell_type": "code",
      "source": [
        "count=df['PTRATIO'].between(-0.5,0.5).sum()\n",
        "print(count)\n",
        "print(f\"{count/df.shape[0]:0.2f}\")"
      ],
      "metadata": {
        "colab": {
          "base_uri": "https://localhost:8080/"
        },
        "id": "DhMc-aWx-wEN",
        "outputId": "854fac82-dfd1-428d-b601-0ebb8f4d7e74"
      },
      "execution_count": 63,
      "outputs": [
        {
          "output_type": "stream",
          "name": "stdout",
          "text": [
            "0\n",
            "0.00\n"
          ]
        }
      ]
    },
    {
      "cell_type": "code",
      "source": [
        "df['log_MEDV']=np.log(df['MEDV'])\n",
        "df['sqrt_MEDV']=np.sqrt(df['MEDV'])\n",
        "\n",
        "print(f\"Skewness of MEDV:{skew(df['MEDV'])}\")\n",
        "print(f\"skewness of log_MEDV:{skew(df['log_MEDV'])}\")\n",
        "print(f\"skwness of sqrt_MEDV:{skew(df['sqrt_MEDV'])}\")"
      ],
      "metadata": {
        "colab": {
          "base_uri": "https://localhost:8080/"
        },
        "id": "2Vc15s-0vVQz",
        "outputId": "ffd30ecc-f030-4e9c-a1af-077d91fbfc98"
      },
      "execution_count": 64,
      "outputs": [
        {
          "output_type": "stream",
          "name": "stdout",
          "text": [
            "Skewness of MEDV:-0.027883865490077275\n",
            "skewness of log_MEDV:-0.9786826789204108\n",
            "skwness of sqrt_MEDV:-0.4841238060897462\n"
          ]
        }
      ]
    },
    {
      "cell_type": "code",
      "source": [
        "fig, axis=plt.subplots(1,3,figsize=(15,5))\n",
        "sns.histplot(x=df['MEDV'],ax=axis[0])\n",
        "sns.histplot(x=df['log_MEDV'],ax=axis[1])\n",
        "sns.histplot(x=df['sqrt_MEDV'],ax=axis[2])"
      ],
      "metadata": {
        "colab": {
          "base_uri": "https://localhost:8080/",
          "height": 441
        },
        "id": "Sbxyg8eIvYRO",
        "outputId": "cec1a8be-0551-4c95-90cc-ced429642305"
      },
      "execution_count": 65,
      "outputs": [
        {
          "output_type": "execute_result",
          "data": {
            "text/plain": [
              "<Axes: xlabel='sqrt_MEDV', ylabel='Count'>"
            ]
          },
          "metadata": {},
          "execution_count": 65
        },
        {
          "output_type": "display_data",
          "data": {
            "text/plain": [
              "<Figure size 1500x500 with 3 Axes>"
            ],
            "image/png": "[encoded data removed]"
          },
          "metadata": {}
        }
      ]
    },
    {
      "cell_type": "code",
      "source": [
        "print(f\" Mean of MEDV:{df['MEDV'].mean()}\")\n",
        "print(f\"Mean of log_MEDV  :{df['log_MEDV'].mean()}\")\n",
        "print(f\"Mean of sqrt_MEDV:{df['sqrt_MEDV'].mean()}\")"
      ],
      "metadata": {
        "id": "WWRhWhOp_Pfw"
      },
      "execution_count": null,
      "outputs": []
    },
    {
      "cell_type": "code",
      "source": [
        "count=df['MEDV'].between(-0.5,0.5).sum()\n",
        "print(count)\n",
        "print(f\"{count/df.shape[0]:0.2f}\")"
      ],
      "metadata": {
        "id": "DheCtMzE_PjR"
      },
      "execution_count": null,
      "outputs": []
    },
    {
      "cell_type": "code",
      "source": [
        "df['log_LSTAT']=np.log(df['LSTAT'])\n",
        "df['sqrt_LSTAT']=np.sqrt(df['LSTAT'])\n",
        "\n",
        "print(f\"Skewness of LSTAT:{skew(df['LSTAT'])}\")\n",
        "print(f\"skewness of log_LSTAT:{skew(df['log_LSTAT'])}\")\n",
        "print(f\"skwness of sqrt_LSTAT:{skew(df['sqrt_LSTAT'])}\")"
      ],
      "metadata": {
        "colab": {
          "base_uri": "https://localhost:8080/"
        },
        "id": "Ite6FD--vudG",
        "outputId": "b79981e3-a18c-457f-f3fa-fb4133c2e949"
      },
      "execution_count": 67,
      "outputs": [
        {
          "output_type": "stream",
          "name": "stdout",
          "text": [
            "Skewness of LSTAT:0.7980392906642966\n",
            "skewness of log_LSTAT:-0.2621798995911498\n",
            "skwness of sqrt_LSTAT:0.2885882923343824\n"
          ]
        }
      ]
    },
    {
      "cell_type": "code",
      "source": [
        "fig, axis=plt.subplots(1,3,figsize=(15,5))\n",
        "sns.histplot(x=df['LSTAT'],ax=axis[0])\n",
        "sns.histplot(x=df['log_LSTAT'],ax=axis[1])\n",
        "sns.histplot(x=df['sqrt_LSTAT'],ax=axis[2])"
      ],
      "metadata": {
        "colab": {
          "base_uri": "https://localhost:8080/",
          "height": 440
        },
        "id": "ehqtkJo5vwr4",
        "outputId": "716eabb4-62a9-4d24-f027-0a248fb8529c"
      },
      "execution_count": 68,
      "outputs": [
        {
          "output_type": "execute_result",
          "data": {
            "text/plain": [
              "<Axes: xlabel='sqrt_LSTAT', ylabel='Count'>"
            ]
          },
          "metadata": {},
          "execution_count": 68
        },
        {
          "output_type": "display_data",
          "data": {
            "text/plain": [
              "<Figure size 1500x500 with 3 Axes>"
            ],
            "image/png": "[encoded data removed]"
          },
          "metadata": {}
        }
      ]
    },
    {
      "cell_type": "code",
      "source": [
        "print(f\" Mean of LSTAT:{df['LSTAT'].mean()}\")\n",
        "print(f\"Mean of log_LSTAT  :{df['log_LSTAT'].mean()}\")\n",
        "print(f\"Mean of sqrt_LSTAT:{df['sqrt_LSTAT'].mean()}\")"
      ],
      "metadata": {
        "colab": {
          "base_uri": "https://localhost:8080/"
        },
        "id": "p59k3rGZw8ef",
        "outputId": "fb1666fc-e4df-4303-ca6c-2790067c751f"
      },
      "execution_count": 66,
      "outputs": [
        {
          "output_type": "stream",
          "name": "stdout",
          "text": [
            " Mean of LSTAT:12.001095335079984\n",
            "Mean of log_LSTAT  :2.3397999147845265\n",
            "Mean of sqrt_LSTAT:3.3449558025724606\n"
          ]
        }
      ]
    },
    {
      "cell_type": "code",
      "source": [
        "count=df['LSTAT'].between(-0.5,0.5).sum()\n",
        "print(count)\n",
        "print(f\"{count/df.shape[0]:0.2f}\")"
      ],
      "metadata": {
        "colab": {
          "base_uri": "https://localhost:8080/"
        },
        "id": "RSTS1XDs_wQA",
        "outputId": "a820a900-b1ce-4c07-d4fa-360886bd8107"
      },
      "execution_count": 69,
      "outputs": [
        {
          "output_type": "stream",
          "name": "stdout",
          "text": [
            "0\n",
            "0.00\n"
          ]
        }
      ]
    },
    {
      "cell_type": "code",
      "source": [
        "df.columns"
      ],
      "metadata": {
        "colab": {
          "base_uri": "https://localhost:8080/"
        },
        "id": "PBTeg6mBC3r0",
        "outputId": "268205a9-16c8-4037-b5fb-7b4b055ff30d"
      },
      "execution_count": 70,
      "outputs": [
        {
          "output_type": "execute_result",
          "data": {
            "text/plain": [
              "Index(['CRIM', 'INDUS', 'NOX', 'RM', 'AGE', 'DIS', 'RAD', 'TAX', 'PTRATIO',\n",
              "       'LSTAT', 'MEDV', 'log_PTRATIO', 'sqrt_PTRATIO', 'log_CRIM', 'sqrt_CRIM',\n",
              "       'log_MEDV', 'sqrt_MEDV', 'log_LSTAT', 'sqrt_LSTAT', 'log_NOX',\n",
              "       'sqrt_NOX', 'log_INDUS', 'sqrt_INDUS', 'log_RM', 'sqrt_RM', 'log_AGE',\n",
              "       'sqrt_AGE', 'log_DIS', 'sqrt_DIS', 'log_RAD', 'sqrt_RAD', 'log_TAX',\n",
              "       'sqrt_TAX'],\n",
              "      dtype='object')"
            ]
          },
          "metadata": {},
          "execution_count": 70
        }
      ]
    },
    {
      "cell_type": "code",
      "source": [
        "df=df.drop(columns=['CRIM','INDUS','NOX','RM','RM','DIS','RAD','TAX','PTRATIO','LSTAT','MEDV','sqrt_PTRATIO','log_CRIM','sqrt_MEDV','sqrt_LSTAT','sqrt_NOX','sqrt_INDUS','sqrt_RM','log_AGE','sqrt_DIS','sqrt_RAD','sqrt_TAX'])\n",
        "df=df.drop(columns=['AGE'])\n",
        "df"
      ],
      "metadata": {
        "colab": {
          "base_uri": "https://localhost:8080/",
          "height": 423
        },
        "id": "3pJkZ2WLAEV_",
        "outputId": "85bc25f3-f137-4636-b3df-67f61c567360"
      },
      "execution_count": 74,
      "outputs": [
        {
          "output_type": "execute_result",
          "data": {
            "text/plain": [
              "     log_PTRATIO  sqrt_CRIM  log_MEDV  log_LSTAT   log_NOX  log_INDUS  \\\n",
              "0       2.727853   0.079498  3.178054   1.605430 -0.619897  -0.619897   \n",
              "1       2.879198   0.165257  3.072693   2.212660 -0.757153  -0.757153   \n",
              "3       2.928524   0.179917  3.508556   1.078410 -0.780886  -0.780886   \n",
              "5       2.928524   0.172772  3.356897   1.650580 -0.780886  -0.780886   \n",
              "6       2.721295   0.297136  3.131137   2.520113 -0.646264  -0.646264   \n",
              "..           ...        ...       ...        ...       ...        ...   \n",
              "506     3.135494   0.993806  2.484907   2.484907 -0.578034  -0.578034   \n",
              "507     3.135494   0.484314  3.465736   3.218876 -0.578034  -0.578034   \n",
              "508     3.135494   0.666581  3.031657   3.044522 -0.578034  -0.578034   \n",
              "509     3.135494   0.881833  3.031657   2.519415 -0.578034  -0.578034   \n",
              "510     3.135494   0.808900  3.178054   2.519415 -0.578034  -0.578034   \n",
              "\n",
              "       log_RM  sqrt_AGE   log_DIS   log_RAD   log_TAX  \n",
              "0    1.883275  8.074652  1.408545  0.000000  5.690359  \n",
              "1    1.859574  8.882567  1.602836  0.693147  5.488938  \n",
              "3    1.945624  6.767570  1.802073  1.098612  5.402677  \n",
              "5    1.860975  7.661593  1.802073  1.098612  5.402677  \n",
              "6    1.793757  8.160882  1.715688  1.609438  5.739793  \n",
              "..        ...       ...       ...       ...       ...  \n",
              "506  1.943049  9.433981  0.740985  1.098612  5.768321  \n",
              "507  1.943049  8.717798  0.976068  1.098612  5.768321  \n",
              "508  1.812052  9.899495  1.094270  1.098612  5.768321  \n",
              "509  1.828091  5.830952  0.933344  1.098612  5.796058  \n",
              "510  1.911023  8.185353  1.094270  1.098612  5.843544  \n",
              "\n",
              "[409 rows x 11 columns]"
            ],
            "text/html": [
              "\n",
              "  <div id=\"df-d332a430-9319-4d49-a2c6-837acf773434\" class=\"colab-df-container\">\n",
              "    <div>\n",
              "<style scoped>\n",
              "    .dataframe tbody tr th:only-of-type {\n",
              "        vertical-align: middle;\n",
              "    }\n",
              "\n",
              "    .dataframe tbody tr th {\n",
              "        vertical-align: top;\n",
              "    }\n",
              "\n",
              "    .dataframe thead th {\n",
              "        text-align: right;\n",
              "    }\n",
              "</style>\n",
              "<table border=\"1\" class=\"dataframe\">\n",
              "  <thead>\n",
              "    <tr style=\"text-align: right;\">\n",
              "      <th></th>\n",
              "      <th>log_PTRATIO</th>\n",
              "      <th>sqrt_CRIM</th>\n",
              "      <th>log_MEDV</th>\n",
              "      <th>log_LSTAT</th>\n",
              "      <th>log_NOX</th>\n",
              "      <th>log_INDUS</th>\n",
              "      <th>log_RM</th>\n",
              "      <th>sqrt_AGE</th>\n",
              "      <th>log_DIS</th>\n",
              "      <th>log_RAD</th>\n",
              "      <th>log_TAX</th>\n",
              "    </tr>\n",
              "  </thead>\n",
              "  <tbody>\n",
              "    <tr>\n",
              "      <th>0</th>\n",
              "      <td>2.727853</td>\n",
              "      <td>0.079498</td>\n",
              "      <td>3.178054</td>\n",
              "      <td>1.605430</td>\n",
              "      <td>-0.619897</td>\n",
              "      <td>-0.619897</td>\n",
              "      <td>1.883275</td>\n",
              "      <td>8.074652</td>\n",
              "      <td>1.408545</td>\n",
              "      <td>0.000000</td>\n",
              "      <td>5.690359</td>\n",
              "    </tr>\n",
              "    <tr>\n",
              "      <th>1</th>\n",
              "      <td>2.879198</td>\n",
              "      <td>0.165257</td>\n",
              "      <td>3.072693</td>\n",
              "      <td>2.212660</td>\n",
              "      <td>-0.757153</td>\n",
              "      <td>-0.757153</td>\n",
              "      <td>1.859574</td>\n",
              "      <td>8.882567</td>\n",
              "      <td>1.602836</td>\n",
              "      <td>0.693147</td>\n",
              "      <td>5.488938</td>\n",
              "    </tr>\n",
              "    <tr>\n",
              "      <th>3</th>\n",
              "      <td>2.928524</td>\n",
              "      <td>0.179917</td>\n",
              "      <td>3.508556</td>\n",
              "      <td>1.078410</td>\n",
              "      <td>-0.780886</td>\n",
              "      <td>-0.780886</td>\n",
              "      <td>1.945624</td>\n",
              "      <td>6.767570</td>\n",
              "      <td>1.802073</td>\n",
              "      <td>1.098612</td>\n",
              "      <td>5.402677</td>\n",
              "    </tr>\n",
              "    <tr>\n",
              "      <th>5</th>\n",
              "      <td>2.928524</td>\n",
              "      <td>0.172772</td>\n",
              "      <td>3.356897</td>\n",
              "      <td>1.650580</td>\n",
              "      <td>-0.780886</td>\n",
              "      <td>-0.780886</td>\n",
              "      <td>1.860975</td>\n",
              "      <td>7.661593</td>\n",
              "      <td>1.802073</td>\n",
              "      <td>1.098612</td>\n",
              "      <td>5.402677</td>\n",
              "    </tr>\n",
              "    <tr>\n",
              "      <th>6</th>\n",
              "      <td>2.721295</td>\n",
              "      <td>0.297136</td>\n",
              "      <td>3.131137</td>\n",
              "      <td>2.520113</td>\n",
              "      <td>-0.646264</td>\n",
              "      <td>-0.646264</td>\n",
              "      <td>1.793757</td>\n",
              "      <td>8.160882</td>\n",
              "      <td>1.715688</td>\n",
              "      <td>1.609438</td>\n",
              "      <td>5.739793</td>\n",
              "    </tr>\n",
              "    <tr>\n",
              "      <th>...</th>\n",
              "      <td>...</td>\n",
              "      <td>...</td>\n",
              "      <td>...</td>\n",
              "      <td>...</td>\n",
              "      <td>...</td>\n",
              "      <td>...</td>\n",
              "      <td>...</td>\n",
              "      <td>...</td>\n",
              "      <td>...</td>\n",
              "      <td>...</td>\n",
              "      <td>...</td>\n",
              "    </tr>\n",
              "    <tr>\n",
              "      <th>506</th>\n",
              "      <td>3.135494</td>\n",
              "      <td>0.993806</td>\n",
              "      <td>2.484907</td>\n",
              "      <td>2.484907</td>\n",
              "      <td>-0.578034</td>\n",
              "      <td>-0.578034</td>\n",
              "      <td>1.943049</td>\n",
              "      <td>9.433981</td>\n",
              "      <td>0.740985</td>\n",
              "      <td>1.098612</td>\n",
              "      <td>5.768321</td>\n",
              "    </tr>\n",
              "    <tr>\n",
              "      <th>507</th>\n",
              "      <td>3.135494</td>\n",
              "      <td>0.484314</td>\n",
              "      <td>3.465736</td>\n",
              "      <td>3.218876</td>\n",
              "      <td>-0.578034</td>\n",
              "      <td>-0.578034</td>\n",
              "      <td>1.943049</td>\n",
              "      <td>8.717798</td>\n",
              "      <td>0.976068</td>\n",
              "      <td>1.098612</td>\n",
              "      <td>5.768321</td>\n",
              "    </tr>\n",
              "    <tr>\n",
              "      <th>508</th>\n",
              "      <td>3.135494</td>\n",
              "      <td>0.666581</td>\n",
              "      <td>3.031657</td>\n",
              "      <td>3.044522</td>\n",
              "      <td>-0.578034</td>\n",
              "      <td>-0.578034</td>\n",
              "      <td>1.812052</td>\n",
              "      <td>9.899495</td>\n",
              "      <td>1.094270</td>\n",
              "      <td>1.098612</td>\n",
              "      <td>5.768321</td>\n",
              "    </tr>\n",
              "    <tr>\n",
              "      <th>509</th>\n",
              "      <td>3.135494</td>\n",
              "      <td>0.881833</td>\n",
              "      <td>3.031657</td>\n",
              "      <td>2.519415</td>\n",
              "      <td>-0.578034</td>\n",
              "      <td>-0.578034</td>\n",
              "      <td>1.828091</td>\n",
              "      <td>5.830952</td>\n",
              "      <td>0.933344</td>\n",
              "      <td>1.098612</td>\n",
              "      <td>5.796058</td>\n",
              "    </tr>\n",
              "    <tr>\n",
              "      <th>510</th>\n",
              "      <td>3.135494</td>\n",
              "      <td>0.808900</td>\n",
              "      <td>3.178054</td>\n",
              "      <td>2.519415</td>\n",
              "      <td>-0.578034</td>\n",
              "      <td>-0.578034</td>\n",
              "      <td>1.911023</td>\n",
              "      <td>8.185353</td>\n",
              "      <td>1.094270</td>\n",
              "      <td>1.098612</td>\n",
              "      <td>5.843544</td>\n",
              "    </tr>\n",
              "  </tbody>\n",
              "</table>\n",
              "<p>409 rows × 11 columns</p>\n",
              "</div>\n",
              "    <div class=\"colab-df-buttons\">\n",
              "\n",
              "  <div class=\"colab-df-container\">\n",
              "    <button class=\"colab-df-convert\" onclick=\"convertToInteractive('df-d332a430-9319-4d49-a2c6-837acf773434')\"\n",
              "            title=\"Convert this dataframe to an interactive table.\"\n",
              "            style=\"display:none;\">\n",
              "\n",
              "  <svg xmlns=\"http://www.w3.org/2000/svg\" height=\"24px\" viewBox=\"0 -960 960 960\">\n",
              "    <path d=\"M120-120v-720h720v720H120Zm60-500h600v-160H180v160Zm220 220h160v-160H400v160Zm0 220h160v-160H400v160ZM180-400h160v-160H180v160Zm440 0h160v-160H620v160ZM180-180h160v-160H180v160Zm440 0h160v-160H620v160Z\"/>\n",
              "  </svg>\n",
              "    </button>\n",
              "\n",
              "  <style>\n",
              "    .colab-df-container {\n",
              "      display:flex;\n",
              "      gap: 12px;\n",
              "    }\n",
              "\n",
              "    .colab-df-convert {\n",
              "      background-color: #E8F0FE;\n",
              "      border: none;\n",
              "      border-radius: 50%;\n",
              "      cursor: pointer;\n",
              "      display: none;\n",
              "      fill: #1967D2;\n",
              "      height: 32px;\n",
              "      padding: 0 0 0 0;\n",
              "      width: 32px;\n",
              "    }\n",
              "\n",
              "    .colab-df-convert:hover {\n",
              "      background-color: #E2EBFA;\n",
              "      box-shadow: 0px 1px 2px rgba(60, 64, 67, 0.3), 0px 1px 3px 1px rgba(60, 64, 67, 0.15);\n",
              "      fill: #174EA6;\n",
              "    }\n",
              "\n",
              "    .colab-df-buttons div {\n",
              "      margin-bottom: 4px;\n",
              "    }\n",
              "\n",
              "    [theme=dark] .colab-df-convert {\n",
              "      background-color: #3B4455;\n",
              "      fill: #D2E3FC;\n",
              "    }\n",
              "\n",
              "    [theme=dark] .colab-df-convert:hover {\n",
              "      background-color: #434B5C;\n",
              "      box-shadow: 0px 1px 3px 1px rgba(0, 0, 0, 0.15);\n",
              "      filter: drop-shadow(0px 1px 2px rgba(0, 0, 0, 0.3));\n",
              "      fill: #FFFFFF;\n",
              "    }\n",
              "  </style>\n",
              "\n",
              "    <script>\n",
              "      const buttonEl =\n",
              "        document.querySelector('#df-d332a430-9319-4d49-a2c6-837acf773434 button.colab-df-convert');\n",
              "      buttonEl.style.display =\n",
              "        google.colab.kernel.accessAllowed ? 'block' : 'none';\n",
              "\n",
              "      async function convertToInteractive(key) {\n",
              "        const element = document.querySelector('#df-d332a430-9319-4d49-a2c6-837acf773434');\n",
              "        const dataTable =\n",
              "          await google.colab.kernel.invokeFunction('convertToInteractive',\n",
              "                                                    [key], {});\n",
              "        if (!dataTable) return;\n",
              "\n",
              "        const docLinkHtml = 'Like what you see? Visit the ' +\n",
              "          '<a target=\"_blank\" href=https://colab.research.google.com/notebooks/data_table.ipynb>data table notebook</a>'\n",
              "          + ' to learn more about interactive tables.';\n",
              "        element.innerHTML = '';\n",
              "        dataTable['output_type'] = 'display_data';\n",
              "        await google.colab.output.renderOutput(dataTable, element);\n",
              "        const docLink = document.createElement('div');\n",
              "        docLink.innerHTML = docLinkHtml;\n",
              "        element.appendChild(docLink);\n",
              "      }\n",
              "    </script>\n",
              "  </div>\n",
              "\n",
              "\n",
              "<div id=\"df-39abb38e-1a31-4c9e-9cb9-5098a47afa27\">\n",
              "  <button class=\"colab-df-quickchart\" onclick=\"quickchart('df-39abb38e-1a31-4c9e-9cb9-5098a47afa27')\"\n",
              "            title=\"Suggest charts\"\n",
              "            style=\"display:none;\">\n",
              "\n",
              "<svg xmlns=\"http://www.w3.org/2000/svg\" height=\"24px\"viewBox=\"0 0 24 24\"\n",
              "     width=\"24px\">\n",
              "    <g>\n",
              "        <path d=\"M19 3H5c-1.1 0-2 .9-2 2v14c0 1.1.9 2 2 2h14c1.1 0 2-.9 2-2V5c0-1.1-.9-2-2-2zM9 17H7v-7h2v7zm4 0h-2V7h2v10zm4 0h-2v-4h2v4z\"/>\n",
              "    </g>\n",
              "</svg>\n",
              "  </button>\n",
              "\n",
              "<style>\n",
              "  .colab-df-quickchart {\n",
              "      --bg-color: #E8F0FE;\n",
              "      --fill-color: #1967D2;\n",
              "      --hover-bg-color: #E2EBFA;\n",
              "      --hover-fill-color: #174EA6;\n",
              "      --disabled-fill-color: #AAA;\n",
              "      --disabled-bg-color: #DDD;\n",
              "  }\n",
              "\n",
              "  [theme=dark] .colab-df-quickchart {\n",
              "      --bg-color: #3B4455;\n",
              "      --fill-color: #D2E3FC;\n",
              "      --hover-bg-color: #434B5C;\n",
              "      --hover-fill-color: #FFFFFF;\n",
              "      --disabled-bg-color: #3B4455;\n",
              "      --disabled-fill-color: #666;\n",
              "  }\n",
              "\n",
              "  .colab-df-quickchart {\n",
              "    background-color: var(--bg-color);\n",
              "    border: none;\n",
              "    border-radius: 50%;\n",
              "    cursor: pointer;\n",
              "    display: none;\n",
              "    fill: var(--fill-color);\n",
              "    height: 32px;\n",
              "    padding: 0;\n",
              "    width: 32px;\n",
              "  }\n",
              "\n",
              "  .colab-df-quickchart:hover {\n",
              "    background-color: var(--hover-bg-color);\n",
              "    box-shadow: 0 1px 2px rgba(60, 64, 67, 0.3), 0 1px 3px 1px rgba(60, 64, 67, 0.15);\n",
              "    fill: var(--button-hover-fill-color);\n",
              "  }\n",
              "\n",
              "  .colab-df-quickchart-complete:disabled,\n",
              "  .colab-df-quickchart-complete:disabled:hover {\n",
              "    background-color: var(--disabled-bg-color);\n",
              "    fill: var(--disabled-fill-color);\n",
              "    box-shadow: none;\n",
              "  }\n",
              "\n",
              "  .colab-df-spinner {\n",
              "    border: 2px solid var(--fill-color);\n",
              "    border-color: transparent;\n",
              "    border-bottom-color: var(--fill-color);\n",
              "    animation:\n",
              "      spin 1s steps(1) infinite;\n",
              "  }\n",
              "\n",
              "  @keyframes spin {\n",
              "    0% {\n",
              "      border-color: transparent;\n",
              "      border-bottom-color: var(--fill-color);\n",
              "      border-left-color: var(--fill-color);\n",
              "    }\n",
              "    20% {\n",
              "      border-color: transparent;\n",
              "      border-left-color: var(--fill-color);\n",
              "      border-top-color: var(--fill-color);\n",
              "    }\n",
              "    30% {\n",
              "      border-color: transparent;\n",
              "      border-left-color: var(--fill-color);\n",
              "      border-top-color: var(--fill-color);\n",
              "      border-right-color: var(--fill-color);\n",
              "    }\n",
              "    40% {\n",
              "      border-color: transparent;\n",
              "      border-right-color: var(--fill-color);\n",
              "      border-top-color: var(--fill-color);\n",
              "    }\n",
              "    60% {\n",
              "      border-color: transparent;\n",
              "      border-right-color: var(--fill-color);\n",
              "    }\n",
              "    80% {\n",
              "      border-color: transparent;\n",
              "      border-right-color: var(--fill-color);\n",
              "      border-bottom-color: var(--fill-color);\n",
              "    }\n",
              "    90% {\n",
              "      border-color: transparent;\n",
              "      border-bottom-color: var(--fill-color);\n",
              "    }\n",
              "  }\n",
              "</style>\n",
              "\n",
              "  <script>\n",
              "    async function quickchart(key) {\n",
              "      const quickchartButtonEl =\n",
              "        document.querySelector('#' + key + ' button');\n",
              "      quickchartButtonEl.disabled = true;  // To prevent multiple clicks.\n",
              "      quickchartButtonEl.classList.add('colab-df-spinner');\n",
              "      try {\n",
              "        const charts = await google.colab.kernel.invokeFunction(\n",
              "            'suggestCharts', [key], {});\n",
              "      } catch (error) {\n",
              "        console.error('Error during call to suggestCharts:', error);\n",
              "      }\n",
              "      quickchartButtonEl.classList.remove('colab-df-spinner');\n",
              "      quickchartButtonEl.classList.add('colab-df-quickchart-complete');\n",
              "    }\n",
              "    (() => {\n",
              "      let quickchartButtonEl =\n",
              "        document.querySelector('#df-39abb38e-1a31-4c9e-9cb9-5098a47afa27 button');\n",
              "      quickchartButtonEl.style.display =\n",
              "        google.colab.kernel.accessAllowed ? 'block' : 'none';\n",
              "    })();\n",
              "  </script>\n",
              "</div>\n",
              "\n",
              "  <div id=\"id_088b2a54-1815-4555-8852-b6d6f222ece0\">\n",
              "    <style>\n",
              "      .colab-df-generate {\n",
              "        background-color: #E8F0FE;\n",
              "        border: none;\n",
              "        border-radius: 50%;\n",
              "        cursor: pointer;\n",
              "        display: none;\n",
              "        fill: #1967D2;\n",
              "        height: 32px;\n",
              "        padding: 0 0 0 0;\n",
              "        width: 32px;\n",
              "      }\n",
              "\n",
              "      .colab-df-generate:hover {\n",
              "        background-color: #E2EBFA;\n",
              "        box-shadow: 0px 1px 2px rgba(60, 64, 67, 0.3), 0px 1px 3px 1px rgba(60, 64, 67, 0.15);\n",
              "        fill: #174EA6;\n",
              "      }\n",
              "\n",
              "      [theme=dark] .colab-df-generate {\n",
              "        background-color: #3B4455;\n",
              "        fill: #D2E3FC;\n",
              "      }\n",
              "\n",
              "      [theme=dark] .colab-df-generate:hover {\n",
              "        background-color: #434B5C;\n",
              "        box-shadow: 0px 1px 3px 1px rgba(0, 0, 0, 0.15);\n",
              "        filter: drop-shadow(0px 1px 2px rgba(0, 0, 0, 0.3));\n",
              "        fill: #FFFFFF;\n",
              "      }\n",
              "    </style>\n",
              "    <button class=\"colab-df-generate\" onclick=\"generateWithVariable('df')\"\n",
              "            title=\"Generate code using this dataframe.\"\n",
              "            style=\"display:none;\">\n",
              "\n",
              "  <svg xmlns=\"http://www.w3.org/2000/svg\" height=\"24px\"viewBox=\"0 0 24 24\"\n",
              "       width=\"24px\">\n",
              "    <path d=\"M7,19H8.4L18.45,9,17,7.55,7,17.6ZM5,21V16.75L18.45,3.32a2,2,0,0,1,2.83,0l1.4,1.43a1.91,1.91,0,0,1,.58,1.4,1.91,1.91,0,0,1-.58,1.4L9.25,21ZM18.45,9,17,7.55Zm-12,3A5.31,5.31,0,0,0,4.9,8.1,5.31,5.31,0,0,0,1,6.5,5.31,5.31,0,0,0,4.9,4.9,5.31,5.31,0,0,0,6.5,1,5.31,5.31,0,0,0,8.1,4.9,5.31,5.31,0,0,0,12,6.5,5.46,5.46,0,0,0,6.5,12Z\"/>\n",
              "  </svg>\n",
              "    </button>\n",
              "    <script>\n",
              "      (() => {\n",
              "      const buttonEl =\n",
              "        document.querySelector('#id_088b2a54-1815-4555-8852-b6d6f222ece0 button.colab-df-generate');\n",
              "      buttonEl.style.display =\n",
              "        google.colab.kernel.accessAllowed ? 'block' : 'none';\n",
              "\n",
              "      buttonEl.onclick = () => {\n",
              "        google.colab.notebook.generateWithVariable('df');\n",
              "      }\n",
              "      })();\n",
              "    </script>\n",
              "  </div>\n",
              "\n",
              "    </div>\n",
              "  </div>\n"
            ],
            "application/vnd.google.colaboratory.intrinsic+json": {
              "type": "dataframe",
              "variable_name": "df",
              "summary": "{\n  \"name\": \"df\",\n  \"rows\": 409,\n  \"fields\": [\n    {\n      \"column\": \"log_PTRATIO\",\n      \"properties\": {\n        \"dtype\": \"number\",\n        \"std\": 0.11046113814762588,\n        \"min\": 2.6100697927420065,\n        \"max\": 3.1354942159291497,\n        \"num_unique_values\": 46,\n        \"samples\": [\n          3.005682604407159,\n          2.747270914255491,\n          2.667228206581955\n        ],\n        \"semantic_type\": \"\",\n        \"description\": \"\"\n      }\n    },\n    {\n      \"column\": \"sqrt_CRIM\",\n      \"properties\": {\n        \"dtype\": \"number\",\n        \"std\": 0.37812544400139597,\n        \"min\": 0.07949842765740717,\n        \"max\": 1.6534721043912413,\n        \"num_unique_values\": 349,\n        \"samples\": [\n          1.5650974410559875,\n          0.24649543606322613,\n          0.17643695757975425\n        ],\n        \"semantic_type\": \"\",\n        \"description\": \"\"\n      }\n    },\n    {\n      \"column\": \"log_MEDV\",\n      \"properties\": {\n        \"dtype\": \"number\",\n        \"std\": 0.301218574860415,\n        \"min\": 1.9740810260220096,\n        \"max\": 3.520460802488973,\n        \"num_unique_values\": 181,\n        \"samples\": [\n          2.6741486494265287,\n          3.4531571205928664,\n          2.3513752571634776\n        ],\n        \"semantic_type\": \"\",\n        \"description\": \"\"\n      }\n    },\n    {\n      \"column\": \"log_LSTAT\",\n      \"properties\": {\n        \"dtype\": \"number\",\n        \"std\": 0.5564752875930896,\n        \"min\": 0.6523251860396901,\n        \"max\": 3.421979920844684,\n        \"num_unique_values\": 372,\n        \"samples\": [\n          3.3690184832979204,\n          2.2700619012884857,\n          2.6858045921548905\n        ],\n        \"semantic_type\": \"\",\n        \"description\": \"\"\n      }\n    },\n    {\n      \"column\": \"log_NOX\",\n      \"properties\": {\n        \"dtype\": \"number\",\n        \"std\": 0.18643755336164644,\n        \"min\": -0.9545119446943529,\n        \"max\": -0.13811330212963427,\n        \"num_unique_values\": 79,\n        \"samples\": [\n          -0.8627499649461253,\n          -0.6198967188203526,\n          -0.6033064765601558\n        ],\n        \"semantic_type\": \"\",\n        \"description\": \"\"\n      }\n    },\n    {\n      \"column\": \"log_INDUS\",\n      \"properties\": {\n        \"dtype\": \"number\",\n        \"std\": 0.18643755336164644,\n        \"min\": -0.9545119446943529,\n        \"max\": -0.13811330212963427,\n        \"num_unique_values\": 79,\n        \"samples\": [\n          -0.8627499649461253,\n          -0.6198967188203526,\n          -0.6033064765601558\n        ],\n        \"semantic_type\": \"\",\n        \"description\": \"\"\n      }\n    },\n    {\n      \"column\": \"log_RM\",\n      \"properties\": {\n        \"dtype\": \"number\",\n        \"std\": 0.07269497563745043,\n        \"min\": 1.6118350370338217,\n        \"max\": 2.004179057179289,\n        \"num_unique_values\": 339,\n        \"samples\": [\n          1.8282521055870808,\n          1.782045777040416,\n          1.8519133920478021\n        ],\n        \"semantic_type\": \"\",\n        \"description\": \"\"\n      }\n    },\n    {\n      \"column\": \"sqrt_AGE\",\n      \"properties\": {\n        \"dtype\": \"number\",\n        \"std\": 2.0129752354746535,\n        \"min\": 1.70293863659264,\n        \"max\": 10.0,\n        \"num_unique_values\": 302,\n        \"samples\": [\n          8.769264507357502,\n          6.884765791223402,\n          9.402127418834526\n        ],\n        \"semantic_type\": \"\",\n        \"description\": \"\"\n      }\n    },\n    {\n      \"column\": \"log_DIS\",\n      \"properties\": {\n        \"dtype\": \"number\",\n        \"std\": 0.5210369596506064,\n        \"min\": 0.128393214768399,\n        \"max\": 2.221689521735732,\n        \"num_unique_values\": 323,\n        \"samples\": [\n          1.3006002979095281,\n          0.9540103189011692,\n          1.450981308741706\n        ],\n        \"semantic_type\": \"\",\n        \"description\": \"\"\n      }\n    },\n    {\n      \"column\": \"log_RAD\",\n      \"properties\": {\n        \"dtype\": \"number\",\n        \"std\": 0.7682411092368342,\n        \"min\": 0.0,\n        \"max\": 3.1780538303479458,\n        \"num_unique_values\": 9,\n        \"samples\": [\n          1.9459101490553132,\n          0.6931471805599453,\n          2.0794415416798357\n        ],\n        \"semantic_type\": \"\",\n        \"description\": \"\"\n      }\n    },\n    {\n      \"column\": \"log_TAX\",\n      \"properties\": {\n        \"dtype\": \"number\",\n        \"std\": 0.3473069109639205,\n        \"min\": 5.231108616854587,\n        \"max\": 6.566672429803241,\n        \"num_unique_values\": 65,\n        \"samples\": [\n          5.863631175598097,\n          6.501289670540389,\n          5.69035945432406\n        ],\n        \"semantic_type\": \"\",\n        \"description\": \"\"\n      }\n    }\n  ]\n}"
            }
          },
          "metadata": {},
          "execution_count": 74
        }
      ]
    },
    {
      "cell_type": "code",
      "source": [
        "df=df.rename(columns={'log_PTRATIO':'PTRATIO','sqrt_CRIM':'CRIM','log_MEDV':'MEDV','log_LSTAT':'LSTAT',\n",
        "                      'log_NOX':'NOX','log_INDUS':'INDUS','log_RM':'RM','sqrt_AGE':'AGE',\n",
        "                      'log_DIS':'DIS','log_RAD':'RAD','log_TAX':'TAX'})\n",
        "df"
      ],
      "metadata": {
        "colab": {
          "base_uri": "https://localhost:8080/",
          "height": 423
        },
        "id": "3myHzUJvEsUW",
        "outputId": "ffbd667e-aee2-4261-de71-50650a82882d"
      },
      "execution_count": 76,
      "outputs": [
        {
          "output_type": "execute_result",
          "data": {
            "text/plain": [
              "      PTRATIO      CRIM      MEDV     LSTAT       NOX     INDUS        RM  \\\n",
              "0    2.727853  0.079498  3.178054  1.605430 -0.619897 -0.619897  1.883275   \n",
              "1    2.879198  0.165257  3.072693  2.212660 -0.757153 -0.757153  1.859574   \n",
              "3    2.928524  0.179917  3.508556  1.078410 -0.780886 -0.780886  1.945624   \n",
              "5    2.928524  0.172772  3.356897  1.650580 -0.780886 -0.780886  1.860975   \n",
              "6    2.721295  0.297136  3.131137  2.520113 -0.646264 -0.646264  1.793757   \n",
              "..        ...       ...       ...       ...       ...       ...       ...   \n",
              "506  3.135494  0.993806  2.484907  2.484907 -0.578034 -0.578034  1.943049   \n",
              "507  3.135494  0.484314  3.465736  3.218876 -0.578034 -0.578034  1.943049   \n",
              "508  3.135494  0.666581  3.031657  3.044522 -0.578034 -0.578034  1.812052   \n",
              "509  3.135494  0.881833  3.031657  2.519415 -0.578034 -0.578034  1.828091   \n",
              "510  3.135494  0.808900  3.178054  2.519415 -0.578034 -0.578034  1.911023   \n",
              "\n",
              "          AGE       DIS       RAD       TAX  \n",
              "0    8.074652  1.408545  0.000000  5.690359  \n",
              "1    8.882567  1.602836  0.693147  5.488938  \n",
              "3    6.767570  1.802073  1.098612  5.402677  \n",
              "5    7.661593  1.802073  1.098612  5.402677  \n",
              "6    8.160882  1.715688  1.609438  5.739793  \n",
              "..        ...       ...       ...       ...  \n",
              "506  9.433981  0.740985  1.098612  5.768321  \n",
              "507  8.717798  0.976068  1.098612  5.768321  \n",
              "508  9.899495  1.094270  1.098612  5.768321  \n",
              "509  5.830952  0.933344  1.098612  5.796058  \n",
              "510  8.185353  1.094270  1.098612  5.843544  \n",
              "\n",
              "[409 rows x 11 columns]"
            ],
            "text/html": [
              "\n",
              "  <div id=\"df-2e21e883-d9f4-4aad-a09c-0863c9eb15e8\" class=\"colab-df-container\">\n",
              "    <div>\n",
              "<style scoped>\n",
              "    .dataframe tbody tr th:only-of-type {\n",
              "        vertical-align: middle;\n",
              "    }\n",
              "\n",
              "    .dataframe tbody tr th {\n",
              "        vertical-align: top;\n",
              "    }\n",
              "\n",
              "    .dataframe thead th {\n",
              "        text-align: right;\n",
              "    }\n",
              "</style>\n",
              "<table border=\"1\" class=\"dataframe\">\n",
              "  <thead>\n",
              "    <tr style=\"text-align: right;\">\n",
              "      <th></th>\n",
              "      <th>PTRATIO</th>\n",
              "      <th>CRIM</th>\n",
              "      <th>MEDV</th>\n",
              "      <th>LSTAT</th>\n",
              "      <th>NOX</th>\n",
              "      <th>INDUS</th>\n",
              "      <th>RM</th>\n",
              "      <th>AGE</th>\n",
              "      <th>DIS</th>\n",
              "      <th>RAD</th>\n",
              "      <th>TAX</th>\n",
              "    </tr>\n",
              "  </thead>\n",
              "  <tbody>\n",
              "    <tr>\n",
              "      <th>0</th>\n",
              "      <td>2.727853</td>\n",
              "      <td>0.079498</td>\n",
              "      <td>3.178054</td>\n",
              "      <td>1.605430</td>\n",
              "      <td>-0.619897</td>\n",
              "      <td>-0.619897</td>\n",
              "      <td>1.883275</td>\n",
              "      <td>8.074652</td>\n",
              "      <td>1.408545</td>\n",
              "      <td>0.000000</td>\n",
              "      <td>5.690359</td>\n",
              "    </tr>\n",
              "    <tr>\n",
              "      <th>1</th>\n",
              "      <td>2.879198</td>\n",
              "      <td>0.165257</td>\n",
              "      <td>3.072693</td>\n",
              "      <td>2.212660</td>\n",
              "      <td>-0.757153</td>\n",
              "      <td>-0.757153</td>\n",
              "      <td>1.859574</td>\n",
              "      <td>8.882567</td>\n",
              "      <td>1.602836</td>\n",
              "      <td>0.693147</td>\n",
              "      <td>5.488938</td>\n",
              "    </tr>\n",
              "    <tr>\n",
              "      <th>3</th>\n",
              "      <td>2.928524</td>\n",
              "      <td>0.179917</td>\n",
              "      <td>3.508556</td>\n",
              "      <td>1.078410</td>\n",
              "      <td>-0.780886</td>\n",
              "      <td>-0.780886</td>\n",
              "      <td>1.945624</td>\n",
              "      <td>6.767570</td>\n",
              "      <td>1.802073</td>\n",
              "      <td>1.098612</td>\n",
              "      <td>5.402677</td>\n",
              "    </tr>\n",
              "    <tr>\n",
              "      <th>5</th>\n",
              "      <td>2.928524</td>\n",
              "      <td>0.172772</td>\n",
              "      <td>3.356897</td>\n",
              "      <td>1.650580</td>\n",
              "      <td>-0.780886</td>\n",
              "      <td>-0.780886</td>\n",
              "      <td>1.860975</td>\n",
              "      <td>7.661593</td>\n",
              "      <td>1.802073</td>\n",
              "      <td>1.098612</td>\n",
              "      <td>5.402677</td>\n",
              "    </tr>\n",
              "    <tr>\n",
              "      <th>6</th>\n",
              "      <td>2.721295</td>\n",
              "      <td>0.297136</td>\n",
              "      <td>3.131137</td>\n",
              "      <td>2.520113</td>\n",
              "      <td>-0.646264</td>\n",
              "      <td>-0.646264</td>\n",
              "      <td>1.793757</td>\n",
              "      <td>8.160882</td>\n",
              "      <td>1.715688</td>\n",
              "      <td>1.609438</td>\n",
              "      <td>5.739793</td>\n",
              "    </tr>\n",
              "    <tr>\n",
              "      <th>...</th>\n",
              "      <td>...</td>\n",
              "      <td>...</td>\n",
              "      <td>...</td>\n",
              "      <td>...</td>\n",
              "      <td>...</td>\n",
              "      <td>...</td>\n",
              "      <td>...</td>\n",
              "      <td>...</td>\n",
              "      <td>...</td>\n",
              "      <td>...</td>\n",
              "      <td>...</td>\n",
              "    </tr>\n",
              "    <tr>\n",
              "      <th>506</th>\n",
              "      <td>3.135494</td>\n",
              "      <td>0.993806</td>\n",
              "      <td>2.484907</td>\n",
              "      <td>2.484907</td>\n",
              "      <td>-0.578034</td>\n",
              "      <td>-0.578034</td>\n",
              "      <td>1.943049</td>\n",
              "      <td>9.433981</td>\n",
              "      <td>0.740985</td>\n",
              "      <td>1.098612</td>\n",
              "      <td>5.768321</td>\n",
              "    </tr>\n",
              "    <tr>\n",
              "      <th>507</th>\n",
              "      <td>3.135494</td>\n",
              "      <td>0.484314</td>\n",
              "      <td>3.465736</td>\n",
              "      <td>3.218876</td>\n",
              "      <td>-0.578034</td>\n",
              "      <td>-0.578034</td>\n",
              "      <td>1.943049</td>\n",
              "      <td>8.717798</td>\n",
              "      <td>0.976068</td>\n",
              "      <td>1.098612</td>\n",
              "      <td>5.768321</td>\n",
              "    </tr>\n",
              "    <tr>\n",
              "      <th>508</th>\n",
              "      <td>3.135494</td>\n",
              "      <td>0.666581</td>\n",
              "      <td>3.031657</td>\n",
              "      <td>3.044522</td>\n",
              "      <td>-0.578034</td>\n",
              "      <td>-0.578034</td>\n",
              "      <td>1.812052</td>\n",
              "      <td>9.899495</td>\n",
              "      <td>1.094270</td>\n",
              "      <td>1.098612</td>\n",
              "      <td>5.768321</td>\n",
              "    </tr>\n",
              "    <tr>\n",
              "      <th>509</th>\n",
              "      <td>3.135494</td>\n",
              "      <td>0.881833</td>\n",
              "      <td>3.031657</td>\n",
              "      <td>2.519415</td>\n",
              "      <td>-0.578034</td>\n",
              "      <td>-0.578034</td>\n",
              "      <td>1.828091</td>\n",
              "      <td>5.830952</td>\n",
              "      <td>0.933344</td>\n",
              "      <td>1.098612</td>\n",
              "      <td>5.796058</td>\n",
              "    </tr>\n",
              "    <tr>\n",
              "      <th>510</th>\n",
              "      <td>3.135494</td>\n",
              "      <td>0.808900</td>\n",
              "      <td>3.178054</td>\n",
              "      <td>2.519415</td>\n",
              "      <td>-0.578034</td>\n",
              "      <td>-0.578034</td>\n",
              "      <td>1.911023</td>\n",
              "      <td>8.185353</td>\n",
              "      <td>1.094270</td>\n",
              "      <td>1.098612</td>\n",
              "      <td>5.843544</td>\n",
              "    </tr>\n",
              "  </tbody>\n",
              "</table>\n",
              "<p>409 rows × 11 columns</p>\n",
              "</div>\n",
              "    <div class=\"colab-df-buttons\">\n",
              "\n",
              "  <div class=\"colab-df-container\">\n",
              "    <button class=\"colab-df-convert\" onclick=\"convertToInteractive('df-2e21e883-d9f4-4aad-a09c-0863c9eb15e8')\"\n",
              "            title=\"Convert this dataframe to an interactive table.\"\n",
              "            style=\"display:none;\">\n",
              "\n",
              "  <svg xmlns=\"http://www.w3.org/2000/svg\" height=\"24px\" viewBox=\"0 -960 960 960\">\n",
              "    <path d=\"M120-120v-720h720v720H120Zm60-500h600v-160H180v160Zm220 220h160v-160H400v160Zm0 220h160v-160H400v160ZM180-400h160v-160H180v160Zm440 0h160v-160H620v160ZM180-180h160v-160H180v160Zm440 0h160v-160H620v160Z\"/>\n",
              "  </svg>\n",
              "    </button>\n",
              "\n",
              "  <style>\n",
              "    .colab-df-container {\n",
              "      display:flex;\n",
              "      gap: 12px;\n",
              "    }\n",
              "\n",
              "    .colab-df-convert {\n",
              "      background-color: #E8F0FE;\n",
              "      border: none;\n",
              "      border-radius: 50%;\n",
              "      cursor: pointer;\n",
              "      display: none;\n",
              "      fill: #1967D2;\n",
              "      height: 32px;\n",
              "      padding: 0 0 0 0;\n",
              "      width: 32px;\n",
              "    }\n",
              "\n",
              "    .colab-df-convert:hover {\n",
              "      background-color: #E2EBFA;\n",
              "      box-shadow: 0px 1px 2px rgba(60, 64, 67, 0.3), 0px 1px 3px 1px rgba(60, 64, 67, 0.15);\n",
              "      fill: #174EA6;\n",
              "    }\n",
              "\n",
              "    .colab-df-buttons div {\n",
              "      margin-bottom: 4px;\n",
              "    }\n",
              "\n",
              "    [theme=dark] .colab-df-convert {\n",
              "      background-color: #3B4455;\n",
              "      fill: #D2E3FC;\n",
              "    }\n",
              "\n",
              "    [theme=dark] .colab-df-convert:hover {\n",
              "      background-color: #434B5C;\n",
              "      box-shadow: 0px 1px 3px 1px rgba(0, 0, 0, 0.15);\n",
              "      filter: drop-shadow(0px 1px 2px rgba(0, 0, 0, 0.3));\n",
              "      fill: #FFFFFF;\n",
              "    }\n",
              "  </style>\n",
              "\n",
              "    <script>\n",
              "      const buttonEl =\n",
              "        document.querySelector('#df-2e21e883-d9f4-4aad-a09c-0863c9eb15e8 button.colab-df-convert');\n",
              "      buttonEl.style.display =\n",
              "        google.colab.kernel.accessAllowed ? 'block' : 'none';\n",
              "\n",
              "      async function convertToInteractive(key) {\n",
              "        const element = document.querySelector('#df-2e21e883-d9f4-4aad-a09c-0863c9eb15e8');\n",
              "        const dataTable =\n",
              "          await google.colab.kernel.invokeFunction('convertToInteractive',\n",
              "                                                    [key], {});\n",
              "        if (!dataTable) return;\n",
              "\n",
              "        const docLinkHtml = 'Like what you see? Visit the ' +\n",
              "          '<a target=\"_blank\" href=https://colab.research.google.com/notebooks/data_table.ipynb>data table notebook</a>'\n",
              "          + ' to learn more about interactive tables.';\n",
              "        element.innerHTML = '';\n",
              "        dataTable['output_type'] = 'display_data';\n",
              "        await google.colab.output.renderOutput(dataTable, element);\n",
              "        const docLink = document.createElement('div');\n",
              "        docLink.innerHTML = docLinkHtml;\n",
              "        element.appendChild(docLink);\n",
              "      }\n",
              "    </script>\n",
              "  </div>\n",
              "\n",
              "\n",
              "<div id=\"df-9f8d8a77-765d-4933-be35-109b1c13c91f\">\n",
              "  <button class=\"colab-df-quickchart\" onclick=\"quickchart('df-9f8d8a77-765d-4933-be35-109b1c13c91f')\"\n",
              "            title=\"Suggest charts\"\n",
              "            style=\"display:none;\">\n",
              "\n",
              "<svg xmlns=\"http://www.w3.org/2000/svg\" height=\"24px\"viewBox=\"0 0 24 24\"\n",
              "     width=\"24px\">\n",
              "    <g>\n",
              "        <path d=\"M19 3H5c-1.1 0-2 .9-2 2v14c0 1.1.9 2 2 2h14c1.1 0 2-.9 2-2V5c0-1.1-.9-2-2-2zM9 17H7v-7h2v7zm4 0h-2V7h2v10zm4 0h-2v-4h2v4z\"/>\n",
              "    </g>\n",
              "</svg>\n",
              "  </button>\n",
              "\n",
              "<style>\n",
              "  .colab-df-quickchart {\n",
              "      --bg-color: #E8F0FE;\n",
              "      --fill-color: #1967D2;\n",
              "      --hover-bg-color: #E2EBFA;\n",
              "      --hover-fill-color: #174EA6;\n",
              "      --disabled-fill-color: #AAA;\n",
              "      --disabled-bg-color: #DDD;\n",
              "  }\n",
              "\n",
              "  [theme=dark] .colab-df-quickchart {\n",
              "      --bg-color: #3B4455;\n",
              "      --fill-color: #D2E3FC;\n",
              "      --hover-bg-color: #434B5C;\n",
              "      --hover-fill-color: #FFFFFF;\n",
              "      --disabled-bg-color: #3B4455;\n",
              "      --disabled-fill-color: #666;\n",
              "  }\n",
              "\n",
              "  .colab-df-quickchart {\n",
              "    background-color: var(--bg-color);\n",
              "    border: none;\n",
              "    border-radius: 50%;\n",
              "    cursor: pointer;\n",
              "    display: none;\n",
              "    fill: var(--fill-color);\n",
              "    height: 32px;\n",
              "    padding: 0;\n",
              "    width: 32px;\n",
              "  }\n",
              "\n",
              "  .colab-df-quickchart:hover {\n",
              "    background-color: var(--hover-bg-color);\n",
              "    box-shadow: 0 1px 2px rgba(60, 64, 67, 0.3), 0 1px 3px 1px rgba(60, 64, 67, 0.15);\n",
              "    fill: var(--button-hover-fill-color);\n",
              "  }\n",
              "\n",
              "  .colab-df-quickchart-complete:disabled,\n",
              "  .colab-df-quickchart-complete:disabled:hover {\n",
              "    background-color: var(--disabled-bg-color);\n",
              "    fill: var(--disabled-fill-color);\n",
              "    box-shadow: none;\n",
              "  }\n",
              "\n",
              "  .colab-df-spinner {\n",
              "    border: 2px solid var(--fill-color);\n",
              "    border-color: transparent;\n",
              "    border-bottom-color: var(--fill-color);\n",
              "    animation:\n",
              "      spin 1s steps(1) infinite;\n",
              "  }\n",
              "\n",
              "  @keyframes spin {\n",
              "    0% {\n",
              "      border-color: transparent;\n",
              "      border-bottom-color: var(--fill-color);\n",
              "      border-left-color: var(--fill-color);\n",
              "    }\n",
              "    20% {\n",
              "      border-color: transparent;\n",
              "      border-left-color: var(--fill-color);\n",
              "      border-top-color: var(--fill-color);\n",
              "    }\n",
              "    30% {\n",
              "      border-color: transparent;\n",
              "      border-left-color: var(--fill-color);\n",
              "      border-top-color: var(--fill-color);\n",
              "      border-right-color: var(--fill-color);\n",
              "    }\n",
              "    40% {\n",
              "      border-color: transparent;\n",
              "      border-right-color: var(--fill-color);\n",
              "      border-top-color: var(--fill-color);\n",
              "    }\n",
              "    60% {\n",
              "      border-color: transparent;\n",
              "      border-right-color: var(--fill-color);\n",
              "    }\n",
              "    80% {\n",
              "      border-color: transparent;\n",
              "      border-right-color: var(--fill-color);\n",
              "      border-bottom-color: var(--fill-color);\n",
              "    }\n",
              "    90% {\n",
              "      border-color: transparent;\n",
              "      border-bottom-color: var(--fill-color);\n",
              "    }\n",
              "  }\n",
              "</style>\n",
              "\n",
              "  <script>\n",
              "    async function quickchart(key) {\n",
              "      const quickchartButtonEl =\n",
              "        document.querySelector('#' + key + ' button');\n",
              "      quickchartButtonEl.disabled = true;  // To prevent multiple clicks.\n",
              "      quickchartButtonEl.classList.add('colab-df-spinner');\n",
              "      try {\n",
              "        const charts = await google.colab.kernel.invokeFunction(\n",
              "            'suggestCharts', [key], {});\n",
              "      } catch (error) {\n",
              "        console.error('Error during call to suggestCharts:', error);\n",
              "      }\n",
              "      quickchartButtonEl.classList.remove('colab-df-spinner');\n",
              "      quickchartButtonEl.classList.add('colab-df-quickchart-complete');\n",
              "    }\n",
              "    (() => {\n",
              "      let quickchartButtonEl =\n",
              "        document.querySelector('#df-9f8d8a77-765d-4933-be35-109b1c13c91f button');\n",
              "      quickchartButtonEl.style.display =\n",
              "        google.colab.kernel.accessAllowed ? 'block' : 'none';\n",
              "    })();\n",
              "  </script>\n",
              "</div>\n",
              "\n",
              "  <div id=\"id_303bcfd5-63a8-4716-9ff2-af35b25f4649\">\n",
              "    <style>\n",
              "      .colab-df-generate {\n",
              "        background-color: #E8F0FE;\n",
              "        border: none;\n",
              "        border-radius: 50%;\n",
              "        cursor: pointer;\n",
              "        display: none;\n",
              "        fill: #1967D2;\n",
              "        height: 32px;\n",
              "        padding: 0 0 0 0;\n",
              "        width: 32px;\n",
              "      }\n",
              "\n",
              "      .colab-df-generate:hover {\n",
              "        background-color: #E2EBFA;\n",
              "        box-shadow: 0px 1px 2px rgba(60, 64, 67, 0.3), 0px 1px 3px 1px rgba(60, 64, 67, 0.15);\n",
              "        fill: #174EA6;\n",
              "      }\n",
              "\n",
              "      [theme=dark] .colab-df-generate {\n",
              "        background-color: #3B4455;\n",
              "        fill: #D2E3FC;\n",
              "      }\n",
              "\n",
              "      [theme=dark] .colab-df-generate:hover {\n",
              "        background-color: #434B5C;\n",
              "        box-shadow: 0px 1px 3px 1px rgba(0, 0, 0, 0.15);\n",
              "        filter: drop-shadow(0px 1px 2px rgba(0, 0, 0, 0.3));\n",
              "        fill: #FFFFFF;\n",
              "      }\n",
              "    </style>\n",
              "    <button class=\"colab-df-generate\" onclick=\"generateWithVariable('df')\"\n",
              "            title=\"Generate code using this dataframe.\"\n",
              "            style=\"display:none;\">\n",
              "\n",
              "  <svg xmlns=\"http://www.w3.org/2000/svg\" height=\"24px\"viewBox=\"0 0 24 24\"\n",
              "       width=\"24px\">\n",
              "    <path d=\"M7,19H8.4L18.45,9,17,7.55,7,17.6ZM5,21V16.75L18.45,3.32a2,2,0,0,1,2.83,0l1.4,1.43a1.91,1.91,0,0,1,.58,1.4,1.91,1.91,0,0,1-.58,1.4L9.25,21ZM18.45,9,17,7.55Zm-12,3A5.31,5.31,0,0,0,4.9,8.1,5.31,5.31,0,0,0,1,6.5,5.31,5.31,0,0,0,4.9,4.9,5.31,5.31,0,0,0,6.5,1,5.31,5.31,0,0,0,8.1,4.9,5.31,5.31,0,0,0,12,6.5,5.46,5.46,0,0,0,6.5,12Z\"/>\n",
              "  </svg>\n",
              "    </button>\n",
              "    <script>\n",
              "      (() => {\n",
              "      const buttonEl =\n",
              "        document.querySelector('#id_303bcfd5-63a8-4716-9ff2-af35b25f4649 button.colab-df-generate');\n",
              "      buttonEl.style.display =\n",
              "        google.colab.kernel.accessAllowed ? 'block' : 'none';\n",
              "\n",
              "      buttonEl.onclick = () => {\n",
              "        google.colab.notebook.generateWithVariable('df');\n",
              "      }\n",
              "      })();\n",
              "    </script>\n",
              "  </div>\n",
              "\n",
              "    </div>\n",
              "  </div>\n"
            ],
            "application/vnd.google.colaboratory.intrinsic+json": {
              "type": "dataframe",
              "variable_name": "df",
              "summary": "{\n  \"name\": \"df\",\n  \"rows\": 409,\n  \"fields\": [\n    {\n      \"column\": \"PTRATIO\",\n      \"properties\": {\n        \"dtype\": \"number\",\n        \"std\": 0.11046113814762588,\n        \"min\": 2.6100697927420065,\n        \"max\": 3.1354942159291497,\n        \"num_unique_values\": 46,\n        \"samples\": [\n          3.005682604407159,\n          2.747270914255491,\n          2.667228206581955\n        ],\n        \"semantic_type\": \"\",\n        \"description\": \"\"\n      }\n    },\n    {\n      \"column\": \"CRIM\",\n      \"properties\": {\n        \"dtype\": \"number\",\n        \"std\": 0.37812544400139597,\n        \"min\": 0.07949842765740717,\n        \"max\": 1.6534721043912413,\n        \"num_unique_values\": 349,\n        \"samples\": [\n          1.5650974410559875,\n          0.24649543606322613,\n          0.17643695757975425\n        ],\n        \"semantic_type\": \"\",\n        \"description\": \"\"\n      }\n    },\n    {\n      \"column\": \"MEDV\",\n      \"properties\": {\n        \"dtype\": \"number\",\n        \"std\": 0.301218574860415,\n        \"min\": 1.9740810260220096,\n        \"max\": 3.520460802488973,\n        \"num_unique_values\": 181,\n        \"samples\": [\n          2.6741486494265287,\n          3.4531571205928664,\n          2.3513752571634776\n        ],\n        \"semantic_type\": \"\",\n        \"description\": \"\"\n      }\n    },\n    {\n      \"column\": \"LSTAT\",\n      \"properties\": {\n        \"dtype\": \"number\",\n        \"std\": 0.5564752875930896,\n        \"min\": 0.6523251860396901,\n        \"max\": 3.421979920844684,\n        \"num_unique_values\": 372,\n        \"samples\": [\n          3.3690184832979204,\n          2.2700619012884857,\n          2.6858045921548905\n        ],\n        \"semantic_type\": \"\",\n        \"description\": \"\"\n      }\n    },\n    {\n      \"column\": \"NOX\",\n      \"properties\": {\n        \"dtype\": \"number\",\n        \"std\": 0.18643755336164644,\n        \"min\": -0.9545119446943529,\n        \"max\": -0.13811330212963427,\n        \"num_unique_values\": 79,\n        \"samples\": [\n          -0.8627499649461253,\n          -0.6198967188203526,\n          -0.6033064765601558\n        ],\n        \"semantic_type\": \"\",\n        \"description\": \"\"\n      }\n    },\n    {\n      \"column\": \"INDUS\",\n      \"properties\": {\n        \"dtype\": \"number\",\n        \"std\": 0.18643755336164644,\n        \"min\": -0.9545119446943529,\n        \"max\": -0.13811330212963427,\n        \"num_unique_values\": 79,\n        \"samples\": [\n          -0.8627499649461253,\n          -0.6198967188203526,\n          -0.6033064765601558\n        ],\n        \"semantic_type\": \"\",\n        \"description\": \"\"\n      }\n    },\n    {\n      \"column\": \"RM\",\n      \"properties\": {\n        \"dtype\": \"number\",\n        \"std\": 0.07269497563745043,\n        \"min\": 1.6118350370338217,\n        \"max\": 2.004179057179289,\n        \"num_unique_values\": 339,\n        \"samples\": [\n          1.8282521055870808,\n          1.782045777040416,\n          1.8519133920478021\n        ],\n        \"semantic_type\": \"\",\n        \"description\": \"\"\n      }\n    },\n    {\n      \"column\": \"AGE\",\n      \"properties\": {\n        \"dtype\": \"number\",\n        \"std\": 2.0129752354746535,\n        \"min\": 1.70293863659264,\n        \"max\": 10.0,\n        \"num_unique_values\": 302,\n        \"samples\": [\n          8.769264507357502,\n          6.884765791223402,\n          9.402127418834526\n        ],\n        \"semantic_type\": \"\",\n        \"description\": \"\"\n      }\n    },\n    {\n      \"column\": \"DIS\",\n      \"properties\": {\n        \"dtype\": \"number\",\n        \"std\": 0.5210369596506064,\n        \"min\": 0.128393214768399,\n        \"max\": 2.221689521735732,\n        \"num_unique_values\": 323,\n        \"samples\": [\n          1.3006002979095281,\n          0.9540103189011692,\n          1.450981308741706\n        ],\n        \"semantic_type\": \"\",\n        \"description\": \"\"\n      }\n    },\n    {\n      \"column\": \"RAD\",\n      \"properties\": {\n        \"dtype\": \"number\",\n        \"std\": 0.7682411092368342,\n        \"min\": 0.0,\n        \"max\": 3.1780538303479458,\n        \"num_unique_values\": 9,\n        \"samples\": [\n          1.9459101490553132,\n          0.6931471805599453,\n          2.0794415416798357\n        ],\n        \"semantic_type\": \"\",\n        \"description\": \"\"\n      }\n    },\n    {\n      \"column\": \"TAX\",\n      \"properties\": {\n        \"dtype\": \"number\",\n        \"std\": 0.3473069109639205,\n        \"min\": 5.231108616854587,\n        \"max\": 6.566672429803241,\n        \"num_unique_values\": 65,\n        \"samples\": [\n          5.863631175598097,\n          6.501289670540389,\n          5.69035945432406\n        ],\n        \"semantic_type\": \"\",\n        \"description\": \"\"\n      }\n    }\n  ]\n}"
            }
          },
          "metadata": {},
          "execution_count": 76
        }
      ]
    },
    {
      "cell_type": "code",
      "source": [
        "df.describe()"
      ],
      "metadata": {
        "colab": {
          "base_uri": "https://localhost:8080/",
          "height": 300
        },
        "id": "2M-Eqw15GpEV",
        "outputId": "43ae071e-e046-4290-97b8-6f07fd6867f2"
      },
      "execution_count": 77,
      "outputs": [
        {
          "output_type": "execute_result",
          "data": {
            "text/plain": [
              "          PTRATIO        CRIM        MEDV       LSTAT         NOX       INDUS  \\\n",
              "count  409.000000  409.000000  409.000000  409.000000  409.000000  409.000000   \n",
              "mean     2.914300    0.573541    3.001209    2.339800   -0.643885   -0.643885   \n",
              "std      0.110461    0.378125    0.301219    0.556475    0.186438    0.186438   \n",
              "min      2.610070    0.079498    1.974081    0.652325   -0.954512   -0.954512   \n",
              "25%      2.856470    0.264991    2.895912    1.927164   -0.805197   -0.805197   \n",
              "50%      2.926851    0.417684    3.031657    2.359910   -0.663588   -0.663588   \n",
              "75%      3.005683    0.908438    3.173878    2.757475   -0.515838   -0.515838   \n",
              "max      3.135494    1.653472    3.520461    3.421980   -0.138113   -0.138113   \n",
              "\n",
              "               RM         AGE         DIS         RAD         TAX  \n",
              "count  409.000000  409.000000  409.000000  409.000000  409.000000  \n",
              "mean     1.825665    7.882210    1.239959    1.664938    5.847753  \n",
              "std      0.072695    2.012975    0.521037    0.768241    0.347307  \n",
              "min      1.611835    1.702939    0.128393    0.000000    5.231109  \n",
              "25%      1.777322    6.442049    0.787275    1.386294    5.624018  \n",
              "50%      1.828252    8.479387    1.285092    1.609438    5.726848  \n",
              "75%      1.870263    9.669540    1.686529    1.791759    5.998937  \n",
              "max      2.004179   10.000000    2.221690    3.178054    6.566672  "
            ],
            "text/html": [
              "\n",
              "  <div id=\"df-bdd85209-0539-491e-9277-c4fac1251eef\" class=\"colab-df-container\">\n",
              "    <div>\n",
              "<style scoped>\n",
              "    .dataframe tbody tr th:only-of-type {\n",
              "        vertical-align: middle;\n",
              "    }\n",
              "\n",
              "    .dataframe tbody tr th {\n",
              "        vertical-align: top;\n",
              "    }\n",
              "\n",
              "    .dataframe thead th {\n",
              "        text-align: right;\n",
              "    }\n",
              "</style>\n",
              "<table border=\"1\" class=\"dataframe\">\n",
              "  <thead>\n",
              "    <tr style=\"text-align: right;\">\n",
              "      <th></th>\n",
              "      <th>PTRATIO</th>\n",
              "      <th>CRIM</th>\n",
              "      <th>MEDV</th>\n",
              "      <th>LSTAT</th>\n",
              "      <th>NOX</th>\n",
              "      <th>INDUS</th>\n",
              "      <th>RM</th>\n",
              "      <th>AGE</th>\n",
              "      <th>DIS</th>\n",
              "      <th>RAD</th>\n",
              "      <th>TAX</th>\n",
              "    </tr>\n",
              "  </thead>\n",
              "  <tbody>\n",
              "    <tr>\n",
              "      <th>count</th>\n",
              "      <td>409.000000</td>\n",
              "      <td>409.000000</td>\n",
              "      <td>409.000000</td>\n",
              "      <td>409.000000</td>\n",
              "      <td>409.000000</td>\n",
              "      <td>409.000000</td>\n",
              "      <td>409.000000</td>\n",
              "      <td>409.000000</td>\n",
              "      <td>409.000000</td>\n",
              "      <td>409.000000</td>\n",
              "      <td>409.000000</td>\n",
              "    </tr>\n",
              "    <tr>\n",
              "      <th>mean</th>\n",
              "      <td>2.914300</td>\n",
              "      <td>0.573541</td>\n",
              "      <td>3.001209</td>\n",
              "      <td>2.339800</td>\n",
              "      <td>-0.643885</td>\n",
              "      <td>-0.643885</td>\n",
              "      <td>1.825665</td>\n",
              "      <td>7.882210</td>\n",
              "      <td>1.239959</td>\n",
              "      <td>1.664938</td>\n",
              "      <td>5.847753</td>\n",
              "    </tr>\n",
              "    <tr>\n",
              "      <th>std</th>\n",
              "      <td>0.110461</td>\n",
              "      <td>0.378125</td>\n",
              "      <td>0.301219</td>\n",
              "      <td>0.556475</td>\n",
              "      <td>0.186438</td>\n",
              "      <td>0.186438</td>\n",
              "      <td>0.072695</td>\n",
              "      <td>2.012975</td>\n",
              "      <td>0.521037</td>\n",
              "      <td>0.768241</td>\n",
              "      <td>0.347307</td>\n",
              "    </tr>\n",
              "    <tr>\n",
              "      <th>min</th>\n",
              "      <td>2.610070</td>\n",
              "      <td>0.079498</td>\n",
              "      <td>1.974081</td>\n",
              "      <td>0.652325</td>\n",
              "      <td>-0.954512</td>\n",
              "      <td>-0.954512</td>\n",
              "      <td>1.611835</td>\n",
              "      <td>1.702939</td>\n",
              "      <td>0.128393</td>\n",
              "      <td>0.000000</td>\n",
              "      <td>5.231109</td>\n",
              "    </tr>\n",
              "    <tr>\n",
              "      <th>25%</th>\n",
              "      <td>2.856470</td>\n",
              "      <td>0.264991</td>\n",
              "      <td>2.895912</td>\n",
              "      <td>1.927164</td>\n",
              "      <td>-0.805197</td>\n",
              "      <td>-0.805197</td>\n",
              "      <td>1.777322</td>\n",
              "      <td>6.442049</td>\n",
              "      <td>0.787275</td>\n",
              "      <td>1.386294</td>\n",
              "      <td>5.624018</td>\n",
              "    </tr>\n",
              "    <tr>\n",
              "      <th>50%</th>\n",
              "      <td>2.926851</td>\n",
              "      <td>0.417684</td>\n",
              "      <td>3.031657</td>\n",
              "      <td>2.359910</td>\n",
              "      <td>-0.663588</td>\n",
              "      <td>-0.663588</td>\n",
              "      <td>1.828252</td>\n",
              "      <td>8.479387</td>\n",
              "      <td>1.285092</td>\n",
              "      <td>1.609438</td>\n",
              "      <td>5.726848</td>\n",
              "    </tr>\n",
              "    <tr>\n",
              "      <th>75%</th>\n",
              "      <td>3.005683</td>\n",
              "      <td>0.908438</td>\n",
              "      <td>3.173878</td>\n",
              "      <td>2.757475</td>\n",
              "      <td>-0.515838</td>\n",
              "      <td>-0.515838</td>\n",
              "      <td>1.870263</td>\n",
              "      <td>9.669540</td>\n",
              "      <td>1.686529</td>\n",
              "      <td>1.791759</td>\n",
              "      <td>5.998937</td>\n",
              "    </tr>\n",
              "    <tr>\n",
              "      <th>max</th>\n",
              "      <td>3.135494</td>\n",
              "      <td>1.653472</td>\n",
              "      <td>3.520461</td>\n",
              "      <td>3.421980</td>\n",
              "      <td>-0.138113</td>\n",
              "      <td>-0.138113</td>\n",
              "      <td>2.004179</td>\n",
              "      <td>10.000000</td>\n",
              "      <td>2.221690</td>\n",
              "      <td>3.178054</td>\n",
              "      <td>6.566672</td>\n",
              "    </tr>\n",
              "  </tbody>\n",
              "</table>\n",
              "</div>\n",
              "    <div class=\"colab-df-buttons\">\n",
              "\n",
              "  <div class=\"colab-df-container\">\n",
              "    <button class=\"colab-df-convert\" onclick=\"convertToInteractive('df-bdd85209-0539-491e-9277-c4fac1251eef')\"\n",
              "            title=\"Convert this dataframe to an interactive table.\"\n",
              "            style=\"display:none;\">\n",
              "\n",
              "  <svg xmlns=\"http://www.w3.org/2000/svg\" height=\"24px\" viewBox=\"0 -960 960 960\">\n",
              "    <path d=\"M120-120v-720h720v720H120Zm60-500h600v-160H180v160Zm220 220h160v-160H400v160Zm0 220h160v-160H400v160ZM180-400h160v-160H180v160Zm440 0h160v-160H620v160ZM180-180h160v-160H180v160Zm440 0h160v-160H620v160Z\"/>\n",
              "  </svg>\n",
              "    </button>\n",
              "\n",
              "  <style>\n",
              "    .colab-df-container {\n",
              "      display:flex;\n",
              "      gap: 12px;\n",
              "    }\n",
              "\n",
              "    .colab-df-convert {\n",
              "      background-color: #E8F0FE;\n",
              "      border: none;\n",
              "      border-radius: 50%;\n",
              "      cursor: pointer;\n",
              "      display: none;\n",
              "      fill: #1967D2;\n",
              "      height: 32px;\n",
              "      padding: 0 0 0 0;\n",
              "      width: 32px;\n",
              "    }\n",
              "\n",
              "    .colab-df-convert:hover {\n",
              "      background-color: #E2EBFA;\n",
              "      box-shadow: 0px 1px 2px rgba(60, 64, 67, 0.3), 0px 1px 3px 1px rgba(60, 64, 67, 0.15);\n",
              "      fill: #174EA6;\n",
              "    }\n",
              "\n",
              "    .colab-df-buttons div {\n",
              "      margin-bottom: 4px;\n",
              "    }\n",
              "\n",
              "    [theme=dark] .colab-df-convert {\n",
              "      background-color: #3B4455;\n",
              "      fill: #D2E3FC;\n",
              "    }\n",
              "\n",
              "    [theme=dark] .colab-df-convert:hover {\n",
              "      background-color: #434B5C;\n",
              "      box-shadow: 0px 1px 3px 1px rgba(0, 0, 0, 0.15);\n",
              "      filter: drop-shadow(0px 1px 2px rgba(0, 0, 0, 0.3));\n",
              "      fill: #FFFFFF;\n",
              "    }\n",
              "  </style>\n",
              "\n",
              "    <script>\n",
              "      const buttonEl =\n",
              "        document.querySelector('#df-bdd85209-0539-491e-9277-c4fac1251eef button.colab-df-convert');\n",
              "      buttonEl.style.display =\n",
              "        google.colab.kernel.accessAllowed ? 'block' : 'none';\n",
              "\n",
              "      async function convertToInteractive(key) {\n",
              "        const element = document.querySelector('#df-bdd85209-0539-491e-9277-c4fac1251eef');\n",
              "        const dataTable =\n",
              "          await google.colab.kernel.invokeFunction('convertToInteractive',\n",
              "                                                    [key], {});\n",
              "        if (!dataTable) return;\n",
              "\n",
              "        const docLinkHtml = 'Like what you see? Visit the ' +\n",
              "          '<a target=\"_blank\" href=https://colab.research.google.com/notebooks/data_table.ipynb>data table notebook</a>'\n",
              "          + ' to learn more about interactive tables.';\n",
              "        element.innerHTML = '';\n",
              "        dataTable['output_type'] = 'display_data';\n",
              "        await google.colab.output.renderOutput(dataTable, element);\n",
              "        const docLink = document.createElement('div');\n",
              "        docLink.innerHTML = docLinkHtml;\n",
              "        element.appendChild(docLink);\n",
              "      }\n",
              "    </script>\n",
              "  </div>\n",
              "\n",
              "\n",
              "<div id=\"df-4ed99d67-2171-4b0d-b75d-e8ec35bb3e6f\">\n",
              "  <button class=\"colab-df-quickchart\" onclick=\"quickchart('df-4ed99d67-2171-4b0d-b75d-e8ec35bb3e6f')\"\n",
              "            title=\"Suggest charts\"\n",
              "            style=\"display:none;\">\n",
              "\n",
              "<svg xmlns=\"http://www.w3.org/2000/svg\" height=\"24px\"viewBox=\"0 0 24 24\"\n",
              "     width=\"24px\">\n",
              "    <g>\n",
              "        <path d=\"M19 3H5c-1.1 0-2 .9-2 2v14c0 1.1.9 2 2 2h14c1.1 0 2-.9 2-2V5c0-1.1-.9-2-2-2zM9 17H7v-7h2v7zm4 0h-2V7h2v10zm4 0h-2v-4h2v4z\"/>\n",
              "    </g>\n",
              "</svg>\n",
              "  </button>\n",
              "\n",
              "<style>\n",
              "  .colab-df-quickchart {\n",
              "      --bg-color: #E8F0FE;\n",
              "      --fill-color: #1967D2;\n",
              "      --hover-bg-color: #E2EBFA;\n",
              "      --hover-fill-color: #174EA6;\n",
              "      --disabled-fill-color: #AAA;\n",
              "      --disabled-bg-color: #DDD;\n",
              "  }\n",
              "\n",
              "  [theme=dark] .colab-df-quickchart {\n",
              "      --bg-color: #3B4455;\n",
              "      --fill-color: #D2E3FC;\n",
              "      --hover-bg-color: #434B5C;\n",
              "      --hover-fill-color: #FFFFFF;\n",
              "      --disabled-bg-color: #3B4455;\n",
              "      --disabled-fill-color: #666;\n",
              "  }\n",
              "\n",
              "  .colab-df-quickchart {\n",
              "    background-color: var(--bg-color);\n",
              "    border: none;\n",
              "    border-radius: 50%;\n",
              "    cursor: pointer;\n",
              "    display: none;\n",
              "    fill: var(--fill-color);\n",
              "    height: 32px;\n",
              "    padding: 0;\n",
              "    width: 32px;\n",
              "  }\n",
              "\n",
              "  .colab-df-quickchart:hover {\n",
              "    background-color: var(--hover-bg-color);\n",
              "    box-shadow: 0 1px 2px rgba(60, 64, 67, 0.3), 0 1px 3px 1px rgba(60, 64, 67, 0.15);\n",
              "    fill: var(--button-hover-fill-color);\n",
              "  }\n",
              "\n",
              "  .colab-df-quickchart-complete:disabled,\n",
              "  .colab-df-quickchart-complete:disabled:hover {\n",
              "    background-color: var(--disabled-bg-color);\n",
              "    fill: var(--disabled-fill-color);\n",
              "    box-shadow: none;\n",
              "  }\n",
              "\n",
              "  .colab-df-spinner {\n",
              "    border: 2px solid var(--fill-color);\n",
              "    border-color: transparent;\n",
              "    border-bottom-color: var(--fill-color);\n",
              "    animation:\n",
              "      spin 1s steps(1) infinite;\n",
              "  }\n",
              "\n",
              "  @keyframes spin {\n",
              "    0% {\n",
              "      border-color: transparent;\n",
              "      border-bottom-color: var(--fill-color);\n",
              "      border-left-color: var(--fill-color);\n",
              "    }\n",
              "    20% {\n",
              "      border-color: transparent;\n",
              "      border-left-color: var(--fill-color);\n",
              "      border-top-color: var(--fill-color);\n",
              "    }\n",
              "    30% {\n",
              "      border-color: transparent;\n",
              "      border-left-color: var(--fill-color);\n",
              "      border-top-color: var(--fill-color);\n",
              "      border-right-color: var(--fill-color);\n",
              "    }\n",
              "    40% {\n",
              "      border-color: transparent;\n",
              "      border-right-color: var(--fill-color);\n",
              "      border-top-color: var(--fill-color);\n",
              "    }\n",
              "    60% {\n",
              "      border-color: transparent;\n",
              "      border-right-color: var(--fill-color);\n",
              "    }\n",
              "    80% {\n",
              "      border-color: transparent;\n",
              "      border-right-color: var(--fill-color);\n",
              "      border-bottom-color: var(--fill-color);\n",
              "    }\n",
              "    90% {\n",
              "      border-color: transparent;\n",
              "      border-bottom-color: var(--fill-color);\n",
              "    }\n",
              "  }\n",
              "</style>\n",
              "\n",
              "  <script>\n",
              "    async function quickchart(key) {\n",
              "      const quickchartButtonEl =\n",
              "        document.querySelector('#' + key + ' button');\n",
              "      quickchartButtonEl.disabled = true;  // To prevent multiple clicks.\n",
              "      quickchartButtonEl.classList.add('colab-df-spinner');\n",
              "      try {\n",
              "        const charts = await google.colab.kernel.invokeFunction(\n",
              "            'suggestCharts', [key], {});\n",
              "      } catch (error) {\n",
              "        console.error('Error during call to suggestCharts:', error);\n",
              "      }\n",
              "      quickchartButtonEl.classList.remove('colab-df-spinner');\n",
              "      quickchartButtonEl.classList.add('colab-df-quickchart-complete');\n",
              "    }\n",
              "    (() => {\n",
              "      let quickchartButtonEl =\n",
              "        document.querySelector('#df-4ed99d67-2171-4b0d-b75d-e8ec35bb3e6f button');\n",
              "      quickchartButtonEl.style.display =\n",
              "        google.colab.kernel.accessAllowed ? 'block' : 'none';\n",
              "    })();\n",
              "  </script>\n",
              "</div>\n",
              "\n",
              "    </div>\n",
              "  </div>\n"
            ],
            "application/vnd.google.colaboratory.intrinsic+json": {
              "type": "dataframe",
              "summary": "{\n  \"name\": \"df\",\n  \"rows\": 8,\n  \"fields\": [\n    {\n      \"column\": \"PTRATIO\",\n      \"properties\": {\n        \"dtype\": \"number\",\n        \"std\": 143.71986713129823,\n        \"min\": 0.11046113814762588,\n        \"max\": 409.0,\n        \"num_unique_values\": 8,\n        \"samples\": [\n          2.914300427955668,\n          2.926851002982283,\n          409.0\n        ],\n        \"semantic_type\": \"\",\n        \"description\": \"\"\n      }\n    },\n    {\n      \"column\": \"CRIM\",\n      \"properties\": {\n        \"dtype\": \"number\",\n        \"std\": 144.3882051446552,\n        \"min\": 0.07949842765740717,\n        \"max\": 409.0,\n        \"num_unique_values\": 8,\n        \"samples\": [\n          0.5735408704383836,\n          0.41768409115023764,\n          409.0\n        ],\n        \"semantic_type\": \"\",\n        \"description\": \"\"\n      }\n    },\n    {\n      \"column\": \"MEDV\",\n      \"properties\": {\n        \"dtype\": \"number\",\n        \"std\": 143.7029461299088,\n        \"min\": 0.301218574860415,\n        \"max\": 409.0,\n        \"num_unique_values\": 8,\n        \"samples\": [\n          3.0012091365482765,\n          3.031657008201983,\n          409.0\n        ],\n        \"semantic_type\": \"\",\n        \"description\": \"\"\n      }\n    },\n    {\n      \"column\": \"LSTAT\",\n      \"properties\": {\n        \"dtype\": \"number\",\n        \"std\": 143.8988144591784,\n        \"min\": 0.5564752875930896,\n        \"max\": 409.0,\n        \"num_unique_values\": 8,\n        \"samples\": [\n          2.3397999147845265,\n          2.359910159613315,\n          409.0\n        ],\n        \"semantic_type\": \"\",\n        \"description\": \"\"\n      }\n    },\n    {\n      \"column\": \"NOX\",\n      \"properties\": {\n        \"dtype\": \"number\",\n        \"std\": 144.78233426607005,\n        \"min\": -0.9545119446943529,\n        \"max\": 409.0,\n        \"num_unique_values\": 8,\n        \"samples\": [\n          -0.6438851431324695,\n          -0.6635883783184009,\n          409.0\n        ],\n        \"semantic_type\": \"\",\n        \"description\": \"\"\n      }\n    },\n    {\n      \"column\": \"INDUS\",\n      \"properties\": {\n        \"dtype\": \"number\",\n        \"std\": 144.78233426607005,\n        \"min\": -0.9545119446943529,\n        \"max\": 409.0,\n        \"num_unique_values\": 8,\n        \"samples\": [\n          -0.6438851431324695,\n          -0.6635883783184009,\n          409.0\n        ],\n        \"semantic_type\": \"\",\n        \"description\": \"\"\n      }\n    },\n    {\n      \"column\": \"RM\",\n      \"properties\": {\n        \"dtype\": \"number\",\n        \"std\": 144.04958481305957,\n        \"min\": 0.07269497563745043,\n        \"max\": 409.0,\n        \"num_unique_values\": 8,\n        \"samples\": [\n          1.8256647211408463,\n          1.8282521055870808,\n          409.0\n        ],\n        \"semantic_type\": \"\",\n        \"description\": \"\"\n      }\n    },\n    {\n      \"column\": \"AGE\",\n      \"properties\": {\n        \"dtype\": \"number\",\n        \"std\": 142.30617984202672,\n        \"min\": 1.70293863659264,\n        \"max\": 409.0,\n        \"num_unique_values\": 8,\n        \"samples\": [\n          7.882209817322577,\n          8.47938677028003,\n          409.0\n        ],\n        \"semantic_type\": \"\",\n        \"description\": \"\"\n      }\n    },\n    {\n      \"column\": \"DIS\",\n      \"properties\": {\n        \"dtype\": \"number\",\n        \"std\": 144.2073433281441,\n        \"min\": 0.128393214768399,\n        \"max\": 409.0,\n        \"num_unique_values\": 8,\n        \"samples\": [\n          1.2399591999462638,\n          1.285091855610728,\n          409.0\n        ],\n        \"semantic_type\": \"\",\n        \"description\": \"\"\n      }\n    },\n    {\n      \"column\": \"RAD\",\n      \"properties\": {\n        \"dtype\": \"number\",\n        \"std\": 144.08096606420787,\n        \"min\": 0.0,\n        \"max\": 409.0,\n        \"num_unique_values\": 8,\n        \"samples\": [\n          1.6649378662542202,\n          1.6094379124341003,\n          409.0\n        ],\n        \"semantic_type\": \"\",\n        \"description\": \"\"\n      }\n    },\n    {\n      \"column\": \"TAX\",\n      \"properties\": {\n        \"dtype\": \"number\",\n        \"std\": 142.83165319149992,\n        \"min\": 0.3473069109639205,\n        \"max\": 409.0,\n        \"num_unique_values\": 8,\n        \"samples\": [\n          5.847753221763536,\n          5.726847747587197,\n          409.0\n        ],\n        \"semantic_type\": \"\",\n        \"description\": \"\"\n      }\n    }\n  ]\n}"
            }
          },
          "metadata": {},
          "execution_count": 77
        }
      ]
    },
    {
      "cell_type": "code",
      "source": [],
      "metadata": {
        "id": "jFahoBIfG7tP"
      },
      "execution_count": null,
      "outputs": []
    }
  ]
}