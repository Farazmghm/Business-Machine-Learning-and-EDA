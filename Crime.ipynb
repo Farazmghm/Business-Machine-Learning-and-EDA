{
  "nbformat": 4,
  "nbformat_minor": 0,
  "metadata": {
    "colab": {
      "provenance": [],
      "toc_visible": true,
      "authorship_tag": "ABX9TyP4udVA+ZMwyAxjFKb038PU",
      "include_colab_link": true
    },
    "kernelspec": {
      "name": "python3",
      "display_name": "Python 3"
    },
    "language_info": {
      "name": "python"
    }
  },
  "cells": [
    {
      "cell_type": "markdown",
      "metadata": {
        "id": "view-in-github",
        "colab_type": "text"
      },
      "source": [
        "<a href=\"https://colab.research.google.com/github/Farazmghm/Business-Machine-Learning-and-EDA/blob/main/Crime.ipynb\" target=\"_parent\"><img src=\"https://colab.research.google.com/assets/colab-badge.svg\" alt=\"Open In Colab\"/></a>"
      ]
    },
    {
      "cell_type": "markdown",
      "source": [
        "## Project Content\n",
        "\n",
        " 1. About Dataset\n",
        "        * 1.1 [Introduction]\n",
        "          * 1.1.1 [Attribute Information]\n",
        " 2. First organization\n",
        "         * 2.1 [required Pyhon Libraries]\n",
        "         * 2.2 [Loading Dataset]\n",
        "         * 2.3 [Exploration of Dataset]\n",
        "\n",
        "\n"
      ],
      "metadata": {
        "id": "arEVQAC-7j7x"
      }
    },
    {
      "cell_type": "markdown",
      "source": [
        "## 1. About Dataset\n",
        "* 1.1 Number of Instances: There are 506 data points.\n",
        "\n",
        "* 1.2 Number of Attributes: There are 13 attributes (features), which are all continuous (numeric) values. Additionally, there is 1 binary (0 or 1) attribute.\n",
        "\n",
        "####1.1.1. Attribute Information:\n",
        "\n",
        "A. CRIM: Crime rate per person by town.\n",
        "\n",
        "B. ZN: Proportion of land zoned for large residential lots (more than 25,000 sq. feet).\n",
        "\n",
        "C. INDUS: Proportion of land used for non-retail business by town.\n",
        "\n",
        "D. CHAS: Whether the town is near the Charles River (1 if yes, 0 if no).\n",
        "\n",
        "E. NOX: Nitric oxide pollution (parts per 10 million).\n",
        "\n",
        "F. RM: Average number of rooms per house.\n",
        "\n",
        "G. AGE: Proportion of houses built before 1940 that are owner-occupied.\n",
        "\n",
        "H. DIS: Weighted distances to five key employment centers in Boston.\n",
        "\n",
        "I. RAD: Accessibility to major highways.\n",
        "\n",
        "J. TAX: Property tax rate per $10,000.\n",
        "\n",
        "K. PTRATIO: Student-teacher ratio by town.\n",
        "\n",
        "L. B: A measure involving the proportion of the town's black population. (Calculated as 1000 * (Bk - 0.63)^2, where Bk is the proportion of black residents in the town).\n",
        "\n",
        "M. LSTAT: Percentage of the population that is of lower economic status.\n",
        "\n",
        "N. MEDV: Median value of owner-occupied homes in thousands of dollars."
      ],
      "metadata": {
        "id": "rae2zCfNz_rK"
      }
    },
    {
      "cell_type": "code",
      "execution_count": 2,
      "metadata": {
        "colab": {
          "base_uri": "https://localhost:8080/"
        },
        "id": "ckv6xWhByoP1",
        "outputId": "94502011-f6d4-4680-8666-31d792139f48"
      },
      "outputs": [
        {
          "output_type": "stream",
          "name": "stdout",
          "text": [
            "Mounted at /content/drive\n"
          ]
        }
      ],
      "source": [
        "from google.colab import drive\n",
        "drive.mount('/content/drive')"
      ]
    },
    {
      "cell_type": "markdown",
      "source": [
        "### required Pyhon Libraries"
      ],
      "metadata": {
        "id": "i5abzUEdF9qz"
      }
    },
    {
      "cell_type": "code",
      "source": [
        "import numpy as np\n",
        "import pandas as pd\n",
        "import matplotlib.pyplot as plt\n",
        "import seaborn as sns\n",
        "%matplotlib inline"
      ],
      "metadata": {
        "id": "cXkvXKHgy11b"
      },
      "execution_count": 3,
      "outputs": []
    },
    {
      "cell_type": "markdown",
      "source": [
        "#### Loading Dataset"
      ],
      "metadata": {
        "id": "vBkojnSBHq5D"
      }
    },
    {
      "cell_type": "code",
      "source": [
        "df=pd.read_csv('/content/drive/MyDrive/data.csv')\n",
        "df"
      ],
      "metadata": {
        "colab": {
          "base_uri": "https://localhost:8080/",
          "height": 423
        },
        "id": "AxnsBPZJzTOk",
        "outputId": "1fdaf285-45ea-411c-dace-ed64b238c2cb"
      },
      "execution_count": 4,
      "outputs": [
        {
          "output_type": "execute_result",
          "data": {
            "text/plain": [
              "        CRIM    ZN  INDUS  CHAS    NOX     RM   AGE     DIS  RAD  TAX  \\\n",
              "0    0.00632  18.0   2.31     0  0.538  6.575  65.2  4.0900    1  296   \n",
              "1    0.02731   0.0   7.07     0  0.469  6.421  78.9  4.9671    2  242   \n",
              "2    0.02729   0.0   7.07     0  0.469  7.185  61.1  4.9671    2  242   \n",
              "3    0.03237   0.0   2.18     0  0.458  6.998  45.8  6.0622    3  222   \n",
              "4    0.06905   0.0   2.18     0  0.458  7.147  54.2  6.0622    3  222   \n",
              "..       ...   ...    ...   ...    ...    ...   ...     ...  ...  ...   \n",
              "506  0.98765   0.0  12.50     0  0.561  6.980  89.0  2.0980    3  320   \n",
              "507  0.23456   0.0  12.50     0  0.561  6.980  76.0  2.6540    3  320   \n",
              "508  0.44433   0.0  12.50     0  0.561  6.123  98.0  2.9870    3  320   \n",
              "509  0.77763   0.0  12.70     0  0.561  6.222  34.0  2.5430    3  329   \n",
              "510  0.65432   0.0  12.80     0  0.561  6.760  67.0  2.9870    3  345   \n",
              "\n",
              "     PTRATIO       B  LSTAT  MEDV  \n",
              "0       15.3  396.90   4.98  24.0  \n",
              "1       17.8  396.90   9.14  21.6  \n",
              "2       17.8  392.83   4.03  34.7  \n",
              "3       18.7  394.63   2.94  33.4  \n",
              "4       18.7  396.90   5.33  36.2  \n",
              "..       ...     ...    ...   ...  \n",
              "506     23.0  396.00  12.00  12.0  \n",
              "507     23.0  343.00  25.00  32.0  \n",
              "508     23.0  343.00  21.00  54.0  \n",
              "509     23.0  343.00  76.00  67.0  \n",
              "510     23.0  321.00  45.00  24.0  \n",
              "\n",
              "[511 rows x 14 columns]"
            ],
            "text/html": [
              "\n",
              "  <div id=\"df-256cf9a7-168c-450d-b1d0-b22c083bced4\" class=\"colab-df-container\">\n",
              "    <div>\n",
              "<style scoped>\n",
              "    .dataframe tbody tr th:only-of-type {\n",
              "        vertical-align: middle;\n",
              "    }\n",
              "\n",
              "    .dataframe tbody tr th {\n",
              "        vertical-align: top;\n",
              "    }\n",
              "\n",
              "    .dataframe thead th {\n",
              "        text-align: right;\n",
              "    }\n",
              "</style>\n",
              "<table border=\"1\" class=\"dataframe\">\n",
              "  <thead>\n",
              "    <tr style=\"text-align: right;\">\n",
              "      <th></th>\n",
              "      <th>CRIM</th>\n",
              "      <th>ZN</th>\n",
              "      <th>INDUS</th>\n",
              "      <th>CHAS</th>\n",
              "      <th>NOX</th>\n",
              "      <th>RM</th>\n",
              "      <th>AGE</th>\n",
              "      <th>DIS</th>\n",
              "      <th>RAD</th>\n",
              "      <th>TAX</th>\n",
              "      <th>PTRATIO</th>\n",
              "      <th>B</th>\n",
              "      <th>LSTAT</th>\n",
              "      <th>MEDV</th>\n",
              "    </tr>\n",
              "  </thead>\n",
              "  <tbody>\n",
              "    <tr>\n",
              "      <th>0</th>\n",
              "      <td>0.00632</td>\n",
              "      <td>18.0</td>\n",
              "      <td>2.31</td>\n",
              "      <td>0</td>\n",
              "      <td>0.538</td>\n",
              "      <td>6.575</td>\n",
              "      <td>65.2</td>\n",
              "      <td>4.0900</td>\n",
              "      <td>1</td>\n",
              "      <td>296</td>\n",
              "      <td>15.3</td>\n",
              "      <td>396.90</td>\n",
              "      <td>4.98</td>\n",
              "      <td>24.0</td>\n",
              "    </tr>\n",
              "    <tr>\n",
              "      <th>1</th>\n",
              "      <td>0.02731</td>\n",
              "      <td>0.0</td>\n",
              "      <td>7.07</td>\n",
              "      <td>0</td>\n",
              "      <td>0.469</td>\n",
              "      <td>6.421</td>\n",
              "      <td>78.9</td>\n",
              "      <td>4.9671</td>\n",
              "      <td>2</td>\n",
              "      <td>242</td>\n",
              "      <td>17.8</td>\n",
              "      <td>396.90</td>\n",
              "      <td>9.14</td>\n",
              "      <td>21.6</td>\n",
              "    </tr>\n",
              "    <tr>\n",
              "      <th>2</th>\n",
              "      <td>0.02729</td>\n",
              "      <td>0.0</td>\n",
              "      <td>7.07</td>\n",
              "      <td>0</td>\n",
              "      <td>0.469</td>\n",
              "      <td>7.185</td>\n",
              "      <td>61.1</td>\n",
              "      <td>4.9671</td>\n",
              "      <td>2</td>\n",
              "      <td>242</td>\n",
              "      <td>17.8</td>\n",
              "      <td>392.83</td>\n",
              "      <td>4.03</td>\n",
              "      <td>34.7</td>\n",
              "    </tr>\n",
              "    <tr>\n",
              "      <th>3</th>\n",
              "      <td>0.03237</td>\n",
              "      <td>0.0</td>\n",
              "      <td>2.18</td>\n",
              "      <td>0</td>\n",
              "      <td>0.458</td>\n",
              "      <td>6.998</td>\n",
              "      <td>45.8</td>\n",
              "      <td>6.0622</td>\n",
              "      <td>3</td>\n",
              "      <td>222</td>\n",
              "      <td>18.7</td>\n",
              "      <td>394.63</td>\n",
              "      <td>2.94</td>\n",
              "      <td>33.4</td>\n",
              "    </tr>\n",
              "    <tr>\n",
              "      <th>4</th>\n",
              "      <td>0.06905</td>\n",
              "      <td>0.0</td>\n",
              "      <td>2.18</td>\n",
              "      <td>0</td>\n",
              "      <td>0.458</td>\n",
              "      <td>7.147</td>\n",
              "      <td>54.2</td>\n",
              "      <td>6.0622</td>\n",
              "      <td>3</td>\n",
              "      <td>222</td>\n",
              "      <td>18.7</td>\n",
              "      <td>396.90</td>\n",
              "      <td>5.33</td>\n",
              "      <td>36.2</td>\n",
              "    </tr>\n",
              "    <tr>\n",
              "      <th>...</th>\n",
              "      <td>...</td>\n",
              "      <td>...</td>\n",
              "      <td>...</td>\n",
              "      <td>...</td>\n",
              "      <td>...</td>\n",
              "      <td>...</td>\n",
              "      <td>...</td>\n",
              "      <td>...</td>\n",
              "      <td>...</td>\n",
              "      <td>...</td>\n",
              "      <td>...</td>\n",
              "      <td>...</td>\n",
              "      <td>...</td>\n",
              "      <td>...</td>\n",
              "    </tr>\n",
              "    <tr>\n",
              "      <th>506</th>\n",
              "      <td>0.98765</td>\n",
              "      <td>0.0</td>\n",
              "      <td>12.50</td>\n",
              "      <td>0</td>\n",
              "      <td>0.561</td>\n",
              "      <td>6.980</td>\n",
              "      <td>89.0</td>\n",
              "      <td>2.0980</td>\n",
              "      <td>3</td>\n",
              "      <td>320</td>\n",
              "      <td>23.0</td>\n",
              "      <td>396.00</td>\n",
              "      <td>12.00</td>\n",
              "      <td>12.0</td>\n",
              "    </tr>\n",
              "    <tr>\n",
              "      <th>507</th>\n",
              "      <td>0.23456</td>\n",
              "      <td>0.0</td>\n",
              "      <td>12.50</td>\n",
              "      <td>0</td>\n",
              "      <td>0.561</td>\n",
              "      <td>6.980</td>\n",
              "      <td>76.0</td>\n",
              "      <td>2.6540</td>\n",
              "      <td>3</td>\n",
              "      <td>320</td>\n",
              "      <td>23.0</td>\n",
              "      <td>343.00</td>\n",
              "      <td>25.00</td>\n",
              "      <td>32.0</td>\n",
              "    </tr>\n",
              "    <tr>\n",
              "      <th>508</th>\n",
              "      <td>0.44433</td>\n",
              "      <td>0.0</td>\n",
              "      <td>12.50</td>\n",
              "      <td>0</td>\n",
              "      <td>0.561</td>\n",
              "      <td>6.123</td>\n",
              "      <td>98.0</td>\n",
              "      <td>2.9870</td>\n",
              "      <td>3</td>\n",
              "      <td>320</td>\n",
              "      <td>23.0</td>\n",
              "      <td>343.00</td>\n",
              "      <td>21.00</td>\n",
              "      <td>54.0</td>\n",
              "    </tr>\n",
              "    <tr>\n",
              "      <th>509</th>\n",
              "      <td>0.77763</td>\n",
              "      <td>0.0</td>\n",
              "      <td>12.70</td>\n",
              "      <td>0</td>\n",
              "      <td>0.561</td>\n",
              "      <td>6.222</td>\n",
              "      <td>34.0</td>\n",
              "      <td>2.5430</td>\n",
              "      <td>3</td>\n",
              "      <td>329</td>\n",
              "      <td>23.0</td>\n",
              "      <td>343.00</td>\n",
              "      <td>76.00</td>\n",
              "      <td>67.0</td>\n",
              "    </tr>\n",
              "    <tr>\n",
              "      <th>510</th>\n",
              "      <td>0.65432</td>\n",
              "      <td>0.0</td>\n",
              "      <td>12.80</td>\n",
              "      <td>0</td>\n",
              "      <td>0.561</td>\n",
              "      <td>6.760</td>\n",
              "      <td>67.0</td>\n",
              "      <td>2.9870</td>\n",
              "      <td>3</td>\n",
              "      <td>345</td>\n",
              "      <td>23.0</td>\n",
              "      <td>321.00</td>\n",
              "      <td>45.00</td>\n",
              "      <td>24.0</td>\n",
              "    </tr>\n",
              "  </tbody>\n",
              "</table>\n",
              "<p>511 rows × 14 columns</p>\n",
              "</div>\n",
              "    <div class=\"colab-df-buttons\">\n",
              "\n",
              "  <div class=\"colab-df-container\">\n",
              "    <button class=\"colab-df-convert\" onclick=\"convertToInteractive('df-256cf9a7-168c-450d-b1d0-b22c083bced4')\"\n",
              "            title=\"Convert this dataframe to an interactive table.\"\n",
              "            style=\"display:none;\">\n",
              "\n",
              "  <svg xmlns=\"http://www.w3.org/2000/svg\" height=\"24px\" viewBox=\"0 -960 960 960\">\n",
              "    <path d=\"M120-120v-720h720v720H120Zm60-500h600v-160H180v160Zm220 220h160v-160H400v160Zm0 220h160v-160H400v160ZM180-400h160v-160H180v160Zm440 0h160v-160H620v160ZM180-180h160v-160H180v160Zm440 0h160v-160H620v160Z\"/>\n",
              "  </svg>\n",
              "    </button>\n",
              "\n",
              "  <style>\n",
              "    .colab-df-container {\n",
              "      display:flex;\n",
              "      gap: 12px;\n",
              "    }\n",
              "\n",
              "    .colab-df-convert {\n",
              "      background-color: #E8F0FE;\n",
              "      border: none;\n",
              "      border-radius: 50%;\n",
              "      cursor: pointer;\n",
              "      display: none;\n",
              "      fill: #1967D2;\n",
              "      height: 32px;\n",
              "      padding: 0 0 0 0;\n",
              "      width: 32px;\n",
              "    }\n",
              "\n",
              "    .colab-df-convert:hover {\n",
              "      background-color: #E2EBFA;\n",
              "      box-shadow: 0px 1px 2px rgba(60, 64, 67, 0.3), 0px 1px 3px 1px rgba(60, 64, 67, 0.15);\n",
              "      fill: #174EA6;\n",
              "    }\n",
              "\n",
              "    .colab-df-buttons div {\n",
              "      margin-bottom: 4px;\n",
              "    }\n",
              "\n",
              "    [theme=dark] .colab-df-convert {\n",
              "      background-color: #3B4455;\n",
              "      fill: #D2E3FC;\n",
              "    }\n",
              "\n",
              "    [theme=dark] .colab-df-convert:hover {\n",
              "      background-color: #434B5C;\n",
              "      box-shadow: 0px 1px 3px 1px rgba(0, 0, 0, 0.15);\n",
              "      filter: drop-shadow(0px 1px 2px rgba(0, 0, 0, 0.3));\n",
              "      fill: #FFFFFF;\n",
              "    }\n",
              "  </style>\n",
              "\n",
              "    <script>\n",
              "      const buttonEl =\n",
              "        document.querySelector('#df-256cf9a7-168c-450d-b1d0-b22c083bced4 button.colab-df-convert');\n",
              "      buttonEl.style.display =\n",
              "        google.colab.kernel.accessAllowed ? 'block' : 'none';\n",
              "\n",
              "      async function convertToInteractive(key) {\n",
              "        const element = document.querySelector('#df-256cf9a7-168c-450d-b1d0-b22c083bced4');\n",
              "        const dataTable =\n",
              "          await google.colab.kernel.invokeFunction('convertToInteractive',\n",
              "                                                    [key], {});\n",
              "        if (!dataTable) return;\n",
              "\n",
              "        const docLinkHtml = 'Like what you see? Visit the ' +\n",
              "          '<a target=\"_blank\" href=https://colab.research.google.com/notebooks/data_table.ipynb>data table notebook</a>'\n",
              "          + ' to learn more about interactive tables.';\n",
              "        element.innerHTML = '';\n",
              "        dataTable['output_type'] = 'display_data';\n",
              "        await google.colab.output.renderOutput(dataTable, element);\n",
              "        const docLink = document.createElement('div');\n",
              "        docLink.innerHTML = docLinkHtml;\n",
              "        element.appendChild(docLink);\n",
              "      }\n",
              "    </script>\n",
              "  </div>\n",
              "\n",
              "\n",
              "<div id=\"df-b8cd9478-64fd-4617-8585-a1cbff629587\">\n",
              "  <button class=\"colab-df-quickchart\" onclick=\"quickchart('df-b8cd9478-64fd-4617-8585-a1cbff629587')\"\n",
              "            title=\"Suggest charts\"\n",
              "            style=\"display:none;\">\n",
              "\n",
              "<svg xmlns=\"http://www.w3.org/2000/svg\" height=\"24px\"viewBox=\"0 0 24 24\"\n",
              "     width=\"24px\">\n",
              "    <g>\n",
              "        <path d=\"M19 3H5c-1.1 0-2 .9-2 2v14c0 1.1.9 2 2 2h14c1.1 0 2-.9 2-2V5c0-1.1-.9-2-2-2zM9 17H7v-7h2v7zm4 0h-2V7h2v10zm4 0h-2v-4h2v4z\"/>\n",
              "    </g>\n",
              "</svg>\n",
              "  </button>\n",
              "\n",
              "<style>\n",
              "  .colab-df-quickchart {\n",
              "      --bg-color: #E8F0FE;\n",
              "      --fill-color: #1967D2;\n",
              "      --hover-bg-color: #E2EBFA;\n",
              "      --hover-fill-color: #174EA6;\n",
              "      --disabled-fill-color: #AAA;\n",
              "      --disabled-bg-color: #DDD;\n",
              "  }\n",
              "\n",
              "  [theme=dark] .colab-df-quickchart {\n",
              "      --bg-color: #3B4455;\n",
              "      --fill-color: #D2E3FC;\n",
              "      --hover-bg-color: #434B5C;\n",
              "      --hover-fill-color: #FFFFFF;\n",
              "      --disabled-bg-color: #3B4455;\n",
              "      --disabled-fill-color: #666;\n",
              "  }\n",
              "\n",
              "  .colab-df-quickchart {\n",
              "    background-color: var(--bg-color);\n",
              "    border: none;\n",
              "    border-radius: 50%;\n",
              "    cursor: pointer;\n",
              "    display: none;\n",
              "    fill: var(--fill-color);\n",
              "    height: 32px;\n",
              "    padding: 0;\n",
              "    width: 32px;\n",
              "  }\n",
              "\n",
              "  .colab-df-quickchart:hover {\n",
              "    background-color: var(--hover-bg-color);\n",
              "    box-shadow: 0 1px 2px rgba(60, 64, 67, 0.3), 0 1px 3px 1px rgba(60, 64, 67, 0.15);\n",
              "    fill: var(--button-hover-fill-color);\n",
              "  }\n",
              "\n",
              "  .colab-df-quickchart-complete:disabled,\n",
              "  .colab-df-quickchart-complete:disabled:hover {\n",
              "    background-color: var(--disabled-bg-color);\n",
              "    fill: var(--disabled-fill-color);\n",
              "    box-shadow: none;\n",
              "  }\n",
              "\n",
              "  .colab-df-spinner {\n",
              "    border: 2px solid var(--fill-color);\n",
              "    border-color: transparent;\n",
              "    border-bottom-color: var(--fill-color);\n",
              "    animation:\n",
              "      spin 1s steps(1) infinite;\n",
              "  }\n",
              "\n",
              "  @keyframes spin {\n",
              "    0% {\n",
              "      border-color: transparent;\n",
              "      border-bottom-color: var(--fill-color);\n",
              "      border-left-color: var(--fill-color);\n",
              "    }\n",
              "    20% {\n",
              "      border-color: transparent;\n",
              "      border-left-color: var(--fill-color);\n",
              "      border-top-color: var(--fill-color);\n",
              "    }\n",
              "    30% {\n",
              "      border-color: transparent;\n",
              "      border-left-color: var(--fill-color);\n",
              "      border-top-color: var(--fill-color);\n",
              "      border-right-color: var(--fill-color);\n",
              "    }\n",
              "    40% {\n",
              "      border-color: transparent;\n",
              "      border-right-color: var(--fill-color);\n",
              "      border-top-color: var(--fill-color);\n",
              "    }\n",
              "    60% {\n",
              "      border-color: transparent;\n",
              "      border-right-color: var(--fill-color);\n",
              "    }\n",
              "    80% {\n",
              "      border-color: transparent;\n",
              "      border-right-color: var(--fill-color);\n",
              "      border-bottom-color: var(--fill-color);\n",
              "    }\n",
              "    90% {\n",
              "      border-color: transparent;\n",
              "      border-bottom-color: var(--fill-color);\n",
              "    }\n",
              "  }\n",
              "</style>\n",
              "\n",
              "  <script>\n",
              "    async function quickchart(key) {\n",
              "      const quickchartButtonEl =\n",
              "        document.querySelector('#' + key + ' button');\n",
              "      quickchartButtonEl.disabled = true;  // To prevent multiple clicks.\n",
              "      quickchartButtonEl.classList.add('colab-df-spinner');\n",
              "      try {\n",
              "        const charts = await google.colab.kernel.invokeFunction(\n",
              "            'suggestCharts', [key], {});\n",
              "      } catch (error) {\n",
              "        console.error('Error during call to suggestCharts:', error);\n",
              "      }\n",
              "      quickchartButtonEl.classList.remove('colab-df-spinner');\n",
              "      quickchartButtonEl.classList.add('colab-df-quickchart-complete');\n",
              "    }\n",
              "    (() => {\n",
              "      let quickchartButtonEl =\n",
              "        document.querySelector('#df-b8cd9478-64fd-4617-8585-a1cbff629587 button');\n",
              "      quickchartButtonEl.style.display =\n",
              "        google.colab.kernel.accessAllowed ? 'block' : 'none';\n",
              "    })();\n",
              "  </script>\n",
              "</div>\n",
              "\n",
              "  <div id=\"id_36c71611-2b53-4f5c-a57a-052f7ce251f4\">\n",
              "    <style>\n",
              "      .colab-df-generate {\n",
              "        background-color: #E8F0FE;\n",
              "        border: none;\n",
              "        border-radius: 50%;\n",
              "        cursor: pointer;\n",
              "        display: none;\n",
              "        fill: #1967D2;\n",
              "        height: 32px;\n",
              "        padding: 0 0 0 0;\n",
              "        width: 32px;\n",
              "      }\n",
              "\n",
              "      .colab-df-generate:hover {\n",
              "        background-color: #E2EBFA;\n",
              "        box-shadow: 0px 1px 2px rgba(60, 64, 67, 0.3), 0px 1px 3px 1px rgba(60, 64, 67, 0.15);\n",
              "        fill: #174EA6;\n",
              "      }\n",
              "\n",
              "      [theme=dark] .colab-df-generate {\n",
              "        background-color: #3B4455;\n",
              "        fill: #D2E3FC;\n",
              "      }\n",
              "\n",
              "      [theme=dark] .colab-df-generate:hover {\n",
              "        background-color: #434B5C;\n",
              "        box-shadow: 0px 1px 3px 1px rgba(0, 0, 0, 0.15);\n",
              "        filter: drop-shadow(0px 1px 2px rgba(0, 0, 0, 0.3));\n",
              "        fill: #FFFFFF;\n",
              "      }\n",
              "    </style>\n",
              "    <button class=\"colab-df-generate\" onclick=\"generateWithVariable('df')\"\n",
              "            title=\"Generate code using this dataframe.\"\n",
              "            style=\"display:none;\">\n",
              "\n",
              "  <svg xmlns=\"http://www.w3.org/2000/svg\" height=\"24px\"viewBox=\"0 0 24 24\"\n",
              "       width=\"24px\">\n",
              "    <path d=\"M7,19H8.4L18.45,9,17,7.55,7,17.6ZM5,21V16.75L18.45,3.32a2,2,0,0,1,2.83,0l1.4,1.43a1.91,1.91,0,0,1,.58,1.4,1.91,1.91,0,0,1-.58,1.4L9.25,21ZM18.45,9,17,7.55Zm-12,3A5.31,5.31,0,0,0,4.9,8.1,5.31,5.31,0,0,0,1,6.5,5.31,5.31,0,0,0,4.9,4.9,5.31,5.31,0,0,0,6.5,1,5.31,5.31,0,0,0,8.1,4.9,5.31,5.31,0,0,0,12,6.5,5.46,5.46,0,0,0,6.5,12Z\"/>\n",
              "  </svg>\n",
              "    </button>\n",
              "    <script>\n",
              "      (() => {\n",
              "      const buttonEl =\n",
              "        document.querySelector('#id_36c71611-2b53-4f5c-a57a-052f7ce251f4 button.colab-df-generate');\n",
              "      buttonEl.style.display =\n",
              "        google.colab.kernel.accessAllowed ? 'block' : 'none';\n",
              "\n",
              "      buttonEl.onclick = () => {\n",
              "        google.colab.notebook.generateWithVariable('df');\n",
              "      }\n",
              "      })();\n",
              "    </script>\n",
              "  </div>\n",
              "\n",
              "    </div>\n",
              "  </div>\n"
            ],
            "application/vnd.google.colaboratory.intrinsic+json": {
              "type": "dataframe",
              "variable_name": "df",
              "summary": "{\n  \"name\": \"df\",\n  \"rows\": 511,\n  \"fields\": [\n    {\n      \"column\": \"CRIM\",\n      \"properties\": {\n        \"dtype\": \"number\",\n        \"std\": 8.564433333509855,\n        \"min\": 0.00632,\n        \"max\": 88.9762,\n        \"num_unique_values\": 509,\n        \"samples\": [\n          0.08387,\n          0.24522,\n          0.15086\n        ],\n        \"semantic_type\": \"\",\n        \"description\": \"\"\n      }\n    },\n    {\n      \"column\": \"ZN\",\n      \"properties\": {\n        \"dtype\": \"number\",\n        \"std\": 23.234838381032187,\n        \"min\": 0.0,\n        \"max\": 100.0,\n        \"num_unique_values\": 26,\n        \"samples\": [\n          25.0,\n          30.0,\n          18.0\n        ],\n        \"semantic_type\": \"\",\n        \"description\": \"\"\n      }\n    },\n    {\n      \"column\": \"INDUS\",\n      \"properties\": {\n        \"dtype\": \"number\",\n        \"std\": 6.828174588309387,\n        \"min\": 0.46,\n        \"max\": 27.74,\n        \"num_unique_values\": 79,\n        \"samples\": [\n          2.46,\n          2.31,\n          15.04\n        ],\n        \"semantic_type\": \"\",\n        \"description\": \"\"\n      }\n    },\n    {\n      \"column\": \"CHAS\",\n      \"properties\": {\n        \"dtype\": \"number\",\n        \"std\": 0,\n        \"min\": 0,\n        \"max\": 1,\n        \"num_unique_values\": 2,\n        \"samples\": [\n          1,\n          0\n        ],\n        \"semantic_type\": \"\",\n        \"description\": \"\"\n      }\n    },\n    {\n      \"column\": \"NOX\",\n      \"properties\": {\n        \"dtype\": \"number\",\n        \"std\": 0.11530992214681604,\n        \"min\": 0.385,\n        \"max\": 0.871,\n        \"num_unique_values\": 82,\n        \"samples\": [\n          0.401,\n          0.538\n        ],\n        \"semantic_type\": \"\",\n        \"description\": \"\"\n      }\n    },\n    {\n      \"column\": \"RM\",\n      \"properties\": {\n        \"dtype\": \"number\",\n        \"std\": 0.7038016463619768,\n        \"min\": 3.561,\n        \"max\": 8.78,\n        \"num_unique_values\": 444,\n        \"samples\": [\n          3.863,\n          5.012\n        ],\n        \"semantic_type\": \"\",\n        \"description\": \"\"\n      }\n    },\n    {\n      \"column\": \"AGE\",\n      \"properties\": {\n        \"dtype\": \"number\",\n        \"std\": 28.09913037471996,\n        \"min\": 2.9,\n        \"max\": 100.0,\n        \"num_unique_values\": 357,\n        \"samples\": [\n          84.6,\n          33.8\n        ],\n        \"semantic_type\": \"\",\n        \"description\": \"\"\n      }\n    },\n    {\n      \"column\": \"DIS\",\n      \"properties\": {\n        \"dtype\": \"number\",\n        \"std\": 2.09863136242663,\n        \"min\": 1.1296,\n        \"max\": 12.1265,\n        \"num_unique_values\": 416,\n        \"samples\": [\n          2.847,\n          1.4261\n        ],\n        \"semantic_type\": \"\",\n        \"description\": \"\"\n      }\n    },\n    {\n      \"column\": \"RAD\",\n      \"properties\": {\n        \"dtype\": \"number\",\n        \"std\": 8,\n        \"min\": 1,\n        \"max\": 24,\n        \"num_unique_values\": 9,\n        \"samples\": [\n          7,\n          2\n        ],\n        \"semantic_type\": \"\",\n        \"description\": \"\"\n      }\n    },\n    {\n      \"column\": \"TAX\",\n      \"properties\": {\n        \"dtype\": \"number\",\n        \"std\": 167,\n        \"min\": 187,\n        \"max\": 711,\n        \"num_unique_values\": 67,\n        \"samples\": [\n          300,\n          345\n        ],\n        \"semantic_type\": \"\",\n        \"description\": \"\"\n      }\n    },\n    {\n      \"column\": \"PTRATIO\",\n      \"properties\": {\n        \"dtype\": \"number\",\n        \"std\": 2.200347566127839,\n        \"min\": 12.6,\n        \"max\": 23.0,\n        \"num_unique_values\": 47,\n        \"samples\": [\n          12.6,\n          19.6\n        ],\n        \"semantic_type\": \"\",\n        \"description\": \"\"\n      }\n    },\n    {\n      \"column\": \"B\",\n      \"properties\": {\n        \"dtype\": \"number\",\n        \"std\": 90.88267879563416,\n        \"min\": 0.32,\n        \"max\": 396.9,\n        \"num_unique_values\": 360,\n        \"samples\": [\n          396.3,\n          395.11\n        ],\n        \"semantic_type\": \"\",\n        \"description\": \"\"\n      }\n    },\n    {\n      \"column\": \"LSTAT\",\n      \"properties\": {\n        \"dtype\": \"number\",\n        \"std\": 7.797415936527355,\n        \"min\": 1.73,\n        \"max\": 76.0,\n        \"num_unique_values\": 460,\n        \"samples\": [\n          27.26,\n          22.6\n        ],\n        \"semantic_type\": \"\",\n        \"description\": \"\"\n      }\n    },\n    {\n      \"column\": \"MEDV\",\n      \"properties\": {\n        \"dtype\": \"number\",\n        \"std\": 9.484262294196043,\n        \"min\": 5.0,\n        \"max\": 67.0,\n        \"num_unique_values\": 231,\n        \"samples\": [\n          8.7,\n          22.5\n        ],\n        \"semantic_type\": \"\",\n        \"description\": \"\"\n      }\n    }\n  ]\n}"
            }
          },
          "metadata": {},
          "execution_count": 4
        }
      ]
    },
    {
      "cell_type": "markdown",
      "source": [
        "#### Exploration of Dataset\n"
      ],
      "metadata": {
        "id": "EacVojtyH8nl"
      }
    },
    {
      "cell_type": "code",
      "source": [
        "df.head(10)\n",
        "df.tail(10)\n",
        "df.columns\n",
        "df.shape\n",
        "df.info()\n",
        "df.describe()\n",
        "df.isnull().sum()\n",
        "df.duplicated().sum()\n",
        "df.corr()\n",
        "df.skew()\n",
        "df.kurt()\n",
        "df.value_counts()\n",
        "df.dtypes\n",
        "df.nunique()"
      ],
      "metadata": {
        "colab": {
          "base_uri": "https://localhost:8080/"
        },
        "id": "yuObkt5IzukT",
        "outputId": "47730a08-9461-4bc2-fd39-b1c4ffdd5d31"
      },
      "execution_count": 21,
      "outputs": [
        {
          "output_type": "execute_result",
          "data": {
            "text/plain": [
              "CRIM       0\n",
              "INDUS      0\n",
              "NOX        0\n",
              "RM         5\n",
              "AGE        0\n",
              "DIS        0\n",
              "RAD        0\n",
              "TAX        0\n",
              "PTRATIO    0\n",
              "LSTAT      0\n",
              "MEDV       0\n",
              "dtype: int64"
            ]
          },
          "metadata": {},
          "execution_count": 21
        }
      ]
    },
    {
      "cell_type": "markdown",
      "source": [
        "### Remove unuseful columns"
      ],
      "metadata": {
        "id": "BvekW41xagiR"
      }
    },
    {
      "cell_type": "code",
      "source": [
        "df=df.drop(['ZN','B','CHAS'], axis=1)\n",
        "df"
      ],
      "metadata": {
        "colab": {
          "base_uri": "https://localhost:8080/",
          "height": 423
        },
        "id": "fAsuJM64aetW",
        "outputId": "7dc620be-f753-4b8b-dcc2-6cb46f9884e6"
      },
      "execution_count": 19,
      "outputs": [
        {
          "output_type": "execute_result",
          "data": {
            "text/plain": [
              "        CRIM  INDUS    NOX     RM   AGE     DIS  RAD  TAX  PTRATIO  LSTAT  \\\n",
              "0    0.00632   2.31  0.538  6.575  65.2  4.0900    1  296     15.3   4.98   \n",
              "1    0.02731   7.07  0.469  6.421  78.9  4.9671    2  242     17.8   9.14   \n",
              "2    0.02729   7.07  0.469  7.185  61.1  4.9671    2  242     17.8   4.03   \n",
              "3    0.03237   2.18  0.458  6.998  45.8  6.0622    3  222     18.7   2.94   \n",
              "4    0.06905   2.18  0.458  7.147  54.2  6.0622    3  222     18.7   5.33   \n",
              "..       ...    ...    ...    ...   ...     ...  ...  ...      ...    ...   \n",
              "506  0.98765  12.50  0.561  6.980  89.0  2.0980    3  320     23.0  12.00   \n",
              "507  0.23456  12.50  0.561  6.980  76.0  2.6540    3  320     23.0  25.00   \n",
              "508  0.44433  12.50  0.561  6.123  98.0  2.9870    3  320     23.0  21.00   \n",
              "509  0.77763  12.70  0.561  6.222  34.0  2.5430    3  329     23.0  76.00   \n",
              "510  0.65432  12.80  0.561  6.760  67.0  2.9870    3  345     23.0  45.00   \n",
              "\n",
              "     MEDV  \n",
              "0    24.0  \n",
              "1    21.6  \n",
              "2    34.7  \n",
              "3    33.4  \n",
              "4    36.2  \n",
              "..    ...  \n",
              "506  12.0  \n",
              "507  32.0  \n",
              "508  54.0  \n",
              "509  67.0  \n",
              "510  24.0  \n",
              "\n",
              "[511 rows x 11 columns]"
            ],
            "text/html": [
              "\n",
              "  <div id=\"df-78fc4654-9258-4931-8741-635103fe1eff\" class=\"colab-df-container\">\n",
              "    <div>\n",
              "<style scoped>\n",
              "    .dataframe tbody tr th:only-of-type {\n",
              "        vertical-align: middle;\n",
              "    }\n",
              "\n",
              "    .dataframe tbody tr th {\n",
              "        vertical-align: top;\n",
              "    }\n",
              "\n",
              "    .dataframe thead th {\n",
              "        text-align: right;\n",
              "    }\n",
              "</style>\n",
              "<table border=\"1\" class=\"dataframe\">\n",
              "  <thead>\n",
              "    <tr style=\"text-align: right;\">\n",
              "      <th></th>\n",
              "      <th>CRIM</th>\n",
              "      <th>INDUS</th>\n",
              "      <th>NOX</th>\n",
              "      <th>RM</th>\n",
              "      <th>AGE</th>\n",
              "      <th>DIS</th>\n",
              "      <th>RAD</th>\n",
              "      <th>TAX</th>\n",
              "      <th>PTRATIO</th>\n",
              "      <th>LSTAT</th>\n",
              "      <th>MEDV</th>\n",
              "    </tr>\n",
              "  </thead>\n",
              "  <tbody>\n",
              "    <tr>\n",
              "      <th>0</th>\n",
              "      <td>0.00632</td>\n",
              "      <td>2.31</td>\n",
              "      <td>0.538</td>\n",
              "      <td>6.575</td>\n",
              "      <td>65.2</td>\n",
              "      <td>4.0900</td>\n",
              "      <td>1</td>\n",
              "      <td>296</td>\n",
              "      <td>15.3</td>\n",
              "      <td>4.98</td>\n",
              "      <td>24.0</td>\n",
              "    </tr>\n",
              "    <tr>\n",
              "      <th>1</th>\n",
              "      <td>0.02731</td>\n",
              "      <td>7.07</td>\n",
              "      <td>0.469</td>\n",
              "      <td>6.421</td>\n",
              "      <td>78.9</td>\n",
              "      <td>4.9671</td>\n",
              "      <td>2</td>\n",
              "      <td>242</td>\n",
              "      <td>17.8</td>\n",
              "      <td>9.14</td>\n",
              "      <td>21.6</td>\n",
              "    </tr>\n",
              "    <tr>\n",
              "      <th>2</th>\n",
              "      <td>0.02729</td>\n",
              "      <td>7.07</td>\n",
              "      <td>0.469</td>\n",
              "      <td>7.185</td>\n",
              "      <td>61.1</td>\n",
              "      <td>4.9671</td>\n",
              "      <td>2</td>\n",
              "      <td>242</td>\n",
              "      <td>17.8</td>\n",
              "      <td>4.03</td>\n",
              "      <td>34.7</td>\n",
              "    </tr>\n",
              "    <tr>\n",
              "      <th>3</th>\n",
              "      <td>0.03237</td>\n",
              "      <td>2.18</td>\n",
              "      <td>0.458</td>\n",
              "      <td>6.998</td>\n",
              "      <td>45.8</td>\n",
              "      <td>6.0622</td>\n",
              "      <td>3</td>\n",
              "      <td>222</td>\n",
              "      <td>18.7</td>\n",
              "      <td>2.94</td>\n",
              "      <td>33.4</td>\n",
              "    </tr>\n",
              "    <tr>\n",
              "      <th>4</th>\n",
              "      <td>0.06905</td>\n",
              "      <td>2.18</td>\n",
              "      <td>0.458</td>\n",
              "      <td>7.147</td>\n",
              "      <td>54.2</td>\n",
              "      <td>6.0622</td>\n",
              "      <td>3</td>\n",
              "      <td>222</td>\n",
              "      <td>18.7</td>\n",
              "      <td>5.33</td>\n",
              "      <td>36.2</td>\n",
              "    </tr>\n",
              "    <tr>\n",
              "      <th>...</th>\n",
              "      <td>...</td>\n",
              "      <td>...</td>\n",
              "      <td>...</td>\n",
              "      <td>...</td>\n",
              "      <td>...</td>\n",
              "      <td>...</td>\n",
              "      <td>...</td>\n",
              "      <td>...</td>\n",
              "      <td>...</td>\n",
              "      <td>...</td>\n",
              "      <td>...</td>\n",
              "    </tr>\n",
              "    <tr>\n",
              "      <th>506</th>\n",
              "      <td>0.98765</td>\n",
              "      <td>12.50</td>\n",
              "      <td>0.561</td>\n",
              "      <td>6.980</td>\n",
              "      <td>89.0</td>\n",
              "      <td>2.0980</td>\n",
              "      <td>3</td>\n",
              "      <td>320</td>\n",
              "      <td>23.0</td>\n",
              "      <td>12.00</td>\n",
              "      <td>12.0</td>\n",
              "    </tr>\n",
              "    <tr>\n",
              "      <th>507</th>\n",
              "      <td>0.23456</td>\n",
              "      <td>12.50</td>\n",
              "      <td>0.561</td>\n",
              "      <td>6.980</td>\n",
              "      <td>76.0</td>\n",
              "      <td>2.6540</td>\n",
              "      <td>3</td>\n",
              "      <td>320</td>\n",
              "      <td>23.0</td>\n",
              "      <td>25.00</td>\n",
              "      <td>32.0</td>\n",
              "    </tr>\n",
              "    <tr>\n",
              "      <th>508</th>\n",
              "      <td>0.44433</td>\n",
              "      <td>12.50</td>\n",
              "      <td>0.561</td>\n",
              "      <td>6.123</td>\n",
              "      <td>98.0</td>\n",
              "      <td>2.9870</td>\n",
              "      <td>3</td>\n",
              "      <td>320</td>\n",
              "      <td>23.0</td>\n",
              "      <td>21.00</td>\n",
              "      <td>54.0</td>\n",
              "    </tr>\n",
              "    <tr>\n",
              "      <th>509</th>\n",
              "      <td>0.77763</td>\n",
              "      <td>12.70</td>\n",
              "      <td>0.561</td>\n",
              "      <td>6.222</td>\n",
              "      <td>34.0</td>\n",
              "      <td>2.5430</td>\n",
              "      <td>3</td>\n",
              "      <td>329</td>\n",
              "      <td>23.0</td>\n",
              "      <td>76.00</td>\n",
              "      <td>67.0</td>\n",
              "    </tr>\n",
              "    <tr>\n",
              "      <th>510</th>\n",
              "      <td>0.65432</td>\n",
              "      <td>12.80</td>\n",
              "      <td>0.561</td>\n",
              "      <td>6.760</td>\n",
              "      <td>67.0</td>\n",
              "      <td>2.9870</td>\n",
              "      <td>3</td>\n",
              "      <td>345</td>\n",
              "      <td>23.0</td>\n",
              "      <td>45.00</td>\n",
              "      <td>24.0</td>\n",
              "    </tr>\n",
              "  </tbody>\n",
              "</table>\n",
              "<p>511 rows × 11 columns</p>\n",
              "</div>\n",
              "    <div class=\"colab-df-buttons\">\n",
              "\n",
              "  <div class=\"colab-df-container\">\n",
              "    <button class=\"colab-df-convert\" onclick=\"convertToInteractive('df-78fc4654-9258-4931-8741-635103fe1eff')\"\n",
              "            title=\"Convert this dataframe to an interactive table.\"\n",
              "            style=\"display:none;\">\n",
              "\n",
              "  <svg xmlns=\"http://www.w3.org/2000/svg\" height=\"24px\" viewBox=\"0 -960 960 960\">\n",
              "    <path d=\"M120-120v-720h720v720H120Zm60-500h600v-160H180v160Zm220 220h160v-160H400v160Zm0 220h160v-160H400v160ZM180-400h160v-160H180v160Zm440 0h160v-160H620v160ZM180-180h160v-160H180v160Zm440 0h160v-160H620v160Z\"/>\n",
              "  </svg>\n",
              "    </button>\n",
              "\n",
              "  <style>\n",
              "    .colab-df-container {\n",
              "      display:flex;\n",
              "      gap: 12px;\n",
              "    }\n",
              "\n",
              "    .colab-df-convert {\n",
              "      background-color: #E8F0FE;\n",
              "      border: none;\n",
              "      border-radius: 50%;\n",
              "      cursor: pointer;\n",
              "      display: none;\n",
              "      fill: #1967D2;\n",
              "      height: 32px;\n",
              "      padding: 0 0 0 0;\n",
              "      width: 32px;\n",
              "    }\n",
              "\n",
              "    .colab-df-convert:hover {\n",
              "      background-color: #E2EBFA;\n",
              "      box-shadow: 0px 1px 2px rgba(60, 64, 67, 0.3), 0px 1px 3px 1px rgba(60, 64, 67, 0.15);\n",
              "      fill: #174EA6;\n",
              "    }\n",
              "\n",
              "    .colab-df-buttons div {\n",
              "      margin-bottom: 4px;\n",
              "    }\n",
              "\n",
              "    [theme=dark] .colab-df-convert {\n",
              "      background-color: #3B4455;\n",
              "      fill: #D2E3FC;\n",
              "    }\n",
              "\n",
              "    [theme=dark] .colab-df-convert:hover {\n",
              "      background-color: #434B5C;\n",
              "      box-shadow: 0px 1px 3px 1px rgba(0, 0, 0, 0.15);\n",
              "      filter: drop-shadow(0px 1px 2px rgba(0, 0, 0, 0.3));\n",
              "      fill: #FFFFFF;\n",
              "    }\n",
              "  </style>\n",
              "\n",
              "    <script>\n",
              "      const buttonEl =\n",
              "        document.querySelector('#df-78fc4654-9258-4931-8741-635103fe1eff button.colab-df-convert');\n",
              "      buttonEl.style.display =\n",
              "        google.colab.kernel.accessAllowed ? 'block' : 'none';\n",
              "\n",
              "      async function convertToInteractive(key) {\n",
              "        const element = document.querySelector('#df-78fc4654-9258-4931-8741-635103fe1eff');\n",
              "        const dataTable =\n",
              "          await google.colab.kernel.invokeFunction('convertToInteractive',\n",
              "                                                    [key], {});\n",
              "        if (!dataTable) return;\n",
              "\n",
              "        const docLinkHtml = 'Like what you see? Visit the ' +\n",
              "          '<a target=\"_blank\" href=https://colab.research.google.com/notebooks/data_table.ipynb>data table notebook</a>'\n",
              "          + ' to learn more about interactive tables.';\n",
              "        element.innerHTML = '';\n",
              "        dataTable['output_type'] = 'display_data';\n",
              "        await google.colab.output.renderOutput(dataTable, element);\n",
              "        const docLink = document.createElement('div');\n",
              "        docLink.innerHTML = docLinkHtml;\n",
              "        element.appendChild(docLink);\n",
              "      }\n",
              "    </script>\n",
              "  </div>\n",
              "\n",
              "\n",
              "<div id=\"df-bfe082d5-9403-4804-afd9-dcc9eaf544db\">\n",
              "  <button class=\"colab-df-quickchart\" onclick=\"quickchart('df-bfe082d5-9403-4804-afd9-dcc9eaf544db')\"\n",
              "            title=\"Suggest charts\"\n",
              "            style=\"display:none;\">\n",
              "\n",
              "<svg xmlns=\"http://www.w3.org/2000/svg\" height=\"24px\"viewBox=\"0 0 24 24\"\n",
              "     width=\"24px\">\n",
              "    <g>\n",
              "        <path d=\"M19 3H5c-1.1 0-2 .9-2 2v14c0 1.1.9 2 2 2h14c1.1 0 2-.9 2-2V5c0-1.1-.9-2-2-2zM9 17H7v-7h2v7zm4 0h-2V7h2v10zm4 0h-2v-4h2v4z\"/>\n",
              "    </g>\n",
              "</svg>\n",
              "  </button>\n",
              "\n",
              "<style>\n",
              "  .colab-df-quickchart {\n",
              "      --bg-color: #E8F0FE;\n",
              "      --fill-color: #1967D2;\n",
              "      --hover-bg-color: #E2EBFA;\n",
              "      --hover-fill-color: #174EA6;\n",
              "      --disabled-fill-color: #AAA;\n",
              "      --disabled-bg-color: #DDD;\n",
              "  }\n",
              "\n",
              "  [theme=dark] .colab-df-quickchart {\n",
              "      --bg-color: #3B4455;\n",
              "      --fill-color: #D2E3FC;\n",
              "      --hover-bg-color: #434B5C;\n",
              "      --hover-fill-color: #FFFFFF;\n",
              "      --disabled-bg-color: #3B4455;\n",
              "      --disabled-fill-color: #666;\n",
              "  }\n",
              "\n",
              "  .colab-df-quickchart {\n",
              "    background-color: var(--bg-color);\n",
              "    border: none;\n",
              "    border-radius: 50%;\n",
              "    cursor: pointer;\n",
              "    display: none;\n",
              "    fill: var(--fill-color);\n",
              "    height: 32px;\n",
              "    padding: 0;\n",
              "    width: 32px;\n",
              "  }\n",
              "\n",
              "  .colab-df-quickchart:hover {\n",
              "    background-color: var(--hover-bg-color);\n",
              "    box-shadow: 0 1px 2px rgba(60, 64, 67, 0.3), 0 1px 3px 1px rgba(60, 64, 67, 0.15);\n",
              "    fill: var(--button-hover-fill-color);\n",
              "  }\n",
              "\n",
              "  .colab-df-quickchart-complete:disabled,\n",
              "  .colab-df-quickchart-complete:disabled:hover {\n",
              "    background-color: var(--disabled-bg-color);\n",
              "    fill: var(--disabled-fill-color);\n",
              "    box-shadow: none;\n",
              "  }\n",
              "\n",
              "  .colab-df-spinner {\n",
              "    border: 2px solid var(--fill-color);\n",
              "    border-color: transparent;\n",
              "    border-bottom-color: var(--fill-color);\n",
              "    animation:\n",
              "      spin 1s steps(1) infinite;\n",
              "  }\n",
              "\n",
              "  @keyframes spin {\n",
              "    0% {\n",
              "      border-color: transparent;\n",
              "      border-bottom-color: var(--fill-color);\n",
              "      border-left-color: var(--fill-color);\n",
              "    }\n",
              "    20% {\n",
              "      border-color: transparent;\n",
              "      border-left-color: var(--fill-color);\n",
              "      border-top-color: var(--fill-color);\n",
              "    }\n",
              "    30% {\n",
              "      border-color: transparent;\n",
              "      border-left-color: var(--fill-color);\n",
              "      border-top-color: var(--fill-color);\n",
              "      border-right-color: var(--fill-color);\n",
              "    }\n",
              "    40% {\n",
              "      border-color: transparent;\n",
              "      border-right-color: var(--fill-color);\n",
              "      border-top-color: var(--fill-color);\n",
              "    }\n",
              "    60% {\n",
              "      border-color: transparent;\n",
              "      border-right-color: var(--fill-color);\n",
              "    }\n",
              "    80% {\n",
              "      border-color: transparent;\n",
              "      border-right-color: var(--fill-color);\n",
              "      border-bottom-color: var(--fill-color);\n",
              "    }\n",
              "    90% {\n",
              "      border-color: transparent;\n",
              "      border-bottom-color: var(--fill-color);\n",
              "    }\n",
              "  }\n",
              "</style>\n",
              "\n",
              "  <script>\n",
              "    async function quickchart(key) {\n",
              "      const quickchartButtonEl =\n",
              "        document.querySelector('#' + key + ' button');\n",
              "      quickchartButtonEl.disabled = true;  // To prevent multiple clicks.\n",
              "      quickchartButtonEl.classList.add('colab-df-spinner');\n",
              "      try {\n",
              "        const charts = await google.colab.kernel.invokeFunction(\n",
              "            'suggestCharts', [key], {});\n",
              "      } catch (error) {\n",
              "        console.error('Error during call to suggestCharts:', error);\n",
              "      }\n",
              "      quickchartButtonEl.classList.remove('colab-df-spinner');\n",
              "      quickchartButtonEl.classList.add('colab-df-quickchart-complete');\n",
              "    }\n",
              "    (() => {\n",
              "      let quickchartButtonEl =\n",
              "        document.querySelector('#df-bfe082d5-9403-4804-afd9-dcc9eaf544db button');\n",
              "      quickchartButtonEl.style.display =\n",
              "        google.colab.kernel.accessAllowed ? 'block' : 'none';\n",
              "    })();\n",
              "  </script>\n",
              "</div>\n",
              "\n",
              "  <div id=\"id_3f1d6d87-f712-489d-bc3c-f46a8282fbd9\">\n",
              "    <style>\n",
              "      .colab-df-generate {\n",
              "        background-color: #E8F0FE;\n",
              "        border: none;\n",
              "        border-radius: 50%;\n",
              "        cursor: pointer;\n",
              "        display: none;\n",
              "        fill: #1967D2;\n",
              "        height: 32px;\n",
              "        padding: 0 0 0 0;\n",
              "        width: 32px;\n",
              "      }\n",
              "\n",
              "      .colab-df-generate:hover {\n",
              "        background-color: #E2EBFA;\n",
              "        box-shadow: 0px 1px 2px rgba(60, 64, 67, 0.3), 0px 1px 3px 1px rgba(60, 64, 67, 0.15);\n",
              "        fill: #174EA6;\n",
              "      }\n",
              "\n",
              "      [theme=dark] .colab-df-generate {\n",
              "        background-color: #3B4455;\n",
              "        fill: #D2E3FC;\n",
              "      }\n",
              "\n",
              "      [theme=dark] .colab-df-generate:hover {\n",
              "        background-color: #434B5C;\n",
              "        box-shadow: 0px 1px 3px 1px rgba(0, 0, 0, 0.15);\n",
              "        filter: drop-shadow(0px 1px 2px rgba(0, 0, 0, 0.3));\n",
              "        fill: #FFFFFF;\n",
              "      }\n",
              "    </style>\n",
              "    <button class=\"colab-df-generate\" onclick=\"generateWithVariable('df')\"\n",
              "            title=\"Generate code using this dataframe.\"\n",
              "            style=\"display:none;\">\n",
              "\n",
              "  <svg xmlns=\"http://www.w3.org/2000/svg\" height=\"24px\"viewBox=\"0 0 24 24\"\n",
              "       width=\"24px\">\n",
              "    <path d=\"M7,19H8.4L18.45,9,17,7.55,7,17.6ZM5,21V16.75L18.45,3.32a2,2,0,0,1,2.83,0l1.4,1.43a1.91,1.91,0,0,1,.58,1.4,1.91,1.91,0,0,1-.58,1.4L9.25,21ZM18.45,9,17,7.55Zm-12,3A5.31,5.31,0,0,0,4.9,8.1,5.31,5.31,0,0,0,1,6.5,5.31,5.31,0,0,0,4.9,4.9,5.31,5.31,0,0,0,6.5,1,5.31,5.31,0,0,0,8.1,4.9,5.31,5.31,0,0,0,12,6.5,5.46,5.46,0,0,0,6.5,12Z\"/>\n",
              "  </svg>\n",
              "    </button>\n",
              "    <script>\n",
              "      (() => {\n",
              "      const buttonEl =\n",
              "        document.querySelector('#id_3f1d6d87-f712-489d-bc3c-f46a8282fbd9 button.colab-df-generate');\n",
              "      buttonEl.style.display =\n",
              "        google.colab.kernel.accessAllowed ? 'block' : 'none';\n",
              "\n",
              "      buttonEl.onclick = () => {\n",
              "        google.colab.notebook.generateWithVariable('df');\n",
              "      }\n",
              "      })();\n",
              "    </script>\n",
              "  </div>\n",
              "\n",
              "    </div>\n",
              "  </div>\n"
            ],
            "application/vnd.google.colaboratory.intrinsic+json": {
              "type": "dataframe",
              "variable_name": "df",
              "summary": "{\n  \"name\": \"df\",\n  \"rows\": 511,\n  \"fields\": [\n    {\n      \"column\": \"CRIM\",\n      \"properties\": {\n        \"dtype\": \"number\",\n        \"std\": 8.564433333509855,\n        \"min\": 0.00632,\n        \"max\": 88.9762,\n        \"num_unique_values\": 509,\n        \"samples\": [\n          0.08387,\n          0.24522,\n          0.15086\n        ],\n        \"semantic_type\": \"\",\n        \"description\": \"\"\n      }\n    },\n    {\n      \"column\": \"INDUS\",\n      \"properties\": {\n        \"dtype\": \"number\",\n        \"std\": 6.828174588309387,\n        \"min\": 0.46,\n        \"max\": 27.74,\n        \"num_unique_values\": 79,\n        \"samples\": [\n          2.46,\n          2.31,\n          15.04\n        ],\n        \"semantic_type\": \"\",\n        \"description\": \"\"\n      }\n    },\n    {\n      \"column\": \"NOX\",\n      \"properties\": {\n        \"dtype\": \"number\",\n        \"std\": 0.11530992214681604,\n        \"min\": 0.385,\n        \"max\": 0.871,\n        \"num_unique_values\": 82,\n        \"samples\": [\n          0.401,\n          0.538,\n          0.52\n        ],\n        \"semantic_type\": \"\",\n        \"description\": \"\"\n      }\n    },\n    {\n      \"column\": \"RM\",\n      \"properties\": {\n        \"dtype\": \"number\",\n        \"std\": 0.7038016463619768,\n        \"min\": 3.561,\n        \"max\": 8.78,\n        \"num_unique_values\": 444,\n        \"samples\": [\n          3.863,\n          5.012,\n          6.232\n        ],\n        \"semantic_type\": \"\",\n        \"description\": \"\"\n      }\n    },\n    {\n      \"column\": \"AGE\",\n      \"properties\": {\n        \"dtype\": \"number\",\n        \"std\": 28.09913037471996,\n        \"min\": 2.9,\n        \"max\": 100.0,\n        \"num_unique_values\": 357,\n        \"samples\": [\n          84.6,\n          33.8,\n          44.4\n        ],\n        \"semantic_type\": \"\",\n        \"description\": \"\"\n      }\n    },\n    {\n      \"column\": \"DIS\",\n      \"properties\": {\n        \"dtype\": \"number\",\n        \"std\": 2.09863136242663,\n        \"min\": 1.1296,\n        \"max\": 12.1265,\n        \"num_unique_values\": 416,\n        \"samples\": [\n          2.847,\n          1.4261,\n          2.3889\n        ],\n        \"semantic_type\": \"\",\n        \"description\": \"\"\n      }\n    },\n    {\n      \"column\": \"RAD\",\n      \"properties\": {\n        \"dtype\": \"number\",\n        \"std\": 8,\n        \"min\": 1,\n        \"max\": 24,\n        \"num_unique_values\": 9,\n        \"samples\": [\n          7,\n          2,\n          8\n        ],\n        \"semantic_type\": \"\",\n        \"description\": \"\"\n      }\n    },\n    {\n      \"column\": \"TAX\",\n      \"properties\": {\n        \"dtype\": \"number\",\n        \"std\": 167,\n        \"min\": 187,\n        \"max\": 711,\n        \"num_unique_values\": 67,\n        \"samples\": [\n          300,\n          345,\n          307\n        ],\n        \"semantic_type\": \"\",\n        \"description\": \"\"\n      }\n    },\n    {\n      \"column\": \"PTRATIO\",\n      \"properties\": {\n        \"dtype\": \"number\",\n        \"std\": 2.200347566127839,\n        \"min\": 12.6,\n        \"max\": 23.0,\n        \"num_unique_values\": 47,\n        \"samples\": [\n          12.6,\n          19.6,\n          14.4\n        ],\n        \"semantic_type\": \"\",\n        \"description\": \"\"\n      }\n    },\n    {\n      \"column\": \"LSTAT\",\n      \"properties\": {\n        \"dtype\": \"number\",\n        \"std\": 7.797415936527355,\n        \"min\": 1.73,\n        \"max\": 76.0,\n        \"num_unique_values\": 460,\n        \"samples\": [\n          27.26,\n          22.6,\n          10.97\n        ],\n        \"semantic_type\": \"\",\n        \"description\": \"\"\n      }\n    },\n    {\n      \"column\": \"MEDV\",\n      \"properties\": {\n        \"dtype\": \"number\",\n        \"std\": 9.484262294196043,\n        \"min\": 5.0,\n        \"max\": 67.0,\n        \"num_unique_values\": 231,\n        \"samples\": [\n          8.7,\n          22.5,\n          18.9\n        ],\n        \"semantic_type\": \"\",\n        \"description\": \"\"\n      }\n    }\n  ]\n}"
            }
          },
          "metadata": {},
          "execution_count": 19
        }
      ]
    },
    {
      "cell_type": "markdown",
      "source": [
        "### Handling Missing Values\n"
      ],
      "metadata": {
        "id": "jq-kGKz-bfvy"
      }
    },
    {
      "cell_type": "code",
      "source": [
        "from sklearn.impute import SimpleImputer\n",
        "imputer=SimpleImputer(strategy='mean')\n",
        "df=pd.DataFrame(imputer.fit_transform(df),columns=df.columns)\n",
        "df.isnull().sum()"
      ],
      "metadata": {
        "colab": {
          "base_uri": "https://localhost:8080/"
        },
        "id": "CioOXowrbRbz",
        "outputId": "7e5ea31e-58a0-4f50-c3ef-13290dedb63c"
      },
      "execution_count": 25,
      "outputs": [
        {
          "output_type": "execute_result",
          "data": {
            "text/plain": [
              "CRIM       0\n",
              "INDUS      0\n",
              "NOX        0\n",
              "RM         0\n",
              "AGE        0\n",
              "DIS        0\n",
              "RAD        0\n",
              "TAX        0\n",
              "PTRATIO    0\n",
              "LSTAT      0\n",
              "MEDV       0\n",
              "dtype: int64"
            ]
          },
          "metadata": {},
          "execution_count": 25
        }
      ]
    },
    {
      "cell_type": "markdown",
      "source": [
        "### Recognizing Outliers Data"
      ],
      "metadata": {
        "id": "hGMlr93ZdNfV"
      }
    },
    {
      "cell_type": "code",
      "source": [
        "def find_outliers(column):\n",
        "    Q1 = column.quantile(0.25)\n",
        "    Q3 = column.quantile(0.75)\n",
        "    IQR = Q3 - Q1\n",
        "    Lower_bound = Q1 - 1.5 * IQR\n",
        "    Upper_bound = Q3 + 1.5 * IQR\n",
        "    return column[(column < Lower_bound) | (column > Upper_bound)]\n",
        "\n",
        "\n",
        "for column in df.columns:\n",
        "    outliers = find_outliers(df[column])\n",
        "    if outliers.size > 0:\n",
        "        print(f\"OUTLIERS - {column}:\\n{outliers}\\n\")"
      ],
      "metadata": {
        "colab": {
          "base_uri": "https://localhost:8080/"
        },
        "id": "D05v5usHcfF1",
        "outputId": "f436f21b-2359-41e6-ccf9-9c2daa2fef05"
      },
      "execution_count": 30,
      "outputs": [
        {
          "output_type": "stream",
          "name": "stdout",
          "text": [
            "OUTLIERS - CRIM:\n",
            "356     8.98296\n",
            "367    13.52220\n",
            "371     9.23230\n",
            "373    11.10810\n",
            "374    18.49820\n",
            "         ...   \n",
            "468    15.57570\n",
            "469    13.07510\n",
            "477    15.02340\n",
            "478    10.23300\n",
            "479    14.33370\n",
            "Name: CRIM, Length: 67, dtype: float64\n",
            "\n",
            "OUTLIERS - RM:\n",
            "97     8.069\n",
            "98     7.820\n",
            "162    7.802\n",
            "163    8.375\n",
            "166    7.929\n",
            "180    7.765\n",
            "186    7.831\n",
            "195    7.875\n",
            "203    7.853\n",
            "204    8.034\n",
            "224    8.266\n",
            "225    8.725\n",
            "226    8.040\n",
            "232    8.337\n",
            "233    8.247\n",
            "253    8.259\n",
            "257    8.704\n",
            "262    8.398\n",
            "267    8.297\n",
            "280    7.820\n",
            "283    7.923\n",
            "364    8.780\n",
            "365    3.561\n",
            "367    3.863\n",
            "374    4.138\n",
            "384    4.368\n",
            "386    4.652\n",
            "406    4.138\n",
            "412    4.628\n",
            "414    4.519\n",
            "Name: RM, dtype: float64\n",
            "\n",
            "OUTLIERS - DIS:\n",
            "351    10.7103\n",
            "352    10.7103\n",
            "353    12.1265\n",
            "354    10.5857\n",
            "355    10.5857\n",
            "Name: DIS, dtype: float64\n",
            "\n",
            "OUTLIERS - PTRATIO:\n",
            "196    12.6\n",
            "197    12.6\n",
            "198    12.6\n",
            "257    13.0\n",
            "258    13.0\n",
            "259    13.0\n",
            "260    13.0\n",
            "261    13.0\n",
            "262    13.0\n",
            "263    13.0\n",
            "264    13.0\n",
            "265    13.0\n",
            "266    13.0\n",
            "267    13.0\n",
            "268    13.0\n",
            "Name: PTRATIO, dtype: float64\n",
            "\n",
            "OUTLIERS - LSTAT:\n",
            "141    34.41\n",
            "373    34.77\n",
            "374    37.97\n",
            "412    34.37\n",
            "414    36.98\n",
            "438    34.02\n",
            "509    76.00\n",
            "510    45.00\n",
            "Name: LSTAT, dtype: float64\n",
            "\n",
            "OUTLIERS - MEDV:\n",
            "97     38.7\n",
            "98     43.8\n",
            "157    41.3\n",
            "161    50.0\n",
            "162    50.0\n",
            "163    50.0\n",
            "166    50.0\n",
            "179    37.2\n",
            "180    39.8\n",
            "182    37.9\n",
            "186    50.0\n",
            "190    37.0\n",
            "195    50.0\n",
            "202    42.3\n",
            "203    48.5\n",
            "204    50.0\n",
            "224    44.8\n",
            "225    50.0\n",
            "226    37.6\n",
            "228    46.7\n",
            "232    41.7\n",
            "233    48.3\n",
            "253    42.8\n",
            "256    44.0\n",
            "257    50.0\n",
            "261    43.1\n",
            "262    48.8\n",
            "267    50.0\n",
            "268    43.5\n",
            "280    45.4\n",
            "282    46.0\n",
            "283    50.0\n",
            "291    37.3\n",
            "368    50.0\n",
            "369    50.0\n",
            "370    50.0\n",
            "371    50.0\n",
            "372    50.0\n",
            "398     5.0\n",
            "405     5.0\n",
            "508    54.0\n",
            "509    67.0\n",
            "Name: MEDV, dtype: float64\n",
            "\n"
          ]
        }
      ]
    },
    {
      "cell_type": "markdown",
      "source": [
        "### Show Boxplot"
      ],
      "metadata": {
        "id": "4zkIe87Iiomb"
      }
    },
    {
      "cell_type": "code",
      "source": [
        "def show_boxplot(column):\n",
        "    plt.figure(figsize=(10,6))\n",
        "    sns.boxplot(x=column)\n",
        "    plt.show()\n",
        "\n",
        "for column in df.columns:\n",
        "    show_boxplot(df[column])"
      ],
      "metadata": {
        "colab": {
          "base_uri": "https://localhost:8080/",
          "height": 1000
        },
        "id": "MM0ibzvkfiNN",
        "outputId": "04db8341-c6e5-4a91-8c11-3c49cc0fb340"
      },
      "execution_count": 40,
      "outputs": [
        {
          "output_type": "display_data",
          "data": {
            "text/plain": [
              "<Figure size 1000x600 with 1 Axes>"
            ],
            "image/png": "[encoded data removed]"
          },
          "metadata": {}
        },
        {
          "output_type": "display_data",
          "data": {
            "text/plain": [
              "<Figure size 1000x600 with 1 Axes>"
            ],
            "image/png": "[encoded data removed]"
          },
          "metadata": {}
        },
        {
          "output_type": "display_data",
          "data": {
            "text/plain": [
              "<Figure size 1000x600 with 1 Axes>"
            ],
            "image/png": "[encoded data removed]"
          },
          "metadata": {}
        },
        {
          "output_type": "display_data",
          "data": {
            "text/plain": [
              "<Figure size 1000x600 with 1 Axes>"
            ],
            "image/png": "[encoded data removed]"
          },
          "metadata": {}
        },
        {
          "output_type": "display_data",
          "data": {
            "text/plain": [
              "<Figure size 1000x600 with 1 Axes>"
            ],
            "image/png": "[encoded data removed]"
          },
          "metadata": {}
        },
        {
          "output_type": "display_data",
          "data": {
            "text/plain": [
              "<Figure size 1000x600 with 1 Axes>"
            ],
            "image/png": "[encoded data removed]"
          },
          "metadata": {}
        },
        {
          "output_type": "display_data",
          "data": {
            "text/plain": [
              "<Figure size 1000x600 with 1 Axes>"
            ],
            "image/png": "[encoded data removed]"
          },
          "metadata": {}
        },
        {
          "output_type": "display_data",
          "data": {
            "text/plain": [
              "<Figure size 1000x600 with 1 Axes>"
            ],
            "image/png": "[encoded data removed]"
          },
          "metadata": {}
        },
        {
          "output_type": "display_data",
          "data": {
            "text/plain": [
              "<Figure size 1000x600 with 1 Axes>"
            ],
            "image/png": "[encoded data removed]"
          },
          "metadata": {}
        },
        {
          "output_type": "display_data",
          "data": {
            "text/plain": [
              "<Figure size 1000x600 with 1 Axes>"
            ],
            "image/png": "[encoded data removed]"
          },
          "metadata": {}
        },
        {
          "output_type": "display_data",
          "data": {
            "text/plain": [
              "<Figure size 1000x600 with 1 Axes>"
            ],
            "image/png": "[encoded data removed]"
          },
          "metadata": {}
        }
      ]
    },
    {
      "cell_type": "code",
      "source": [
        "\n",
        "from sklearn.impute import SimpleImputer\n",
        "\n",
        "\n",
        "def replace_outliers_with_nan(df):\n",
        "    for column in df.columns:\n",
        "        Q1 = df[column].quantile(0.25)\n",
        "        Q3 = df[column].quantile(0.75)\n",
        "        IQR = Q3 - Q1\n",
        "        Lower_bound = Q1 - 1.5 * IQR\n",
        "        Upper_bound = Q3 + 1.5 * IQR\n",
        "\n",
        "\n",
        "        outliers = df[column][(df[column] < Lower_bound) | (df[column] > Upper_bound)]\n",
        "        if not outliers.empty:\n",
        "            print(f\"OUTLIERS - {column}:\\n{outliers}\\n\")\n",
        "\n",
        "\n",
        "        df.loc[(df[column] < Lower_bound) | (df[column] > Upper_bound), column] = np.nan\n",
        "\n",
        "    return df\n",
        "\n",
        "\n",
        "df = replace_outliers_with_nan(df)\n",
        "\n",
        "\n",
        "imputer = SimpleImputer(strategy='mean')\n",
        "\n",
        "\n",
        "df= pd.DataFrame(imputer.fit_transform(df), columns=df.columns)\n",
        "\n",
        "\n",
        "print(df)\n"
      ],
      "metadata": {
        "colab": {
          "base_uri": "https://localhost:8080/"
        },
        "id": "m3u45Xm8jd7i",
        "outputId": "adca42cf-b7c5-494c-ea67-baa77701dbab"
      },
      "execution_count": 46,
      "outputs": [
        {
          "output_type": "stream",
          "name": "stdout",
          "text": [
            "OUTLIERS - CRIM:\n",
            "0      0.00632\n",
            "8      0.21124\n",
            "10     0.22489\n",
            "47     0.22927\n",
            "48     0.25387\n",
            "        ...   \n",
            "496    0.28960\n",
            "497    0.26838\n",
            "498    0.23912\n",
            "507    0.23456\n",
            "508    0.44433\n",
            "Name: CRIM, Length: 65, dtype: float64\n",
            "\n",
            "OUTLIERS - RM:\n",
            "99     7.416\n",
            "141    5.019\n",
            "144    4.903\n",
            "147    4.926\n",
            "152    5.012\n",
            "161    7.489\n",
            "231    7.412\n",
            "256    7.454\n",
            "261    7.520\n",
            "268    7.470\n",
            "306    7.420\n",
            "310    4.973\n",
            "366    4.963\n",
            "368    4.970\n",
            "373    4.906\n",
            "387    5.000\n",
            "453    7.393\n",
            "Name: RM, dtype: float64\n",
            "\n",
            "OUTLIERS - LSTAT:\n",
            "48     30.81\n",
            "384    30.63\n",
            "385    30.81\n",
            "Name: LSTAT, dtype: float64\n",
            "\n",
            "OUTLIERS - MEDV:\n",
            "2      34.7\n",
            "3      33.4\n",
            "40     34.9\n",
            "189    34.9\n",
            "196    33.3\n",
            "198    34.6\n",
            "199    34.9\n",
            "260    33.8\n",
            "273    35.2\n",
            "279    35.1\n",
            "306    33.4\n",
            "385     7.2\n",
            "387     7.4\n",
            "399     6.3\n",
            "400     5.6\n",
            "401     7.2\n",
            "414     7.0\n",
            "415     7.2\n",
            "489     7.0\n",
            "Name: MEDV, dtype: float64\n",
            "\n",
            "         CRIM  INDUS    NOX     RM   AGE     DIS  RAD    TAX  PTRATIO  \\\n",
            "0    0.106312   2.31  0.538  6.575  65.2  4.0900  1.0  296.0     15.3   \n",
            "1    0.027310   7.07  0.469  6.421  78.9  4.9671  2.0  242.0     17.8   \n",
            "2    0.027290   7.07  0.469  7.185  61.1  4.9671  2.0  242.0     17.8   \n",
            "3    0.032370   2.18  0.458  6.998  45.8  6.0622  3.0  222.0     18.7   \n",
            "4    0.069050   2.18  0.458  7.147  54.2  6.0622  3.0  222.0     18.7   \n",
            "..        ...    ...    ...    ...   ...     ...  ...    ...      ...   \n",
            "506  0.129482  12.50  0.561  6.980  89.0  2.0980  3.0  320.0     23.0   \n",
            "507  0.106312  12.50  0.561  6.980  76.0  2.6540  3.0  320.0     23.0   \n",
            "508  0.106312  12.50  0.561  6.123  98.0  2.9870  3.0  320.0     23.0   \n",
            "509  0.129482  12.70  0.561  6.222  34.0  2.5430  3.0  329.0     23.0   \n",
            "510  0.129482  12.80  0.561  6.760  67.0  2.9870  3.0  345.0     23.0   \n",
            "\n",
            "         LSTAT       MEDV  \n",
            "0     4.980000  24.000000  \n",
            "1     9.140000  21.600000  \n",
            "2     4.030000  20.376236  \n",
            "3     2.940000  20.376236  \n",
            "4     5.330000  20.466161  \n",
            "..         ...        ...  \n",
            "506  12.000000  12.000000  \n",
            "507  25.000000  32.000000  \n",
            "508  21.000000  20.466161  \n",
            "509  12.382351  20.466161  \n",
            "510  12.382351  24.000000  \n",
            "\n",
            "[511 rows x 11 columns]\n"
          ]
        }
      ]
    },
    {
      "cell_type": "code",
      "source": [
        "def remove_outliers(df):\n",
        "    Q1 = df.quantile(0.25)\n",
        "    Q3 = df.quantile(0.75)\n",
        "    IQR = Q3 - Q1\n",
        "    lower_bound = Q1 - 1.5 * IQR\n",
        "    upper_bound = Q3 + 1.5 * IQR\n",
        "\n",
        "    mask = (df < lower_bound) | (df > upper_bound)\n",
        "    mask = mask.any(axis=1)  # Create a mask with rows where any column is True\n",
        "\n",
        "    # Remove rows where any column value is outside the bounds\n",
        "    df_no_outliers = df.loc[~mask]\n",
        "\n",
        "    return df_no_outliers\n",
        "\n",
        "# Remove outliers from DataFrame\n",
        "df = remove_outliers(df)\n",
        "\n",
        "# Print the DataFrame without outliers\n",
        "print(\"DataFrame without outliers:\\n\", df)"
      ],
      "metadata": {
        "colab": {
          "base_uri": "https://localhost:8080/"
        },
        "id": "PDumNtpIsifK",
        "outputId": "7d0696e1-b42a-4d55-dc52-c2aa3953c922"
      },
      "execution_count": 53,
      "outputs": [
        {
          "output_type": "stream",
          "name": "stdout",
          "text": [
            "DataFrame without outliers:\n",
            "          CRIM  INDUS    NOX     RM   AGE     DIS  RAD    TAX  PTRATIO  \\\n",
            "0    0.106312   2.31  0.538  6.575  65.2  4.0900  1.0  296.0     15.3   \n",
            "1    0.027310   7.07  0.469  6.421  78.9  4.9671  2.0  242.0     17.8   \n",
            "2    0.027290   7.07  0.469  7.185  61.1  4.9671  2.0  242.0     17.8   \n",
            "3    0.032370   2.18  0.458  6.998  45.8  6.0622  3.0  222.0     18.7   \n",
            "4    0.069050   2.18  0.458  7.147  54.2  6.0622  3.0  222.0     18.7   \n",
            "..        ...    ...    ...    ...   ...     ...  ...    ...      ...   \n",
            "505  0.047410  11.93  0.573  6.030  80.8  2.5050  1.0  273.0     21.0   \n",
            "506  0.129482  12.50  0.561  6.980  89.0  2.0980  3.0  320.0     23.0   \n",
            "508  0.106312  12.50  0.561  6.123  98.0  2.9870  3.0  320.0     23.0   \n",
            "509  0.129482  12.70  0.561  6.222  34.0  2.5430  3.0  329.0     23.0   \n",
            "510  0.129482  12.80  0.561  6.760  67.0  2.9870  3.0  345.0     23.0   \n",
            "\n",
            "         LSTAT       MEDV  \n",
            "0     4.980000  24.000000  \n",
            "1     9.140000  21.600000  \n",
            "2     4.030000  20.376236  \n",
            "3     2.940000  20.376236  \n",
            "4     5.330000  20.466161  \n",
            "..         ...        ...  \n",
            "505   7.880000  11.900000  \n",
            "506  12.000000  12.000000  \n",
            "508  21.000000  20.466161  \n",
            "509  12.382351  20.466161  \n",
            "510  12.382351  24.000000  \n",
            "\n",
            "[476 rows x 11 columns]\n"
          ]
        }
      ]
    },
    {
      "cell_type": "code",
      "source": [
        "def show_boxplot(column):\n",
        "    plt.figure(figsize=(10,6))\n",
        "    sns.boxplot(x=column)\n",
        "    plt.show()\n",
        "\n",
        "for column in df.columns:\n",
        "    show_boxplot(df[column])"
      ],
      "metadata": {
        "colab": {
          "base_uri": "https://localhost:8080/",
          "height": 1000
        },
        "id": "c1pU_eJvtXvq",
        "outputId": "444b1dea-ce01-4804-9934-2bb504f56660"
      },
      "execution_count": 54,
      "outputs": [
        {
          "output_type": "display_data",
          "data": {
            "text/plain": [
              "<Figure size 1000x600 with 1 Axes>"
            ],
            "image/png": "[encoded data removed]"
          },
          "metadata": {}
        },
        {
          "output_type": "display_data",
          "data": {
            "text/plain": [
              "<Figure size 1000x600 with 1 Axes>"
            ],
            "image/png": "[encoded data removed]"
          },
          "metadata": {}
        },
        {
          "output_type": "display_data",
          "data": {
            "text/plain": [
              "<Figure size 1000x600 with 1 Axes>"
            ],
            "image/png": "[encoded data removed]"
          },
          "metadata": {}
        },
        {
          "output_type": "display_data",
          "data": {
            "text/plain": [
              "<Figure size 1000x600 with 1 Axes>"
            ],
            "image/png": "[encoded data removed]"
          },
          "metadata": {}
        },
        {
          "output_type": "display_data",
          "data": {
            "text/plain": [
              "<Figure size 1000x600 with 1 Axes>"
            ],
            "image/png": "[encoded data removed]"
          },
          "metadata": {}
        },
        {
          "output_type": "display_data",
          "data": {
            "text/plain": [
              "<Figure size 1000x600 with 1 Axes>"
            ],
            "image/png": "[encoded data removed]"
          },
          "metadata": {}
        },
        {
          "output_type": "display_data",
          "data": {
            "text/plain": [
              "<Figure size 1000x600 with 1 Axes>"
            ],
            "image/png": "[encoded data removed]"
          },
          "metadata": {}
        },
        {
          "output_type": "display_data",
          "data": {
            "text/plain": [
              "<Figure size 1000x600 with 1 Axes>"
            ],
            "image/png": "[encoded data removed]"
          },
          "metadata": {}
        },
        {
          "output_type": "display_data",
          "data": {
            "text/plain": [
              "<Figure size 1000x600 with 1 Axes>"
            ],
            "image/png": "[encoded data removed]"
          },
          "metadata": {}
        },
        {
          "output_type": "display_data",
          "data": {
            "text/plain": [
              "<Figure size 1000x600 with 1 Axes>"
            ],
            "image/png": "[encoded data removed]"
          },
          "metadata": {}
        },
        {
          "output_type": "display_data",
          "data": {
            "text/plain": [
              "<Figure size 1000x600 with 1 Axes>"
            ],
            "image/png": "[encoded data removed]"
          },
          "metadata": {}
        }
      ]
    },
    {
      "cell_type": "code",
      "source": [
        "df.columns\n"
      ],
      "metadata": {
        "colab": {
          "base_uri": "https://localhost:8080/"
        },
        "id": "lqAAtxgO0K5D",
        "outputId": "e0becbbb-a661-425d-89b9-c367522fe411"
      },
      "execution_count": 56,
      "outputs": [
        {
          "output_type": "execute_result",
          "data": {
            "text/plain": [
              "Index(['CRIM', 'INDUS', 'NOX', 'RM', 'AGE', 'DIS', 'RAD', 'TAX', 'PTRATIO',\n",
              "       'LSTAT', 'MEDV'],\n",
              "      dtype='object')"
            ]
          },
          "metadata": {},
          "execution_count": 56
        }
      ]
    },
    {
      "cell_type": "code",
      "source": [
        "df['CRIM']=pd.DataFrame(df['CRIM'])\n",
        "df['log_CRIM']=np.log(df['CRIM'])\n",
        "df['sqrt_CRIM']=np.sqrt(df['CRIM'])\n",
        "df.head()"
      ],
      "metadata": {
        "colab": {
          "base_uri": "https://localhost:8080/",
          "height": 255
        },
        "id": "M1UK6aB30cFZ",
        "outputId": "7912c173-586d-4b2a-d494-3c8285740c83"
      },
      "execution_count": 70,
      "outputs": [
        {
          "output_type": "execute_result",
          "data": {
            "text/plain": [
              "       CRIM  INDUS    NOX     RM   AGE     DIS  RAD    TAX  PTRATIO  LSTAT  \\\n",
              "0  0.106312  0.538  0.538  6.575  65.2  4.0900  1.0  296.0     15.3   4.98   \n",
              "1  0.027310  0.469  0.469  6.421  78.9  4.9671  2.0  242.0     17.8   9.14   \n",
              "2  0.027290  0.469  0.469  7.185  61.1  4.9671  2.0  242.0     17.8   4.03   \n",
              "3  0.032370  0.458  0.458  6.998  45.8  6.0622  3.0  222.0     18.7   2.94   \n",
              "4  0.069050  0.458  0.458  7.147  54.2  6.0622  3.0  222.0     18.7   5.33   \n",
              "\n",
              "   ...  log_CRIM  sqrt_CRIM  log_INDUS  sqrt_INDUS   log_NOX  sqrt_NOX  \\\n",
              "0  ... -2.241376   0.326055   0.837248    1.519868 -0.619897  0.733485   \n",
              "1  ... -3.600502   0.165257   1.955860    2.658947 -0.757153  0.684836   \n",
              "2  ... -3.601235   0.165197   1.955860    2.658947 -0.757153  0.684836   \n",
              "3  ... -3.430523   0.179917   0.779325    1.476482 -0.780886  0.676757   \n",
              "4  ... -2.672924   0.262774   0.779325    1.476482 -0.780886  0.676757   \n",
              "\n",
              "     log_RM   sqrt_RM   log_AGE  sqrt_AGE  \n",
              "0  1.883275  2.564176  4.177459  8.074652  \n",
              "1  1.859574  2.533969  4.368181  8.882567  \n",
              "2  1.971996  2.680485  4.112512  7.816649  \n",
              "3  1.945624  2.645373  3.824284  6.767570  \n",
              "4  1.966693  2.673387  3.992681  7.362065  \n",
              "\n",
              "[5 rows x 21 columns]"
            ],
            "text/html": [
              "\n",
              "  <div id=\"df-9962156d-8019-4dc8-8808-7c12e987f318\" class=\"colab-df-container\">\n",
              "    <div>\n",
              "<style scoped>\n",
              "    .dataframe tbody tr th:only-of-type {\n",
              "        vertical-align: middle;\n",
              "    }\n",
              "\n",
              "    .dataframe tbody tr th {\n",
              "        vertical-align: top;\n",
              "    }\n",
              "\n",
              "    .dataframe thead th {\n",
              "        text-align: right;\n",
              "    }\n",
              "</style>\n",
              "<table border=\"1\" class=\"dataframe\">\n",
              "  <thead>\n",
              "    <tr style=\"text-align: right;\">\n",
              "      <th></th>\n",
              "      <th>CRIM</th>\n",
              "      <th>INDUS</th>\n",
              "      <th>NOX</th>\n",
              "      <th>RM</th>\n",
              "      <th>AGE</th>\n",
              "      <th>DIS</th>\n",
              "      <th>RAD</th>\n",
              "      <th>TAX</th>\n",
              "      <th>PTRATIO</th>\n",
              "      <th>LSTAT</th>\n",
              "      <th>...</th>\n",
              "      <th>log_CRIM</th>\n",
              "      <th>sqrt_CRIM</th>\n",
              "      <th>log_INDUS</th>\n",
              "      <th>sqrt_INDUS</th>\n",
              "      <th>log_NOX</th>\n",
              "      <th>sqrt_NOX</th>\n",
              "      <th>log_RM</th>\n",
              "      <th>sqrt_RM</th>\n",
              "      <th>log_AGE</th>\n",
              "      <th>sqrt_AGE</th>\n",
              "    </tr>\n",
              "  </thead>\n",
              "  <tbody>\n",
              "    <tr>\n",
              "      <th>0</th>\n",
              "      <td>0.106312</td>\n",
              "      <td>0.538</td>\n",
              "      <td>0.538</td>\n",
              "      <td>6.575</td>\n",
              "      <td>65.2</td>\n",
              "      <td>4.0900</td>\n",
              "      <td>1.0</td>\n",
              "      <td>296.0</td>\n",
              "      <td>15.3</td>\n",
              "      <td>4.98</td>\n",
              "      <td>...</td>\n",
              "      <td>-2.241376</td>\n",
              "      <td>0.326055</td>\n",
              "      <td>0.837248</td>\n",
              "      <td>1.519868</td>\n",
              "      <td>-0.619897</td>\n",
              "      <td>0.733485</td>\n",
              "      <td>1.883275</td>\n",
              "      <td>2.564176</td>\n",
              "      <td>4.177459</td>\n",
              "      <td>8.074652</td>\n",
              "    </tr>\n",
              "    <tr>\n",
              "      <th>1</th>\n",
              "      <td>0.027310</td>\n",
              "      <td>0.469</td>\n",
              "      <td>0.469</td>\n",
              "      <td>6.421</td>\n",
              "      <td>78.9</td>\n",
              "      <td>4.9671</td>\n",
              "      <td>2.0</td>\n",
              "      <td>242.0</td>\n",
              "      <td>17.8</td>\n",
              "      <td>9.14</td>\n",
              "      <td>...</td>\n",
              "      <td>-3.600502</td>\n",
              "      <td>0.165257</td>\n",
              "      <td>1.955860</td>\n",
              "      <td>2.658947</td>\n",
              "      <td>-0.757153</td>\n",
              "      <td>0.684836</td>\n",
              "      <td>1.859574</td>\n",
              "      <td>2.533969</td>\n",
              "      <td>4.368181</td>\n",
              "      <td>8.882567</td>\n",
              "    </tr>\n",
              "    <tr>\n",
              "      <th>2</th>\n",
              "      <td>0.027290</td>\n",
              "      <td>0.469</td>\n",
              "      <td>0.469</td>\n",
              "      <td>7.185</td>\n",
              "      <td>61.1</td>\n",
              "      <td>4.9671</td>\n",
              "      <td>2.0</td>\n",
              "      <td>242.0</td>\n",
              "      <td>17.8</td>\n",
              "      <td>4.03</td>\n",
              "      <td>...</td>\n",
              "      <td>-3.601235</td>\n",
              "      <td>0.165197</td>\n",
              "      <td>1.955860</td>\n",
              "      <td>2.658947</td>\n",
              "      <td>-0.757153</td>\n",
              "      <td>0.684836</td>\n",
              "      <td>1.971996</td>\n",
              "      <td>2.680485</td>\n",
              "      <td>4.112512</td>\n",
              "      <td>7.816649</td>\n",
              "    </tr>\n",
              "    <tr>\n",
              "      <th>3</th>\n",
              "      <td>0.032370</td>\n",
              "      <td>0.458</td>\n",
              "      <td>0.458</td>\n",
              "      <td>6.998</td>\n",
              "      <td>45.8</td>\n",
              "      <td>6.0622</td>\n",
              "      <td>3.0</td>\n",
              "      <td>222.0</td>\n",
              "      <td>18.7</td>\n",
              "      <td>2.94</td>\n",
              "      <td>...</td>\n",
              "      <td>-3.430523</td>\n",
              "      <td>0.179917</td>\n",
              "      <td>0.779325</td>\n",
              "      <td>1.476482</td>\n",
              "      <td>-0.780886</td>\n",
              "      <td>0.676757</td>\n",
              "      <td>1.945624</td>\n",
              "      <td>2.645373</td>\n",
              "      <td>3.824284</td>\n",
              "      <td>6.767570</td>\n",
              "    </tr>\n",
              "    <tr>\n",
              "      <th>4</th>\n",
              "      <td>0.069050</td>\n",
              "      <td>0.458</td>\n",
              "      <td>0.458</td>\n",
              "      <td>7.147</td>\n",
              "      <td>54.2</td>\n",
              "      <td>6.0622</td>\n",
              "      <td>3.0</td>\n",
              "      <td>222.0</td>\n",
              "      <td>18.7</td>\n",
              "      <td>5.33</td>\n",
              "      <td>...</td>\n",
              "      <td>-2.672924</td>\n",
              "      <td>0.262774</td>\n",
              "      <td>0.779325</td>\n",
              "      <td>1.476482</td>\n",
              "      <td>-0.780886</td>\n",
              "      <td>0.676757</td>\n",
              "      <td>1.966693</td>\n",
              "      <td>2.673387</td>\n",
              "      <td>3.992681</td>\n",
              "      <td>7.362065</td>\n",
              "    </tr>\n",
              "  </tbody>\n",
              "</table>\n",
              "<p>5 rows × 21 columns</p>\n",
              "</div>\n",
              "    <div class=\"colab-df-buttons\">\n",
              "\n",
              "  <div class=\"colab-df-container\">\n",
              "    <button class=\"colab-df-convert\" onclick=\"convertToInteractive('df-9962156d-8019-4dc8-8808-7c12e987f318')\"\n",
              "            title=\"Convert this dataframe to an interactive table.\"\n",
              "            style=\"display:none;\">\n",
              "\n",
              "  <svg xmlns=\"http://www.w3.org/2000/svg\" height=\"24px\" viewBox=\"0 -960 960 960\">\n",
              "    <path d=\"M120-120v-720h720v720H120Zm60-500h600v-160H180v160Zm220 220h160v-160H400v160Zm0 220h160v-160H400v160ZM180-400h160v-160H180v160Zm440 0h160v-160H620v160ZM180-180h160v-160H180v160Zm440 0h160v-160H620v160Z\"/>\n",
              "  </svg>\n",
              "    </button>\n",
              "\n",
              "  <style>\n",
              "    .colab-df-container {\n",
              "      display:flex;\n",
              "      gap: 12px;\n",
              "    }\n",
              "\n",
              "    .colab-df-convert {\n",
              "      background-color: #E8F0FE;\n",
              "      border: none;\n",
              "      border-radius: 50%;\n",
              "      cursor: pointer;\n",
              "      display: none;\n",
              "      fill: #1967D2;\n",
              "      height: 32px;\n",
              "      padding: 0 0 0 0;\n",
              "      width: 32px;\n",
              "    }\n",
              "\n",
              "    .colab-df-convert:hover {\n",
              "      background-color: #E2EBFA;\n",
              "      box-shadow: 0px 1px 2px rgba(60, 64, 67, 0.3), 0px 1px 3px 1px rgba(60, 64, 67, 0.15);\n",
              "      fill: #174EA6;\n",
              "    }\n",
              "\n",
              "    .colab-df-buttons div {\n",
              "      margin-bottom: 4px;\n",
              "    }\n",
              "\n",
              "    [theme=dark] .colab-df-convert {\n",
              "      background-color: #3B4455;\n",
              "      fill: #D2E3FC;\n",
              "    }\n",
              "\n",
              "    [theme=dark] .colab-df-convert:hover {\n",
              "      background-color: #434B5C;\n",
              "      box-shadow: 0px 1px 3px 1px rgba(0, 0, 0, 0.15);\n",
              "      filter: drop-shadow(0px 1px 2px rgba(0, 0, 0, 0.3));\n",
              "      fill: #FFFFFF;\n",
              "    }\n",
              "  </style>\n",
              "\n",
              "    <script>\n",
              "      const buttonEl =\n",
              "        document.querySelector('#df-9962156d-8019-4dc8-8808-7c12e987f318 button.colab-df-convert');\n",
              "      buttonEl.style.display =\n",
              "        google.colab.kernel.accessAllowed ? 'block' : 'none';\n",
              "\n",
              "      async function convertToInteractive(key) {\n",
              "        const element = document.querySelector('#df-9962156d-8019-4dc8-8808-7c12e987f318');\n",
              "        const dataTable =\n",
              "          await google.colab.kernel.invokeFunction('convertToInteractive',\n",
              "                                                    [key], {});\n",
              "        if (!dataTable) return;\n",
              "\n",
              "        const docLinkHtml = 'Like what you see? Visit the ' +\n",
              "          '<a target=\"_blank\" href=https://colab.research.google.com/notebooks/data_table.ipynb>data table notebook</a>'\n",
              "          + ' to learn more about interactive tables.';\n",
              "        element.innerHTML = '';\n",
              "        dataTable['output_type'] = 'display_data';\n",
              "        await google.colab.output.renderOutput(dataTable, element);\n",
              "        const docLink = document.createElement('div');\n",
              "        docLink.innerHTML = docLinkHtml;\n",
              "        element.appendChild(docLink);\n",
              "      }\n",
              "    </script>\n",
              "  </div>\n",
              "\n",
              "\n",
              "<div id=\"df-57a08407-9cf4-40ea-b144-64456abd4797\">\n",
              "  <button class=\"colab-df-quickchart\" onclick=\"quickchart('df-57a08407-9cf4-40ea-b144-64456abd4797')\"\n",
              "            title=\"Suggest charts\"\n",
              "            style=\"display:none;\">\n",
              "\n",
              "<svg xmlns=\"http://www.w3.org/2000/svg\" height=\"24px\"viewBox=\"0 0 24 24\"\n",
              "     width=\"24px\">\n",
              "    <g>\n",
              "        <path d=\"M19 3H5c-1.1 0-2 .9-2 2v14c0 1.1.9 2 2 2h14c1.1 0 2-.9 2-2V5c0-1.1-.9-2-2-2zM9 17H7v-7h2v7zm4 0h-2V7h2v10zm4 0h-2v-4h2v4z\"/>\n",
              "    </g>\n",
              "</svg>\n",
              "  </button>\n",
              "\n",
              "<style>\n",
              "  .colab-df-quickchart {\n",
              "      --bg-color: #E8F0FE;\n",
              "      --fill-color: #1967D2;\n",
              "      --hover-bg-color: #E2EBFA;\n",
              "      --hover-fill-color: #174EA6;\n",
              "      --disabled-fill-color: #AAA;\n",
              "      --disabled-bg-color: #DDD;\n",
              "  }\n",
              "\n",
              "  [theme=dark] .colab-df-quickchart {\n",
              "      --bg-color: #3B4455;\n",
              "      --fill-color: #D2E3FC;\n",
              "      --hover-bg-color: #434B5C;\n",
              "      --hover-fill-color: #FFFFFF;\n",
              "      --disabled-bg-color: #3B4455;\n",
              "      --disabled-fill-color: #666;\n",
              "  }\n",
              "\n",
              "  .colab-df-quickchart {\n",
              "    background-color: var(--bg-color);\n",
              "    border: none;\n",
              "    border-radius: 50%;\n",
              "    cursor: pointer;\n",
              "    display: none;\n",
              "    fill: var(--fill-color);\n",
              "    height: 32px;\n",
              "    padding: 0;\n",
              "    width: 32px;\n",
              "  }\n",
              "\n",
              "  .colab-df-quickchart:hover {\n",
              "    background-color: var(--hover-bg-color);\n",
              "    box-shadow: 0 1px 2px rgba(60, 64, 67, 0.3), 0 1px 3px 1px rgba(60, 64, 67, 0.15);\n",
              "    fill: var(--button-hover-fill-color);\n",
              "  }\n",
              "\n",
              "  .colab-df-quickchart-complete:disabled,\n",
              "  .colab-df-quickchart-complete:disabled:hover {\n",
              "    background-color: var(--disabled-bg-color);\n",
              "    fill: var(--disabled-fill-color);\n",
              "    box-shadow: none;\n",
              "  }\n",
              "\n",
              "  .colab-df-spinner {\n",
              "    border: 2px solid var(--fill-color);\n",
              "    border-color: transparent;\n",
              "    border-bottom-color: var(--fill-color);\n",
              "    animation:\n",
              "      spin 1s steps(1) infinite;\n",
              "  }\n",
              "\n",
              "  @keyframes spin {\n",
              "    0% {\n",
              "      border-color: transparent;\n",
              "      border-bottom-color: var(--fill-color);\n",
              "      border-left-color: var(--fill-color);\n",
              "    }\n",
              "    20% {\n",
              "      border-color: transparent;\n",
              "      border-left-color: var(--fill-color);\n",
              "      border-top-color: var(--fill-color);\n",
              "    }\n",
              "    30% {\n",
              "      border-color: transparent;\n",
              "      border-left-color: var(--fill-color);\n",
              "      border-top-color: var(--fill-color);\n",
              "      border-right-color: var(--fill-color);\n",
              "    }\n",
              "    40% {\n",
              "      border-color: transparent;\n",
              "      border-right-color: var(--fill-color);\n",
              "      border-top-color: var(--fill-color);\n",
              "    }\n",
              "    60% {\n",
              "      border-color: transparent;\n",
              "      border-right-color: var(--fill-color);\n",
              "    }\n",
              "    80% {\n",
              "      border-color: transparent;\n",
              "      border-right-color: var(--fill-color);\n",
              "      border-bottom-color: var(--fill-color);\n",
              "    }\n",
              "    90% {\n",
              "      border-color: transparent;\n",
              "      border-bottom-color: var(--fill-color);\n",
              "    }\n",
              "  }\n",
              "</style>\n",
              "\n",
              "  <script>\n",
              "    async function quickchart(key) {\n",
              "      const quickchartButtonEl =\n",
              "        document.querySelector('#' + key + ' button');\n",
              "      quickchartButtonEl.disabled = true;  // To prevent multiple clicks.\n",
              "      quickchartButtonEl.classList.add('colab-df-spinner');\n",
              "      try {\n",
              "        const charts = await google.colab.kernel.invokeFunction(\n",
              "            'suggestCharts', [key], {});\n",
              "      } catch (error) {\n",
              "        console.error('Error during call to suggestCharts:', error);\n",
              "      }\n",
              "      quickchartButtonEl.classList.remove('colab-df-spinner');\n",
              "      quickchartButtonEl.classList.add('colab-df-quickchart-complete');\n",
              "    }\n",
              "    (() => {\n",
              "      let quickchartButtonEl =\n",
              "        document.querySelector('#df-57a08407-9cf4-40ea-b144-64456abd4797 button');\n",
              "      quickchartButtonEl.style.display =\n",
              "        google.colab.kernel.accessAllowed ? 'block' : 'none';\n",
              "    })();\n",
              "  </script>\n",
              "</div>\n",
              "\n",
              "    </div>\n",
              "  </div>\n"
            ],
            "application/vnd.google.colaboratory.intrinsic+json": {
              "type": "dataframe",
              "variable_name": "df"
            }
          },
          "metadata": {},
          "execution_count": 70
        }
      ]
    },
    {
      "cell_type": "code",
      "source": [
        "from scipy.stats import skew\n",
        "print(f\"Skewness of CRIM :{skew(df['CRIM'])}\")\n",
        "print(f\"skewness of log_CRIM :{skew(df['log_CRIM'])}\")\n",
        "print(f\"skwness of sqrt_CRIM :{skew(df['sqrt_CRIM'])}\")"
      ],
      "metadata": {
        "colab": {
          "base_uri": "https://localhost:8080/"
        },
        "id": "QTxSn9JC1fWJ",
        "outputId": "177c9ad0-50e1-4c8b-b909-d9adb1f4331a"
      },
      "execution_count": 58,
      "outputs": [
        {
          "output_type": "stream",
          "name": "stdout",
          "text": [
            "Skewness of CRIM :-0.6486036392341851\n",
            "skewness of log_CRIM :-1.5958511918224212\n",
            "skwness of sqrt_CRIM :-1.0967226374286554\n"
          ]
        }
      ]
    },
    {
      "cell_type": "code",
      "source": [
        "fig, axis=plt.subplots(1,3,figsize=(15,5))\n",
        "sns.histplot(x=df['CRIM'],ax=axis[0])\n",
        "sns.histplot(x=df['log_CRIM'],ax=axis[1])\n",
        "sns.histplot(x=df['sqrt_CRIM'],ax=axis[2])"
      ],
      "metadata": {
        "colab": {
          "base_uri": "https://localhost:8080/",
          "height": 435
        },
        "id": "XGOBO8Bs3Qtc",
        "outputId": "a4bc4e49-96a9-4aa6-8012-060657c5db6a"
      },
      "execution_count": 59,
      "outputs": [
        {
          "output_type": "execute_result",
          "data": {
            "text/plain": [
              "<Axes: xlabel='sqrt_CRIM', ylabel='Count'>"
            ]
          },
          "metadata": {},
          "execution_count": 59
        },
        {
          "output_type": "display_data",
          "data": {
            "text/plain": [
              "<Figure size 1500x500 with 3 Axes>"
            ],
            "image/png": "[encoded data removed]"
          },
          "metadata": {}
        }
      ]
    },
    {
      "cell_type": "code",
      "source": [
        "df['INDUS']=pd.DataFrame(df['INDUS'])\n",
        "df['log_INDUS']=np.log(df['INDUS'])\n",
        "df['sqrt_INDUS']=np.sqrt(df['INDUS'])\n",
        "\n",
        "print(f\"Skewness of INDUS :{skew(df['INDUS'])}\")\n",
        "print(f\"skewness of log_INDUS:{skew(df['log_INDUS'])}\")\n",
        "print(f\"skwness of sqrt_INDUS:{skew(df['sqrt_INDUS'])}\")"
      ],
      "metadata": {
        "colab": {
          "base_uri": "https://localhost:8080/"
        },
        "id": "XVHl_cwT4wrS",
        "outputId": "28903812-97e0-4776-c55b-b0050786fe3b"
      },
      "execution_count": 64,
      "outputs": [
        {
          "output_type": "stream",
          "name": "stdout",
          "text": [
            "Skewness of INDUS :0.29668687537633437\n",
            "skewness of log_INDUS:-0.586406135411196\n",
            "skwness of sqrt_INDUS:-0.0661892650050521\n"
          ]
        }
      ]
    },
    {
      "cell_type": "code",
      "source": [
        "fig, axis=plt.subplots(1,3,figsize=(15,5))\n",
        "sns.histplot(x=df['INDUS'],ax=axis[0])\n",
        "sns.histplot(x=df['log_INDUS'],ax=axis[1])\n",
        "sns.histplot(x=df['sqrt_INDUS'],ax=axis[2])"
      ],
      "metadata": {
        "colab": {
          "base_uri": "https://localhost:8080/",
          "height": 437
        },
        "id": "fdVR9_k0E-Sq",
        "outputId": "fa17d336-f34e-4a12-f4ba-505d0feeff44"
      },
      "execution_count": 61,
      "outputs": [
        {
          "output_type": "execute_result",
          "data": {
            "text/plain": [
              "<Axes: xlabel='sqrt_INDUS', ylabel='Count'>"
            ]
          },
          "metadata": {},
          "execution_count": 61
        },
        {
          "output_type": "display_data",
          "data": {
            "text/plain": [
              "<Figure size 1500x500 with 3 Axes>"
            ],
            "image/png": "[encoded data removed]"
          },
          "metadata": {}
        }
      ]
    },
    {
      "cell_type": "code",
      "source": [
        "df['INDUS']=pd.DataFrame(df['NOX'])\n",
        "df['log_NOX']=np.log(df['NOX'])\n",
        "df['sqrt_NOX']=np.sqrt(df['NOX'])\n",
        "\n",
        "print(f\"Skewness of NOX :{skew(df['NOX'])}\")\n",
        "print(f\"skewness of log_NOX:{skew(df['log_NOX'])}\")\n",
        "print(f\"skwness of sqrt_NOX:{skew(df['sqrt_NOX'])}\")"
      ],
      "metadata": {
        "colab": {
          "base_uri": "https://localhost:8080/"
        },
        "id": "4MmviGMrFB-2",
        "outputId": "855ab526-8022-4c9f-844d-401f8163636d"
      },
      "execution_count": 65,
      "outputs": [
        {
          "output_type": "stream",
          "name": "stdout",
          "text": [
            "Skewness of NOX :0.7954808553770407\n",
            "skewness of log_NOX:0.3968820818107369\n",
            "skwness of sqrt_NOX:0.5895468059543695\n"
          ]
        }
      ]
    },
    {
      "cell_type": "code",
      "source": [
        "fig, axis=plt.subplots(1,3,figsize=(15,5))\n",
        "sns.histplot(x=df['NOX'],ax=axis[0])\n",
        "sns.histplot(x=df['log_NOX'],ax=axis[1])\n",
        "sns.histplot(x=df['sqrt_NOX'],ax=axis[2])"
      ],
      "metadata": {
        "id": "2EoLSRsqFZYP"
      },
      "execution_count": null,
      "outputs": []
    },
    {
      "cell_type": "code",
      "source": [
        "df['log_RM']=np.log(df['RM'])\n",
        "df['sqrt_RM']=np.sqrt(df['RM'])\n",
        "\n",
        "print(f\"Skewness of RM :{skew(df['RM'])}\")\n",
        "print(f\"skewness of log_RM:{skew(df['log_RM'])}\")\n",
        "print(f\"skwness of sqrt_RM:{skew(df['sqrt_RM'])}\")"
      ],
      "metadata": {
        "colab": {
          "base_uri": "https://localhost:8080/"
        },
        "id": "L5b-uKkTFf0O",
        "outputId": "d4c91de1-7da5-46eb-ecc4-68bc85c29264"
      },
      "execution_count": 66,
      "outputs": [
        {
          "output_type": "stream",
          "name": "stdout",
          "text": [
            "Skewness of RM :0.20523637332061287\n",
            "skewness of log_RM:0.013227710487574982\n",
            "skwness of sqrt_RM:0.10964947715273708\n"
          ]
        }
      ]
    },
    {
      "cell_type": "code",
      "source": [
        "fig, axis=plt.subplots(1,3,figsize=(15,5))\n",
        "sns.histplot(x=df['RM'],ax=axis[0])\n",
        "sns.histplot(x=df['log_RM'],ax=axis[1])\n",
        "sns.histplot(x=df['sqrt_RM'],ax=axis[2])"
      ],
      "metadata": {
        "colab": {
          "base_uri": "https://localhost:8080/",
          "height": 441
        },
        "id": "HJ7M5E2xGEmg",
        "outputId": "3d4f9feb-c4ef-43ca-c6d6-58dfeb317196"
      },
      "execution_count": 67,
      "outputs": [
        {
          "output_type": "execute_result",
          "data": {
            "text/plain": [
              "<Axes: xlabel='sqrt_RM', ylabel='Count'>"
            ]
          },
          "metadata": {},
          "execution_count": 67
        },
        {
          "output_type": "display_data",
          "data": {
            "text/plain": [
              "<Figure size 1500x500 with 3 Axes>"
            ],
            "image/png": "[encoded data removed]"
          },
          "metadata": {}
        }
      ]
    },
    {
      "cell_type": "code",
      "source": [
        "df['log_AGE']=np.log(df['AGE'])\n",
        "df['sqrt_AGE']=np.sqrt(df['AGE'])\n",
        "\n",
        "print(f\"Skewness of AGE :{skew(df['AGE'])}\")\n",
        "print(f\"skewness of log_AGE:{skew(df['log_AGE'])}\")\n",
        "print(f\"skwness of sqrt_AGE:{skew(df['sqrt_AGE'])}\")"
      ],
      "metadata": {
        "colab": {
          "base_uri": "https://localhost:8080/"
        },
        "id": "2G1KjGIzGm-C",
        "outputId": "22459000-2979-40ea-e23d-58a8e9f4853e"
      },
      "execution_count": 68,
      "outputs": [
        {
          "output_type": "stream",
          "name": "stdout",
          "text": [
            "Skewness of AGE :-0.6047558419736674\n",
            "skewness of log_AGE:-1.7086443951490755\n",
            "skwness of sqrt_AGE:-0.992524228021412\n"
          ]
        }
      ]
    },
    {
      "cell_type": "code",
      "source": [
        "fig, axis=plt.subplots(1,3,figsize=(15,5))\n",
        "sns.histplot(x=df['AGE'],ax=axis[0])\n",
        "sns.histplot(x=df['log_AGE'],ax=axis[1])\n",
        "sns.histplot(x=df['sqrt_AGE'],ax=axis[2])"
      ],
      "metadata": {
        "colab": {
          "base_uri": "https://localhost:8080/",
          "height": 440
        },
        "id": "5EYi8R4PGlQk",
        "outputId": "ff46bfd6-319e-4e0d-e365-f205fee793aa"
      },
      "execution_count": 69,
      "outputs": [
        {
          "output_type": "execute_result",
          "data": {
            "text/plain": [
              "<Axes: xlabel='sqrt_AGE', ylabel='Count'>"
            ]
          },
          "metadata": {},
          "execution_count": 69
        },
        {
          "output_type": "display_data",
          "data": {
            "text/plain": [
              "<Figure size 1500x500 with 3 Axes>"
            ],
            "image/png": "[encoded data removed]"
          },
          "metadata": {}
        }
      ]
    },
    {
      "cell_type": "code",
      "source": [
        "df['log_DIS']=np.log(df['DIS'])\n",
        "df['sqrt_DIS']=np.sqrt(df['DIS'])\n",
        "\n",
        "print(f\"Skewness of DIS :{skew(df['DIS'])}\")\n",
        "print(f\"skewness of log_DIS:{skew(df['log_DIS'])}\")\n",
        "print(f\"skwness of sqrt_DIS:{skew(df['sqrt_DIS'])}\")"
      ],
      "metadata": {
        "colab": {
          "base_uri": "https://localhost:8080/"
        },
        "id": "8XAL-jIFS2Rj",
        "outputId": "45c5e506-faf2-4c1c-acd0-8c6ce6232543"
      },
      "execution_count": 71,
      "outputs": [
        {
          "output_type": "stream",
          "name": "stdout",
          "text": [
            "Skewness of DIS :0.8479099696246203\n",
            "skewness of log_DIS:0.09547748261106684\n",
            "skwness of sqrt_DIS:0.4755858298593074\n"
          ]
        }
      ]
    },
    {
      "cell_type": "code",
      "source": [
        "fig, axis=plt.subplots(1,3,figsize=(15,5))\n",
        "sns.histplot(x=df['DIS'],ax=axis[0])\n",
        "sns.histplot(x=df['log_DIS'],ax=axis[1])\n",
        "sns.histplot(x=df['sqrt_DIS'],ax=axis[2])"
      ],
      "metadata": {
        "colab": {
          "base_uri": "https://localhost:8080/",
          "height": 437
        },
        "id": "qUpANJZYTlfF",
        "outputId": "11af260c-cd8e-4112-b390-ab1d017c197d"
      },
      "execution_count": 72,
      "outputs": [
        {
          "output_type": "execute_result",
          "data": {
            "text/plain": [
              "<Axes: xlabel='sqrt_DIS', ylabel='Count'>"
            ]
          },
          "metadata": {},
          "execution_count": 72
        },
        {
          "output_type": "display_data",
          "data": {
            "text/plain": [
              "<Figure size 1500x500 with 3 Axes>"
            ],
            "image/png": "[encoded data removed]"
          },
          "metadata": {}
        }
      ]
    },
    {
      "cell_type": "code",
      "source": [
        "df['log_RAD']=np.log(df['RAD'])\n",
        "df['sqrt_RAD']=np.sqrt(df['RAD'])\n",
        "\n",
        "print(f\"Skewness of RAD:{skew(df['RAD'])}\")\n",
        "print(f\"skewness of log_RAD:{skew(df['log_RAD'])}\")\n",
        "print(f\"skwness of sqrt_RAD:{skew(df['sqrt_RAD'])}\")"
      ],
      "metadata": {
        "colab": {
          "base_uri": "https://localhost:8080/"
        },
        "id": "N_R9JqedT6qw",
        "outputId": "d6675598-d0ca-416e-dd75-736b74c617b1"
      },
      "execution_count": 73,
      "outputs": [
        {
          "output_type": "stream",
          "name": "stdout",
          "text": [
            "Skewness of RAD:1.0764117452474202\n",
            "skewness of log_RAD:0.3388494413719281\n",
            "skwness of sqrt_RAD:0.8891739068885381\n"
          ]
        }
      ]
    },
    {
      "cell_type": "code",
      "source": [
        "fig, axis=plt.subplots(1,3,figsize=(15,5))\n",
        "sns.histplot(x=df['RAD'],ax=axis[0])\n",
        "sns.histplot(x=df['log_RAD'],ax=axis[1])\n",
        "sns.histplot(x=df['sqrt_RAD'],ax=axis[2])"
      ],
      "metadata": {
        "colab": {
          "base_uri": "https://localhost:8080/",
          "height": 437
        },
        "id": "DzbkgIWZUQEK",
        "outputId": "9752051f-5cce-447f-a316-df972762b500"
      },
      "execution_count": 74,
      "outputs": [
        {
          "output_type": "execute_result",
          "data": {
            "text/plain": [
              "<Axes: xlabel='sqrt_RAD', ylabel='Count'>"
            ]
          },
          "metadata": {},
          "execution_count": 74
        },
        {
          "output_type": "display_data",
          "data": {
            "text/plain": [
              "<Figure size 1500x500 with 3 Axes>"
            ],
            "image/png": "[encoded data removed]"
          },
          "metadata": {}
        }
      ]
    },
    {
      "cell_type": "code",
      "source": [
        "df['log_TAX']=np.log(df['TAX'])\n",
        "df['sqrt_TAX']=np.sqrt(df['TAX'])\n",
        "\n",
        "print(f\"Skewness of TAX:{skew(df['RAD'])}\")\n",
        "print(f\"skewness of log_TAX:{skew(df['log_TAX'])}\")\n",
        "print(f\"skwness of sqrt_TAX:{skew(df['sqrt_TAX'])}\")"
      ],
      "metadata": {
        "colab": {
          "base_uri": "https://localhost:8080/"
        },
        "id": "arEMnQOcUYpn",
        "outputId": "c5a0da02-e23d-49d7-e316-5092d6885abd"
      },
      "execution_count": 75,
      "outputs": [
        {
          "output_type": "stream",
          "name": "stdout",
          "text": [
            "Skewness of TAX:1.0764117452474202\n",
            "skewness of log_TAX:0.36588551427908633\n",
            "skwness of sqrt_TAX:0.5695498597669347\n"
          ]
        }
      ]
    },
    {
      "cell_type": "code",
      "source": [
        "fig, axis=plt.subplots(1,3,figsize=(15,5))\n",
        "sns.histplot(x=df['TAX'],ax=axis[0])\n",
        "sns.histplot(x=df['log_TAX'],ax=axis[1])\n",
        "sns.histplot(x=df['sqrt_TAX'],ax=axis[2])"
      ],
      "metadata": {
        "colab": {
          "base_uri": "https://localhost:8080/",
          "height": 438
        },
        "id": "Olxb4gX9UwxF",
        "outputId": "64fab3ce-8ce3-4547-f295-6d015e3b18fc"
      },
      "execution_count": 76,
      "outputs": [
        {
          "output_type": "execute_result",
          "data": {
            "text/plain": [
              "<Axes: xlabel='sqrt_TAX', ylabel='Count'>"
            ]
          },
          "metadata": {},
          "execution_count": 76
        },
        {
          "output_type": "display_data",
          "data": {
            "text/plain": [
              "<Figure size 1500x500 with 3 Axes>"
            ],
            "image/png": "[encoded data removed]"
          },
          "metadata": {}
        }
      ]
    },
    {
      "cell_type": "code",
      "source": [],
      "metadata": {
        "colab": {
          "base_uri": "https://localhost:8080/"
        },
        "id": "4iqVp2w1U6Vj",
        "outputId": "6c29d2d5-a8f0-4958-c6de-d254e01043f5"
      },
      "execution_count": 78,
      "outputs": [
        {
          "output_type": "execute_result",
          "data": {
            "text/plain": [
              "Index(['CRIM', 'INDUS', 'NOX', 'RM', 'AGE', 'DIS', 'RAD', 'TAX', 'PTRATIO',\n",
              "       'LSTAT', 'MEDV', 'log_CRIM', 'sqrt_CRIM', 'log_INDUS', 'sqrt_INDUS',\n",
              "       'log_NOX', 'sqrt_NOX', 'log_RM', 'sqrt_RM', 'log_AGE', 'sqrt_AGE',\n",
              "       'log_DIS', 'sqrt_DIS', 'log_RAD', 'sqrt_RAD', 'log_TAX', 'sqrt_TAX'],\n",
              "      dtype='object')"
            ]
          },
          "metadata": {},
          "execution_count": 78
        }
      ]
    },
    {
      "cell_type": "code",
      "source": [],
      "metadata": {
        "id": "1Fsp4-FlU8VR"
      },
      "execution_count": null,
      "outputs": []
    }
  ]
}